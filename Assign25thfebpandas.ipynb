{
 "cells": [
  {
   "cell_type": "code",
   "execution_count": 2,
   "id": "27216f46-ce2e-400c-aaff-cb7eeb971cc0",
   "metadata": {},
   "outputs": [],
   "source": [
    "#Consider following code to answer further questions:\n",
    "import pandas as pd\n",
    "course_name = ['Data Science', 'Machine Learning', 'Big Data', 'Data Engineer']\n",
    "duration = [2,3,6,4]\n",
    "df = pd.DataFrame(data = {'course_name': course_name, 'duration' : duration})"
   ]
  },
  {
   "cell_type": "code",
   "execution_count": 3,
   "id": "9f376f98-fd93-45b3-b703-d64caca54a05",
   "metadata": {},
   "outputs": [
    {
     "data": {
      "text/html": [
       "<div>\n",
       "<style scoped>\n",
       "    .dataframe tbody tr th:only-of-type {\n",
       "        vertical-align: middle;\n",
       "    }\n",
       "\n",
       "    .dataframe tbody tr th {\n",
       "        vertical-align: top;\n",
       "    }\n",
       "\n",
       "    .dataframe thead th {\n",
       "        text-align: right;\n",
       "    }\n",
       "</style>\n",
       "<table border=\"1\" class=\"dataframe\">\n",
       "  <thead>\n",
       "    <tr style=\"text-align: right;\">\n",
       "      <th></th>\n",
       "      <th>course_name</th>\n",
       "      <th>duration</th>\n",
       "    </tr>\n",
       "  </thead>\n",
       "  <tbody>\n",
       "    <tr>\n",
       "      <th>0</th>\n",
       "      <td>Data Science</td>\n",
       "      <td>2</td>\n",
       "    </tr>\n",
       "    <tr>\n",
       "      <th>1</th>\n",
       "      <td>Machine Learning</td>\n",
       "      <td>3</td>\n",
       "    </tr>\n",
       "    <tr>\n",
       "      <th>2</th>\n",
       "      <td>Big Data</td>\n",
       "      <td>6</td>\n",
       "    </tr>\n",
       "    <tr>\n",
       "      <th>3</th>\n",
       "      <td>Data Engineer</td>\n",
       "      <td>4</td>\n",
       "    </tr>\n",
       "  </tbody>\n",
       "</table>\n",
       "</div>"
      ],
      "text/plain": [
       "        course_name  duration\n",
       "0      Data Science         2\n",
       "1  Machine Learning         3\n",
       "2          Big Data         6\n",
       "3     Data Engineer         4"
      ]
     },
     "execution_count": 3,
     "metadata": {},
     "output_type": "execute_result"
    }
   ],
   "source": [
    "df"
   ]
  },
  {
   "cell_type": "markdown",
   "id": "54806bb8-e04a-4b75-a910-24c68f502287",
   "metadata": {},
   "source": [
    "Q1. Write a code to print the data present in the second row of the dataframe, df?"
   ]
  },
  {
   "cell_type": "code",
   "execution_count": 5,
   "id": "d5e0f187-c821-4d55-88f1-e07cf4d6cdd0",
   "metadata": {},
   "outputs": [
    {
     "data": {
      "text/html": [
       "<div>\n",
       "<style scoped>\n",
       "    .dataframe tbody tr th:only-of-type {\n",
       "        vertical-align: middle;\n",
       "    }\n",
       "\n",
       "    .dataframe tbody tr th {\n",
       "        vertical-align: top;\n",
       "    }\n",
       "\n",
       "    .dataframe thead th {\n",
       "        text-align: right;\n",
       "    }\n",
       "</style>\n",
       "<table border=\"1\" class=\"dataframe\">\n",
       "  <thead>\n",
       "    <tr style=\"text-align: right;\">\n",
       "      <th></th>\n",
       "      <th>course_name</th>\n",
       "      <th>duration</th>\n",
       "    </tr>\n",
       "  </thead>\n",
       "  <tbody>\n",
       "    <tr>\n",
       "      <th>0</th>\n",
       "      <td>Data Science</td>\n",
       "      <td>2</td>\n",
       "    </tr>\n",
       "    <tr>\n",
       "      <th>1</th>\n",
       "      <td>Machine Learning</td>\n",
       "      <td>3</td>\n",
       "    </tr>\n",
       "    <tr>\n",
       "      <th>2</th>\n",
       "      <td>Big Data</td>\n",
       "      <td>6</td>\n",
       "    </tr>\n",
       "    <tr>\n",
       "      <th>3</th>\n",
       "      <td>Data Engineer</td>\n",
       "      <td>4</td>\n",
       "    </tr>\n",
       "  </tbody>\n",
       "</table>\n",
       "</div>"
      ],
      "text/plain": [
       "        course_name  duration\n",
       "0      Data Science         2\n",
       "1  Machine Learning         3\n",
       "2          Big Data         6\n",
       "3     Data Engineer         4"
      ]
     },
     "execution_count": 5,
     "metadata": {},
     "output_type": "execute_result"
    }
   ],
   "source": [
    "df"
   ]
  },
  {
   "cell_type": "raw",
   "id": "1d2f5928-050a-4197-adfa-11a258b2e0ab",
   "metadata": {},
   "source": [
    "QUESTION 2:What is the difference between the functions loc and iloc in pandas.DataFrame?\n",
    "SOLUTION: loc function uses the column labels as arguments to fetch the data of those columns whereas iloc function uses column indices to locate the required columns in the dataframe."
   ]
  },
  {
   "cell_type": "raw",
   "id": "0d13e03a-a0f4-4447-88e7-3a9aea9e490b",
   "metadata": {},
   "source": [
    "QUESTION 3:Reindex the given dataframe using a variable, reindex = [3,0,1,2] and store it in the variable, new_df then find the output for both new_df.loc[2] and new_df.iloc[2].\n",
    "Did you observe any difference in both the outputs? If so then explain it.\n",
    "SOLUTION:\n",
    "iloc fetches the data which is in the row with and in-built index 2.it assumes the first row to be index 0, no matter what the actual index number assigned to it is.\n",
    "Whereas loc considers whatever index is passed into it at face value and fetches the row with that exact index. If the index of row is 0 but it is not the first row at the dataframe, loc will still return the data of that row if we write df.loc[0]."
   ]
  },
  {
   "cell_type": "code",
   "execution_count": 6,
   "id": "559715fa-f3c1-4022-9223-87898b9665fb",
   "metadata": {},
   "outputs": [
    {
     "name": "stdout",
     "output_type": "stream",
     "text": [
      "course_name    Big Data\n",
      "duration              6\n",
      "Name: 2, dtype: object\n",
      "-----------\n",
      "course_name    Machine Learning\n",
      "duration                      3\n",
      "Name: 1, dtype: object\n"
     ]
    }
   ],
   "source": [
    "new_df = df.reindex([3,0,1,2])\n",
    "print(new_df.loc[2])\n",
    "print('-----------')\n",
    "print(new_df.iloc[2])"
   ]
  },
  {
   "cell_type": "code",
   "execution_count": 7,
   "id": "3ef2a0ba-503c-4a05-a985-e050ce2a015d",
   "metadata": {},
   "outputs": [
    {
     "data": {
      "text/html": [
       "<div>\n",
       "<style scoped>\n",
       "    .dataframe tbody tr th:only-of-type {\n",
       "        vertical-align: middle;\n",
       "    }\n",
       "\n",
       "    .dataframe tbody tr th {\n",
       "        vertical-align: top;\n",
       "    }\n",
       "\n",
       "    .dataframe thead th {\n",
       "        text-align: right;\n",
       "    }\n",
       "</style>\n",
       "<table border=\"1\" class=\"dataframe\">\n",
       "  <thead>\n",
       "    <tr style=\"text-align: right;\">\n",
       "      <th></th>\n",
       "      <th>column_1</th>\n",
       "      <th>column_2</th>\n",
       "      <th>column_3</th>\n",
       "      <th>column_4</th>\n",
       "      <th>column_5</th>\n",
       "      <th>column_6</th>\n",
       "    </tr>\n",
       "  </thead>\n",
       "  <tbody>\n",
       "    <tr>\n",
       "      <th>1</th>\n",
       "      <td>0.691089</td>\n",
       "      <td>0.729031</td>\n",
       "      <td>0.227933</td>\n",
       "      <td>0.586847</td>\n",
       "      <td>0.045213</td>\n",
       "      <td>0.959098</td>\n",
       "    </tr>\n",
       "    <tr>\n",
       "      <th>2</th>\n",
       "      <td>0.164219</td>\n",
       "      <td>0.344005</td>\n",
       "      <td>0.591616</td>\n",
       "      <td>0.556306</td>\n",
       "      <td>0.319460</td>\n",
       "      <td>0.068157</td>\n",
       "    </tr>\n",
       "    <tr>\n",
       "      <th>3</th>\n",
       "      <td>0.994953</td>\n",
       "      <td>0.561766</td>\n",
       "      <td>0.590455</td>\n",
       "      <td>0.035340</td>\n",
       "      <td>0.868450</td>\n",
       "      <td>0.499408</td>\n",
       "    </tr>\n",
       "    <tr>\n",
       "      <th>4</th>\n",
       "      <td>0.492586</td>\n",
       "      <td>0.689227</td>\n",
       "      <td>0.898199</td>\n",
       "      <td>0.068982</td>\n",
       "      <td>0.225027</td>\n",
       "      <td>0.852588</td>\n",
       "    </tr>\n",
       "    <tr>\n",
       "      <th>5</th>\n",
       "      <td>0.130625</td>\n",
       "      <td>0.154625</td>\n",
       "      <td>0.172074</td>\n",
       "      <td>0.690720</td>\n",
       "      <td>0.417006</td>\n",
       "      <td>0.344728</td>\n",
       "    </tr>\n",
       "    <tr>\n",
       "      <th>6</th>\n",
       "      <td>0.056503</td>\n",
       "      <td>0.764461</td>\n",
       "      <td>0.507050</td>\n",
       "      <td>0.050646</td>\n",
       "      <td>0.004913</td>\n",
       "      <td>0.990552</td>\n",
       "    </tr>\n",
       "  </tbody>\n",
       "</table>\n",
       "</div>"
      ],
      "text/plain": [
       "   column_1  column_2  column_3  column_4  column_5  column_6\n",
       "1  0.691089  0.729031  0.227933  0.586847  0.045213  0.959098\n",
       "2  0.164219  0.344005  0.591616  0.556306  0.319460  0.068157\n",
       "3  0.994953  0.561766  0.590455  0.035340  0.868450  0.499408\n",
       "4  0.492586  0.689227  0.898199  0.068982  0.225027  0.852588\n",
       "5  0.130625  0.154625  0.172074  0.690720  0.417006  0.344728\n",
       "6  0.056503  0.764461  0.507050  0.050646  0.004913  0.990552"
      ]
     },
     "execution_count": 7,
     "metadata": {},
     "output_type": "execute_result"
    }
   ],
   "source": [
    "import pandas as pd\n",
    "import numpy as np\n",
    "columns = ['column_1', 'column_2', 'column_3', 'column_4', 'column_5', 'column_6']\n",
    "indices = [1,2,3,4,5,6]\n",
    "#Creating a dataframe:\n",
    "df1 = pd.DataFrame(np.random.rand(6,6), columns = columns, index = indices)\n",
    "df1"
   ]
  },
  {
   "cell_type": "raw",
   "id": "60b6eebf-ac91-4c55-8b27-e7726c202ae2",
   "metadata": {},
   "source": [
    "QUESTION 4:Write a code to find the following statistical measurements for the above dataframe df1:\n",
    "(i) mean of each and every column present in the dataframe.\n",
    "(ii) standard deviation of column, ‘column_2’\n",
    "SOLUTION:"
   ]
  },
  {
   "cell_type": "code",
   "execution_count": 8,
   "id": "5cee52ef-3e29-4995-8d57-e99c5a64a31d",
   "metadata": {},
   "outputs": [
    {
     "data": {
      "text/plain": [
       "column_2    0.243222\n",
       "dtype: float64"
      ]
     },
     "execution_count": 8,
     "metadata": {},
     "output_type": "execute_result"
    }
   ],
   "source": [
    "#(i)\n",
    "df1.mean(axis=1)\n",
    "#(ii)\n",
    "df1.loc[:,['column_2']].std()"
   ]
  },
  {
   "cell_type": "raw",
   "id": "c1ac250d-ed40-433a-b8d1-3800acbed074",
   "metadata": {},
   "source": [
    "QUESTION 5:Q5. Replace the data present in the second row of column, ‘column_2’ by a string variable then find the mean of column, column_2.\n",
    "If you are getting errors in executing it then explain why.\n",
    "[Hint: To replace the data use df1.loc[] and equate this to string data of your choice.]\n",
    "SOLUTION:\n",
    "The code, as seen in the cell below, is giving error. This is because now, the data type of the data in column_2 is string and the mean of string data cannot be calculated. We can verify this change in datatype of column_2 data by the code\"df1.dtypes\".\n",
    "\n"
   ]
  },
  {
   "cell_type": "code",
   "execution_count": 9,
   "id": "87ce7563-6d24-4d90-b2b7-915e76c835d2",
   "metadata": {},
   "outputs": [
    {
     "name": "stderr",
     "output_type": "stream",
     "text": [
      "/tmp/ipykernel_1550/3509406234.py:4: FutureWarning: The default value of numeric_only in DataFrame.mean is deprecated. In a future version, it will default to False. In addition, specifying 'numeric_only=None' is deprecated. Select only valid columns or specify the value of numeric_only to silence this warning.\n",
      "  df1.loc[:,['column_2']].mean()\n"
     ]
    },
    {
     "data": {
      "text/plain": [
       "column_1    float64\n",
       "column_2     object\n",
       "column_3    float64\n",
       "column_4    float64\n",
       "column_5    float64\n",
       "column_6    float64\n",
       "dtype: object"
      ]
     },
     "execution_count": 9,
     "metadata": {},
     "output_type": "execute_result"
    }
   ],
   "source": [
    "df1['column_2'] = [str(x) for x in df1['column_2']]\n",
    "\n",
    "\n",
    "df1.loc[:,['column_2']].mean()\n",
    "df1.dtypes"
   ]
  },
  {
   "cell_type": "raw",
   "id": "ce236f27-c5a7-4594-9deb-74d6b1dbd9a7",
   "metadata": {},
   "source": [
    "QUESTION 6:Q6. What do you understand about the windows function in pandas and list the types of windows functions?\n",
    "SOLUTION:\n",
    "\n",
    "In pandas, a window function is a function that performs calculations across a rolling window of data.\n",
    "it is a powerful tool in data analysis and manipulation, especially in case of time-series data.\n",
    "There are 2 kinds of window functions:\n",
    "\n",
    "ROLLING WINDOW FUNCTION: they calculate the rolling window statistics over a specified window of time, where hte window is defined by a fixed number of observations or a time-based frequency.\n",
    "EXPANDING WINDOW FUNCTION: calculate a cumulative statistics over the entire history of data.\n"
   ]
  },
  {
   "cell_type": "code",
   "execution_count": 10,
   "id": "e641e8d2-dd3e-4003-b3c1-061f97e22eb6",
   "metadata": {},
   "outputs": [
    {
     "data": {
      "text/plain": [
       "'2023-05'"
      ]
     },
     "execution_count": 10,
     "metadata": {},
     "output_type": "execute_result"
    }
   ],
   "source": [
    "#QUESTION 7:Write a code to print only the current month and year at the time of answering this question. [Hint: Use pandas.datetime function]\n",
    "#SOLUTION:\n",
    "\n",
    "from datetime import datetime\n",
    "now = datetime.today().strftime(\"%Y-%m\")\n",
    "now"
   ]
  },
  {
   "cell_type": "code",
   "execution_count": 12,
   "id": "a70cd028-72bb-43fa-b84c-f806ae6f23dc",
   "metadata": {},
   "outputs": [
    {
     "name": "stdin",
     "output_type": "stream",
     "text": [
      "Enter first date(YYYY-MM-DD):  2023-04-09\n",
      "Enter second date(YYY-MM-DD):  2023-09-08\n"
     ]
    },
    {
     "name": "stdout",
     "output_type": "stream",
     "text": [
      "difference in days: 152\n",
      "difference in hours: 6\n",
      "difference in minutes: 9120\n"
     ]
    }
   ],
   "source": [
    "#QUESTION 8:Write a Python program that takes in two dates as input (in the format YYYY-MM-DD) and calculates the difference between them in days, hours, and minutes using Pandas time delta. The program should prompt the user to enter the dates and display the result.\n",
    "#SOLUTION:\n",
    "\n",
    "import pandas as pd\n",
    "date1 = pd.to_datetime(input('Enter first date(YYYY-MM-DD): '))\n",
    "date2 = pd.to_datetime(input('Enter second date(YYY-MM-DD): '))\n",
    "                       \n",
    "diff = date2-date1\n",
    "print(f'difference in days: {diff.days}')\n",
    "print(f'difference in hours: {diff.days // 24}')\n",
    "print(f'difference in minutes: {diff.days * 60}')"
   ]
  },
  {
   "cell_type": "raw",
   "id": "24fd1b03-7e24-4c20-8b9b-cc45c97ef038",
   "metadata": {},
   "source": [
    "QUESTION 9:Write a Python program that reads a CSV file containing categorical data and converts a specified column to a categorical data type. The program should prompt the user to enter the file path, column name, and category order, and then display the sorted data.\n",
    "SOLUTION:"
   ]
  },
  {
   "cell_type": "code",
   "execution_count": null,
   "id": "2b4084a7-df6a-4047-8ac6-cbaa02c008f1",
   "metadata": {},
   "outputs": [],
   "source": [
    "# file = input('Enter the path of the csv file: ')\n",
    "column = input('Enter the name of the column to be converted to a categorical data type: ')\n",
    "\n",
    "df = pd.read_csv(r'{}'.format(file))\n",
    "df[column] = pd.Categorical(df[column])\n",
    "\n",
    "category_order = input('Enter order of categories separated by commas: ').split(',')\n",
    "df[column] = df[column].cat.reorder_categories(category_order)\n",
    "\n",
    "#sorted data\n",
    "df = df.sort_values(by=[column])\n",
    " "
   ]
  },
  {
   "cell_type": "raw",
   "id": "952bdb56-8b82-4fa0-9b0c-890653e872f3",
   "metadata": {},
   "source": [
    "QUESTION 10:Write a Python program that reads a CSV file containing sales data for different products and visualizes the data using a stacked bar chart to show the sales of each product category over time. The program should prompt the user to enter the file path and display the chart.\n",
    "SOLUTION:"
   ]
  },
  {
   "cell_type": "code",
   "execution_count": 4,
   "id": "185bd902-7224-474b-99f9-d0e678054e97",
   "metadata": {},
   "outputs": [
    {
     "ename": "NameError",
     "evalue": "name 'plt' is not defined",
     "output_type": "error",
     "traceback": [
      "\u001b[0;31m---------------------------------------------------------------------------\u001b[0m",
      "\u001b[0;31mNameError\u001b[0m                                 Traceback (most recent call last)",
      "Cell \u001b[0;32mIn[4], line 21\u001b[0m\n\u001b[1;32m     18\u001b[0m df_pivot\u001b[38;5;241m=\u001b[39m df_grouped\u001b[38;5;241m.\u001b[39mpivot(index\u001b[38;5;241m=\u001b[39m\u001b[38;5;124m'\u001b[39m\u001b[38;5;124mdate\u001b[39m\u001b[38;5;124m'\u001b[39m, columns\u001b[38;5;241m=\u001b[39m\u001b[38;5;124m'\u001b[39m\u001b[38;5;124mcategory\u001b[39m\u001b[38;5;124m'\u001b[39m, values\u001b[38;5;241m=\u001b[39m\u001b[38;5;124m'\u001b[39m\u001b[38;5;124mquantity\u001b[39m\u001b[38;5;124m'\u001b[39m)\n\u001b[1;32m     19\u001b[0m df_pivot\u001b[38;5;241m.\u001b[39mplot(kind\u001b[38;5;241m=\u001b[39m\u001b[38;5;124m'\u001b[39m\u001b[38;5;124mbar\u001b[39m\u001b[38;5;124m'\u001b[39m,\n\u001b[1;32m     20\u001b[0m             stacked\u001b[38;5;241m=\u001b[39m\u001b[38;5;28;01mTrue\u001b[39;00m)\n\u001b[0;32m---> 21\u001b[0m \u001b[43mplt\u001b[49m\u001b[38;5;241m.\u001b[39mlegend(bbox_to_anchor\u001b[38;5;241m=\u001b[39m(\u001b[38;5;241m1.3\u001b[39m,\u001b[38;5;241m1\u001b[39m))\n\u001b[1;32m     22\u001b[0m plt\u001b[38;5;241m.\u001b[39mtitle(\u001b[38;5;124m'\u001b[39m\u001b[38;5;124mCATEGORY-WISE MONTHLY SALES DISTRIBUTION\u001b[39m\u001b[38;5;124m'\u001b[39m)\n\u001b[1;32m     23\u001b[0m plt\u001b[38;5;241m.\u001b[39mylabel(\u001b[38;5;124m'\u001b[39m\u001b[38;5;124mQuantity\u001b[39m\u001b[38;5;124m'\u001b[39m)\n",
      "\u001b[0;31mNameError\u001b[0m: name 'plt' is not defined"
     ]
    },
    {
     "data": {
      "image/png": "[encoded data removed]",
      "text/plain": [
       "<Figure size 640x480 with 1 Axes>"
      ]
     },
     "metadata": {},
     "output_type": "display_data"
    }
   ],
   "source": [
    "import numpy as np\n",
    "\n",
    "n=200\n",
    "category = np.random.choice(['Home','Work'], size=n)\n",
    "start_date = pd.to_datetime('2023-02-01')\n",
    "end_date = pd.to_datetime('2023-02-15')\n",
    "date = pd.date_range(start_date, end_date, periods=n)\n",
    "quantity = np.random.randint(1,10, size=n)\n",
    "\n",
    "df = pd.DataFrame({\n",
    "    'date' : date,\n",
    "    'category': category,\n",
    "    'quantity' : quantity,\n",
    "})\n",
    "\n",
    "df['date'] = df['date'].dt.date\n",
    "df_grouped = df.groupby(['category','date']).sum().reset_index()\n",
    "df_pivot= df_grouped.pivot(index='date', columns='category', values='quantity')\n",
    "df_pivot.plot(kind='bar',\n",
    "            stacked=True)\n",
    "plt.legend(bbox_to_anchor=(1.3,1))\n",
    "plt.title('CATEGORY-WISE MONTHLY SALES DISTRIBUTION')\n",
    "plt.ylabel('Quantity')\n",
    "plt.xlabel('Date');"
   ]
  },
  {
   "cell_type": "raw",
   "id": "71cad4d0-cadd-4ea7-a0e8-4a640ab7b562",
   "metadata": {},
   "source": [
    "QUESTION 11:Q11. You are given a CSV file containing student data that includes the student ID and their test score. Write a Python program that reads the CSV file, calculates the mean, median, and mode of the test scores, and displays the results in a table.\n",
    "The program should do the following:\n",
    "\n",
    "Prompt the user to enter the file path of the CSV file containing the student dataR\n",
    "Read the CSV file into a Pandas DataFrameR\n",
    "Calculate the mean, median, and mode of the test scores using Pandas tools\n",
    "Display the mean, median, and mode in a table.\n",
    "Assume the CSV file contains the following columns:\n",
    "\n",
    "Student ID: The ID of the studentR\n",
    "Test Score: The score of the student's test.\n",
    "Example usage of the program:\n",
    "Enter the file path of the CSV file containing the student data: student_data.csv\n",
    "\n",
    "Statistic\tValue\n",
    "Mean\t79.6\n",
    "Median\t82\n",
    "Mode\t85, 90\t\n",
    "Assume that the CSV file student_data.csv contains the following data:\n",
    "Student ID,Test Score\n",
    "1,85\n",
    "2,90\n",
    "3,80\n",
    "4,75\n",
    "5,85\n",
    "6,82\n",
    "7,78\n",
    "8,85\n",
    "9,90\n",
    "10,85\n",
    "The program should calculate the mean, median, and mode of the test scores and display the results"
   ]
  },
  {
   "cell_type": "code",
   "execution_count": null,
   "id": "ec119872-d6bb-4958-be90-b73aaca80754",
   "metadata": {},
   "outputs": [],
   "source": [
    "import pandas as pd\n",
    "import csv\n",
    "\n",
    "path = input(\"Enter the path of the csv file: \")\n",
    "\n",
    "scores_df = pd.read_csv(path)\n",
    "\n",
    "mean = scores_df['Test Score'].mean()\n",
    "median = scores_df['Test Score'].median()\n",
    "mode = scores_df['Test Score'].mode().iat[0]\n",
    "\n",
    "\n",
    "result_df = pd.DataFrame({\n",
    "    'Statistic' : ['Mean','Median','Mode'],\n",
    "    'Value' : [mean,median,mode]\n",
    "})\n",
    "\n",
    "#setting Statistic column as the index\n",
    "result_df.set_index('Statistic',inplace=True)\n",
    "\n",
    "#converting the result df to markdown table\n",
    "result_table = result_df.to_markdown()\n",
    "\n",
    "print(result_table)"
   ]
  },
  {
   "cell_type": "code",
   "execution_count": null,
   "id": "bcfcab57-beb7-4dea-b7ae-b99bf70bd63f",
   "metadata": {},
   "outputs": [],
   "source": [
    "#storing the student id and scores in a list\n",
    "\n",
    "data = [\n",
    "    ['Student ID','Test Score'],\n",
    "[1,85],\n",
    "[2,90],\n",
    "[3,80],\n",
    "[4,75],\n",
    "[5,85],\n",
    "[6,82],\n",
    "[7,78],\n",
    "[8,85],\n",
    "[9,90],\n",
    "[10,85]\n",
    "]\n",
    "\n",
    "#converting data into a pdf\n",
    "with open('wak.csv', 'w', newline='') as f:\n",
    "    writer = csv.writer(f)\n",
    "    \n",
    "    for row in data:\n",
    "        writer.writerow(row)"
   ]
  },
  {
   "cell_type": "code",
   "execution_count": null,
   "id": "3a34367d-4c6a-4748-ba2a-9cf4337e7334",
   "metadata": {},
   "outputs": [],
   "source": [
    "#reading the csv\n",
    "scores_df = pd.read_csv('wak.csv')\n",
    "\n",
    "mean = scores_df['Test Score'].mean()\n",
    "median = round(scores_df['Test Score'].median())\n",
    "mode = scores_df['Test Score'].mode().iat[0]\n",
    "\n",
    "data = [mean,median,mode]\n",
    "\n",
    "result_df = pd.DataFrame({\n",
    "    'Statistic' : ['Mean','Median','Mode'],\n",
    "    'Value' : [mean,median,mode]\n",
    "})\n",
    "\n",
    "result_df.set_index('Statistic',inplace=True)\n",
    "print(result_df.to_markdown())"
   ]
  },
  {
   "cell_type": "code",
   "execution_count": null,
   "id": "21176ea8-51a5-4f14-9837-66ac97e62657",
   "metadata": {},
   "outputs": [],
   "source": [
    "\n"
   ]
  }
 ],
 "metadata": {
  "kernelspec": {
   "display_name": "Python 3 (ipykernel)",
   "language": "python",
   "name": "python3"
  },
  "language_info": {
   "codemirror_mode": {
    "name": "ipython",
    "version": 3
   },
   "file_extension": ".py",
   "mimetype": "text/x-python",
   "name": "python",
   "nbconvert_exporter": "python",
   "pygments_lexer": "ipython3",
   "version": "3.10.8"
  }
 },
 "nbformat": 4,
 "nbformat_minor": 5
}

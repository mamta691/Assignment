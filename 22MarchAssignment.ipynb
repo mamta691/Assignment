{
 "cells": [
  {
   "cell_type": "markdown",
   "id": "0099cc02-c364-4a36-84f7-f48c25516bd1",
   "metadata": {},
   "source": [
    "# Question 1: Pearson correlation coefficient is a measure of the linear relationship between two variables. Suppose you have collected data on the amount of time students spend studying for an exam and their final exam scores. Calculate the Pearson correlation coefficient between these two variables and interpret the result.\n",
    "\n",
    "Answer :\n",
    "\n",
    "    To calculate the Pearson correlation coefficient between two variables, we need to compute the covariance and the standard deviation of each variable, and then use the formula:\n",
    "\n",
    "        r = cov(X, Y) / (std(X) * std(Y))\n",
    "\n",
    "\n",
    "        where X and Y are the two variables of interest.\n",
    "\n",
    "        Below is example code in python to calculate correlation between time spent studying and Final Exam Score"
   ]
  },
  {
   "cell_type": "code",
   "execution_count": 1,
   "id": "99d0ee5d-0932-4882-8101-8f9485070b1f",
   "metadata": {},
   "outputs": [
    {
     "data": {
      "text/html": [
       "<div>\n",
       "<style scoped>\n",
       "    .dataframe tbody tr th:only-of-type {\n",
       "        vertical-align: middle;\n",
       "    }\n",
       "\n",
       "    .dataframe tbody tr th {\n",
       "        vertical-align: top;\n",
       "    }\n",
       "\n",
       "    .dataframe thead th {\n",
       "        text-align: right;\n",
       "    }\n",
       "</style>\n",
       "<table border=\"1\" class=\"dataframe\">\n",
       "  <thead>\n",
       "    <tr style=\"text-align: right;\">\n",
       "      <th></th>\n",
       "      <th>time_studied</th>\n",
       "      <th>score</th>\n",
       "    </tr>\n",
       "  </thead>\n",
       "  <tbody>\n",
       "    <tr>\n",
       "      <th>0</th>\n",
       "      <td>11.324031</td>\n",
       "      <td>103.014204</td>\n",
       "    </tr>\n",
       "    <tr>\n",
       "      <th>1</th>\n",
       "      <td>5.839362</td>\n",
       "      <td>22.338745</td>\n",
       "    </tr>\n",
       "    <tr>\n",
       "      <th>2</th>\n",
       "      <td>10.430491</td>\n",
       "      <td>83.398362</td>\n",
       "    </tr>\n",
       "    <tr>\n",
       "      <th>3</th>\n",
       "      <td>7.501036</td>\n",
       "      <td>29.994925</td>\n",
       "    </tr>\n",
       "    <tr>\n",
       "      <th>4</th>\n",
       "      <td>9.656534</td>\n",
       "      <td>69.758755</td>\n",
       "    </tr>\n",
       "  </tbody>\n",
       "</table>\n",
       "</div>"
      ],
      "text/plain": [
       "   time_studied       score\n",
       "0     11.324031  103.014204\n",
       "1      5.839362   22.338745\n",
       "2     10.430491   83.398362\n",
       "3      7.501036   29.994925\n",
       "4      9.656534   69.758755"
      ]
     },
     "execution_count": 1,
     "metadata": {},
     "output_type": "execute_result"
    }
   ],
   "source": [
    "# Generate synthetic dataset\n",
    "import numpy as np\n",
    "import pandas as pd\n",
    "\n",
    "# Keep random seed for reproducibility\n",
    "np.random.seed(654)\n",
    "\n",
    "n = 1000\n",
    "time_studied = np.random.normal(loc=8, scale=2, size=n)\n",
    "score = (time_studied**2)-3*time_studied + 2 + np.random.normal(loc=0, scale=5, size=n)\n",
    "\n",
    "# Create dataframe\n",
    "df = pd.DataFrame({'time_studied':time_studied,\n",
    "                   'score':score})\n",
    "df.head()"
   ]
  },
  {
   "cell_type": "code",
   "execution_count": 2,
   "id": "431692c8-ab0e-49c5-b899-14fb4d6ddf7d",
   "metadata": {},
   "outputs": [
    {
     "data": {
      "text/html": [
       "<div>\n",
       "<style scoped>\n",
       "    .dataframe tbody tr th:only-of-type {\n",
       "        vertical-align: middle;\n",
       "    }\n",
       "\n",
       "    .dataframe tbody tr th {\n",
       "        vertical-align: top;\n",
       "    }\n",
       "\n",
       "    .dataframe thead th {\n",
       "        text-align: right;\n",
       "    }\n",
       "</style>\n",
       "<table border=\"1\" class=\"dataframe\">\n",
       "  <thead>\n",
       "    <tr style=\"text-align: right;\">\n",
       "      <th></th>\n",
       "      <th>time_studied</th>\n",
       "      <th>score</th>\n",
       "    </tr>\n",
       "  </thead>\n",
       "  <tbody>\n",
       "    <tr>\n",
       "      <th>time_studied</th>\n",
       "      <td>1.000000</td>\n",
       "      <td>0.963761</td>\n",
       "    </tr>\n",
       "    <tr>\n",
       "      <th>score</th>\n",
       "      <td>0.963761</td>\n",
       "      <td>1.000000</td>\n",
       "    </tr>\n",
       "  </tbody>\n",
       "</table>\n",
       "</div>"
      ],
      "text/plain": [
       "              time_studied     score\n",
       "time_studied      1.000000  0.963761\n",
       "score             0.963761  1.000000"
      ]
     },
     "execution_count": 2,
     "metadata": {},
     "output_type": "execute_result"
    }
   ],
   "source": [
    "cor = df.corr()\n",
    "cor"
   ]
  },
  {
   "cell_type": "code",
   "execution_count": 3,
   "id": "2fafe962-6b9c-4b3d-8e92-98614ea077ee",
   "metadata": {},
   "outputs": [
    {
     "data": {
      "text/plain": [
       "<AxesSubplot: title={'center': 'Time studied vs Score'}, xlabel='time_studied', ylabel='score'>"
      ]
     },
     "execution_count": 3,
     "metadata": {},
     "output_type": "execute_result"
    },
    {
     "data": {
      "image/png": "[encoded data removed]",
      "text/plain": [
       "<Figure size 640x480 with 1 Axes>"
      ]
     },
     "metadata": {},
     "output_type": "display_data"
    }
   ],
   "source": [
    "df.plot(kind='scatter',x='time_studied',y='score',title = 'Time studied vs Score',alpha=0.6)"
   ]
  },
  {
   "cell_type": "markdown",
   "id": "0847a1b0-4be9-48ab-a95c-3d6c97e382d5",
   "metadata": {},
   "source": [
    "Positive Correlation found between time studied and Final Score\n"
   ]
  },
  {
   "cell_type": "markdown",
   "id": "9591c39f-6ff8-4492-b9b2-346658b79e7e",
   "metadata": {},
   "source": [
    "#Q2. Spearman's rank correlation is a measure of the monotonic relationship between two variables. Suppose you have collected data on the amount of sleep individuals get each night and their overall job satisfaction level on a scale of 1 to 10. Calculate the Spearman's rank correlation between these two variables and interpret the result.\n",
    "\n",
    "To calculate the Spearman's rank correlation between the amount of sleep individuals get each night and their overall job satisfaction level on a scale of 1 to 10, you will need to have data on both variables for each individual. Once you have this data, you can use a statistical software package, such as Microsoft Excel or SPSS, to calculate the Spearman's rank correlation coefficient.\n",
    "\n",
    "The Spearman's rank correlation coefficient is a number between -1 and 1 that indicates the strength and direction of the monotonic relationship between two variables. A correlation coefficient of 0 indicates no monotonic relationship between the variables, while a coefficient of 1 or -1 indicates a perfect monotonic relationship, either positive or negative, respectively.\n",
    "\n",
    "Interpreting the Spearman's rank correlation coefficient in the context of this example, a positive correlation coefficient would indicate that there is a positive monotonic relationship between the amount of sleep individuals get each night and their overall job satisfaction level. In other words, as the amount of sleep increases, job satisfaction tends to increase as well. Conversely, a negative correlation coefficient would indicate a negative monotonic relationship between these variables, meaning that as the amount of sleep decreases, job satisfaction tends to decrease.\n",
    "\n",
    "It is important to note that the Spearman's rank correlation coefficient measures the monotonic relationship between two variables, not necessarily the linear relationship. This means that the relationship between the two variables may not be perfectly linear, but may still be monotonic. Additionally, as with the Pearson correlation coefficient, correlation does not imply causation, and there may be other factors that influence the relationship between sleep and job satisfaction."
   ]
  },
  {
   "cell_type": "code",
   "execution_count": 5,
   "id": "027dc016-d746-4ead-b3fb-eed1b702e8fb",
   "metadata": {},
   "outputs": [
    {
     "data": {
      "text/html": [
       "<div>\n",
       "<style scoped>\n",
       "    .dataframe tbody tr th:only-of-type {\n",
       "        vertical-align: middle;\n",
       "    }\n",
       "\n",
       "    .dataframe tbody tr th {\n",
       "        vertical-align: top;\n",
       "    }\n",
       "\n",
       "    .dataframe thead th {\n",
       "        text-align: right;\n",
       "    }\n",
       "</style>\n",
       "<table border=\"1\" class=\"dataframe\">\n",
       "  <thead>\n",
       "    <tr style=\"text-align: right;\">\n",
       "      <th></th>\n",
       "      <th>sleep</th>\n",
       "      <th>Job Satisfaction</th>\n",
       "    </tr>\n",
       "  </thead>\n",
       "  <tbody>\n",
       "    <tr>\n",
       "      <th>0</th>\n",
       "      <td>8</td>\n",
       "      <td>9</td>\n",
       "    </tr>\n",
       "    <tr>\n",
       "      <th>1</th>\n",
       "      <td>7</td>\n",
       "      <td>6</td>\n",
       "    </tr>\n",
       "    <tr>\n",
       "      <th>2</th>\n",
       "      <td>6</td>\n",
       "      <td>4</td>\n",
       "    </tr>\n",
       "    <tr>\n",
       "      <th>3</th>\n",
       "      <td>5</td>\n",
       "      <td>7</td>\n",
       "    </tr>\n",
       "    <tr>\n",
       "      <th>4</th>\n",
       "      <td>8</td>\n",
       "      <td>8</td>\n",
       "    </tr>\n",
       "    <tr>\n",
       "      <th>5</th>\n",
       "      <td>7</td>\n",
       "      <td>5</td>\n",
       "    </tr>\n",
       "    <tr>\n",
       "      <th>6</th>\n",
       "      <td>6</td>\n",
       "      <td>3</td>\n",
       "    </tr>\n",
       "    <tr>\n",
       "      <th>7</th>\n",
       "      <td>5</td>\n",
       "      <td>6</td>\n",
       "    </tr>\n",
       "    <tr>\n",
       "      <th>8</th>\n",
       "      <td>4</td>\n",
       "      <td>2</td>\n",
       "    </tr>\n",
       "    <tr>\n",
       "      <th>9</th>\n",
       "      <td>7</td>\n",
       "      <td>7</td>\n",
       "    </tr>\n",
       "  </tbody>\n",
       "</table>\n",
       "</div>"
      ],
      "text/plain": [
       "   sleep  Job Satisfaction\n",
       "0      8                 9\n",
       "1      7                 6\n",
       "2      6                 4\n",
       "3      5                 7\n",
       "4      8                 8\n",
       "5      7                 5\n",
       "6      6                 3\n",
       "7      5                 6\n",
       "8      4                 2\n",
       "9      7                 7"
      ]
     },
     "execution_count": 5,
     "metadata": {},
     "output_type": "execute_result"
    }
   ],
   "source": [
    "import pandas as pd\n",
    "dct = {\n",
    "    'sleep': [8,7,6,5,8,7,6,5,4,7],\n",
    "    'Job Satisfaction' : [9,6,4,7,8,5,3,6,2,7]\n",
    "}\n",
    "df = pd.DataFrame(dct)\n",
    "df"
   ]
  },
  {
   "cell_type": "code",
   "execution_count": 6,
   "id": "8d62cb76-80c0-48f7-8048-9e5e3958d35d",
   "metadata": {},
   "outputs": [
    {
     "data": {
      "text/html": [
       "<div>\n",
       "<style scoped>\n",
       "    .dataframe tbody tr th:only-of-type {\n",
       "        vertical-align: middle;\n",
       "    }\n",
       "\n",
       "    .dataframe tbody tr th {\n",
       "        vertical-align: top;\n",
       "    }\n",
       "\n",
       "    .dataframe thead th {\n",
       "        text-align: right;\n",
       "    }\n",
       "</style>\n",
       "<table border=\"1\" class=\"dataframe\">\n",
       "  <thead>\n",
       "    <tr style=\"text-align: right;\">\n",
       "      <th></th>\n",
       "      <th>sleep</th>\n",
       "      <th>Job Satisfaction</th>\n",
       "    </tr>\n",
       "  </thead>\n",
       "  <tbody>\n",
       "    <tr>\n",
       "      <th>0</th>\n",
       "      <td>9.5</td>\n",
       "      <td>10.0</td>\n",
       "    </tr>\n",
       "    <tr>\n",
       "      <th>1</th>\n",
       "      <td>7.0</td>\n",
       "      <td>5.5</td>\n",
       "    </tr>\n",
       "    <tr>\n",
       "      <th>2</th>\n",
       "      <td>4.5</td>\n",
       "      <td>3.0</td>\n",
       "    </tr>\n",
       "    <tr>\n",
       "      <th>3</th>\n",
       "      <td>2.5</td>\n",
       "      <td>7.5</td>\n",
       "    </tr>\n",
       "    <tr>\n",
       "      <th>4</th>\n",
       "      <td>9.5</td>\n",
       "      <td>9.0</td>\n",
       "    </tr>\n",
       "    <tr>\n",
       "      <th>5</th>\n",
       "      <td>7.0</td>\n",
       "      <td>4.0</td>\n",
       "    </tr>\n",
       "    <tr>\n",
       "      <th>6</th>\n",
       "      <td>4.5</td>\n",
       "      <td>2.0</td>\n",
       "    </tr>\n",
       "    <tr>\n",
       "      <th>7</th>\n",
       "      <td>2.5</td>\n",
       "      <td>5.5</td>\n",
       "    </tr>\n",
       "    <tr>\n",
       "      <th>8</th>\n",
       "      <td>1.0</td>\n",
       "      <td>1.0</td>\n",
       "    </tr>\n",
       "    <tr>\n",
       "      <th>9</th>\n",
       "      <td>7.0</td>\n",
       "      <td>7.5</td>\n",
       "    </tr>\n",
       "  </tbody>\n",
       "</table>\n",
       "</div>"
      ],
      "text/plain": [
       "   sleep  Job Satisfaction\n",
       "0    9.5              10.0\n",
       "1    7.0               5.5\n",
       "2    4.5               3.0\n",
       "3    2.5               7.5\n",
       "4    9.5               9.0\n",
       "5    7.0               4.0\n",
       "6    4.5               2.0\n",
       "7    2.5               5.5\n",
       "8    1.0               1.0\n",
       "9    7.0               7.5"
      ]
     },
     "execution_count": 6,
     "metadata": {},
     "output_type": "execute_result"
    }
   ],
   "source": [
    "df.rank()"
   ]
  },
  {
   "cell_type": "code",
   "execution_count": 7,
   "id": "3f832155-2dc2-4394-b05a-20db6e74d27f",
   "metadata": {},
   "outputs": [
    {
     "data": {
      "text/html": [
       "<div>\n",
       "<style scoped>\n",
       "    .dataframe tbody tr th:only-of-type {\n",
       "        vertical-align: middle;\n",
       "    }\n",
       "\n",
       "    .dataframe tbody tr th {\n",
       "        vertical-align: top;\n",
       "    }\n",
       "\n",
       "    .dataframe thead th {\n",
       "        text-align: right;\n",
       "    }\n",
       "</style>\n",
       "<table border=\"1\" class=\"dataframe\">\n",
       "  <thead>\n",
       "    <tr style=\"text-align: right;\">\n",
       "      <th></th>\n",
       "      <th>sleep</th>\n",
       "      <th>Job Satisfaction</th>\n",
       "    </tr>\n",
       "  </thead>\n",
       "  <tbody>\n",
       "    <tr>\n",
       "      <th>sleep</th>\n",
       "      <td>1.000000</td>\n",
       "      <td>0.660516</td>\n",
       "    </tr>\n",
       "    <tr>\n",
       "      <th>Job Satisfaction</th>\n",
       "      <td>0.660516</td>\n",
       "      <td>1.000000</td>\n",
       "    </tr>\n",
       "  </tbody>\n",
       "</table>\n",
       "</div>"
      ],
      "text/plain": [
       "                     sleep  Job Satisfaction\n",
       "sleep             1.000000          0.660516\n",
       "Job Satisfaction  0.660516          1.000000"
      ]
     },
     "execution_count": 7,
     "metadata": {},
     "output_type": "execute_result"
    }
   ],
   "source": [
    "df.rank().corr()"
   ]
  },
  {
   "cell_type": "code",
   "execution_count": 9,
   "id": "131fee7d-4fd1-461a-9e18-36a76bfc75a7",
   "metadata": {},
   "outputs": [
    {
     "data": {
      "text/html": [
       "<div>\n",
       "<style scoped>\n",
       "    .dataframe tbody tr th:only-of-type {\n",
       "        vertical-align: middle;\n",
       "    }\n",
       "\n",
       "    .dataframe tbody tr th {\n",
       "        vertical-align: top;\n",
       "    }\n",
       "\n",
       "    .dataframe thead th {\n",
       "        text-align: right;\n",
       "    }\n",
       "</style>\n",
       "<table border=\"1\" class=\"dataframe\">\n",
       "  <thead>\n",
       "    <tr style=\"text-align: right;\">\n",
       "      <th></th>\n",
       "      <th>sleep</th>\n",
       "      <th>Job Satisfaction</th>\n",
       "    </tr>\n",
       "  </thead>\n",
       "  <tbody>\n",
       "    <tr>\n",
       "      <th>sleep</th>\n",
       "      <td>1.000000</td>\n",
       "      <td>0.660516</td>\n",
       "    </tr>\n",
       "    <tr>\n",
       "      <th>Job Satisfaction</th>\n",
       "      <td>0.660516</td>\n",
       "      <td>1.000000</td>\n",
       "    </tr>\n",
       "  </tbody>\n",
       "</table>\n",
       "</div>"
      ],
      "text/plain": [
       "                     sleep  Job Satisfaction\n",
       "sleep             1.000000          0.660516\n",
       "Job Satisfaction  0.660516          1.000000"
      ]
     },
     "execution_count": 9,
     "metadata": {},
     "output_type": "execute_result"
    }
   ],
   "source": [
    "df.corr(method='spearman')"
   ]
  },
  {
   "cell_type": "markdown",
   "id": "aeb233f3-b8aa-472e-8738-c78af8eb52a8",
   "metadata": {},
   "source": [
    "A Spearman's correlation coefficient of 0.66 indicates a moderately strong positive correlation between two variables. The range of Spearman's correlation coefficient is from -1 to +1, where -1 represents a perfectly negative correlation, 0 represents no correlation, and +1 represents a perfectly positive correlation.\n",
    "In the case of a Spearman's correlation coefficient of 0.66, the two variables being compared have a strong tendency to move together in the same direction. However, the relationship may not be perfect, and there may be some variation or noise in the data."
   ]
  },
  {
   "cell_type": "markdown",
   "id": "60e3faef-5a5b-4f1e-af4a-9af7f88b31b5",
   "metadata": {},
   "source": [
    "Question 3 : Suppose you are conducting a study to examine the relationship between the number of hours of exercise per week and body mass index (BMI) in a sample of adults. You collected data on both variables for 50 participants. Calculate the Pearson correlation coefficient and the Spearman's rank correlation between these two variables and compare the results.\n",
    "\n",
    "Answer :\n",
    "\n",
    "    Below is sample data generated for 50 datapoints in python between exercise hours amd BMI\n"
   ]
  },
  {
   "cell_type": "code",
   "execution_count": 10,
   "id": "18a76e74-6279-4721-8969-b33f4ce53871",
   "metadata": {},
   "outputs": [
    {
     "data": {
      "text/html": [
       "<div>\n",
       "<style scoped>\n",
       "    .dataframe tbody tr th:only-of-type {\n",
       "        vertical-align: middle;\n",
       "    }\n",
       "\n",
       "    .dataframe tbody tr th {\n",
       "        vertical-align: top;\n",
       "    }\n",
       "\n",
       "    .dataframe thead th {\n",
       "        text-align: right;\n",
       "    }\n",
       "</style>\n",
       "<table border=\"1\" class=\"dataframe\">\n",
       "  <thead>\n",
       "    <tr style=\"text-align: right;\">\n",
       "      <th></th>\n",
       "      <th>exercise_hours</th>\n",
       "      <th>BMI</th>\n",
       "    </tr>\n",
       "  </thead>\n",
       "  <tbody>\n",
       "    <tr>\n",
       "      <th>0</th>\n",
       "      <td>2.471109</td>\n",
       "      <td>55.258468</td>\n",
       "    </tr>\n",
       "    <tr>\n",
       "      <th>1</th>\n",
       "      <td>2.793320</td>\n",
       "      <td>39.882961</td>\n",
       "    </tr>\n",
       "    <tr>\n",
       "      <th>2</th>\n",
       "      <td>4.832300</td>\n",
       "      <td>32.852014</td>\n",
       "    </tr>\n",
       "    <tr>\n",
       "      <th>3</th>\n",
       "      <td>6.554555</td>\n",
       "      <td>11.110522</td>\n",
       "    </tr>\n",
       "    <tr>\n",
       "      <th>4</th>\n",
       "      <td>5.991560</td>\n",
       "      <td>20.349710</td>\n",
       "    </tr>\n",
       "  </tbody>\n",
       "</table>\n",
       "</div>"
      ],
      "text/plain": [
       "   exercise_hours        BMI\n",
       "0        2.471109  55.258468\n",
       "1        2.793320  39.882961\n",
       "2        4.832300  32.852014\n",
       "3        6.554555  11.110522\n",
       "4        5.991560  20.349710"
      ]
     },
     "execution_count": 10,
     "metadata": {},
     "output_type": "execute_result"
    }
   ],
   "source": [
    "import pandas as pd\n",
    "import numpy as np\n",
    "\n",
    "# Set Random seed\n",
    "np.random.seed(987)\n",
    "\n",
    "# Generate Sample Data\n",
    "n = 50\n",
    "exercise_hours = np.random.normal(loc=5 , scale=1.5, size=n)\n",
    "BMI = 125/exercise_hours + np.random.normal(loc=0, scale=5, size=n)\n",
    "\n",
    "# Generate Dataframe\n",
    "df = pd.DataFrame({'exercise_hours':exercise_hours,\n",
    "                   'BMI':BMI})\n",
    "df.head()"
   ]
  },
  {
   "cell_type": "markdown",
   "id": "cd83af1f-1686-42e7-a885-0b79f29f51e9",
   "metadata": {},
   "source": [
    "## Pearson's Correlation## "
   ]
  },
  {
   "cell_type": "code",
   "execution_count": 11,
   "id": "03afb8a7-56b0-4864-b441-b0fb933f67a7",
   "metadata": {},
   "outputs": [
    {
     "data": {
      "text/html": [
       "<div>\n",
       "<style scoped>\n",
       "    .dataframe tbody tr th:only-of-type {\n",
       "        vertical-align: middle;\n",
       "    }\n",
       "\n",
       "    .dataframe tbody tr th {\n",
       "        vertical-align: top;\n",
       "    }\n",
       "\n",
       "    .dataframe thead th {\n",
       "        text-align: right;\n",
       "    }\n",
       "</style>\n",
       "<table border=\"1\" class=\"dataframe\">\n",
       "  <thead>\n",
       "    <tr style=\"text-align: right;\">\n",
       "      <th></th>\n",
       "      <th>exercise_hours</th>\n",
       "      <th>BMI</th>\n",
       "    </tr>\n",
       "  </thead>\n",
       "  <tbody>\n",
       "    <tr>\n",
       "      <th>exercise_hours</th>\n",
       "      <td>1.000000</td>\n",
       "      <td>-0.850817</td>\n",
       "    </tr>\n",
       "    <tr>\n",
       "      <th>BMI</th>\n",
       "      <td>-0.850817</td>\n",
       "      <td>1.000000</td>\n",
       "    </tr>\n",
       "  </tbody>\n",
       "</table>\n",
       "</div>"
      ],
      "text/plain": [
       "                exercise_hours       BMI\n",
       "exercise_hours        1.000000 -0.850817\n",
       "BMI                  -0.850817  1.000000"
      ]
     },
     "execution_count": 11,
     "metadata": {},
     "output_type": "execute_result"
    }
   ],
   "source": [
    "pearson_corr = df.corr(method='pearson')\n",
    "pearson_corr"
   ]
  },
  {
   "cell_type": "markdown",
   "id": "e6bcf4c5-e210-435d-8f51-0f2fd600b704",
   "metadata": {},
   "source": [
    "## Spearmans Correlation"
   ]
  },
  {
   "cell_type": "code",
   "execution_count": 12,
   "id": "b10a7e70-29f6-4557-a14f-6af22189a99b",
   "metadata": {},
   "outputs": [
    {
     "data": {
      "text/html": [
       "<div>\n",
       "<style scoped>\n",
       "    .dataframe tbody tr th:only-of-type {\n",
       "        vertical-align: middle;\n",
       "    }\n",
       "\n",
       "    .dataframe tbody tr th {\n",
       "        vertical-align: top;\n",
       "    }\n",
       "\n",
       "    .dataframe thead th {\n",
       "        text-align: right;\n",
       "    }\n",
       "</style>\n",
       "<table border=\"1\" class=\"dataframe\">\n",
       "  <thead>\n",
       "    <tr style=\"text-align: right;\">\n",
       "      <th></th>\n",
       "      <th>exercise_hours</th>\n",
       "      <th>BMI</th>\n",
       "    </tr>\n",
       "  </thead>\n",
       "  <tbody>\n",
       "    <tr>\n",
       "      <th>exercise_hours</th>\n",
       "      <td>1.000000</td>\n",
       "      <td>-0.864298</td>\n",
       "    </tr>\n",
       "    <tr>\n",
       "      <th>BMI</th>\n",
       "      <td>-0.864298</td>\n",
       "      <td>1.000000</td>\n",
       "    </tr>\n",
       "  </tbody>\n",
       "</table>\n",
       "</div>"
      ],
      "text/plain": [
       "                exercise_hours       BMI\n",
       "exercise_hours        1.000000 -0.864298\n",
       "BMI                  -0.864298  1.000000"
      ]
     },
     "execution_count": 12,
     "metadata": {},
     "output_type": "execute_result"
    }
   ],
   "source": [
    "spearman_corr = df.corr(method='spearman')\n",
    "spearman_corr\n"
   ]
  },
  {
   "cell_type": "markdown",
   "id": "7135edd9-4cd5-4cae-afb8-27a225205c88",
   "metadata": {},
   "source": [
    "## Both Spearman's Correlation and Pearson's Correlation show's strong negative Correlation between BMI and exercise time"
   ]
  },
  {
   "cell_type": "code",
   "execution_count": 13,
   "id": "f38fba57-3a30-4d1f-81d1-e993d86993e1",
   "metadata": {},
   "outputs": [
    {
     "data": {
      "text/plain": [
       "<AxesSubplot: title={'center': 'BMI vs Exercise Hours'}, xlabel='exercise_hours', ylabel='BMI'>"
      ]
     },
     "execution_count": 13,
     "metadata": {},
     "output_type": "execute_result"
    },
    {
     "data": {
      "image/png": "[encoded data removed]",
      "text/plain": [
       "<Figure size 640x480 with 1 Axes>"
      ]
     },
     "metadata": {},
     "output_type": "display_data"
    }
   ],
   "source": [
    "df.plot(kind='scatter',x='exercise_hours',y='BMI',title='BMI vs Exercise Hours')"
   ]
  },
  {
   "cell_type": "code",
   "execution_count": 14,
   "id": "8c5ef688-6fdf-42b4-bd20-eef881e04f24",
   "metadata": {},
   "outputs": [
    {
     "data": {
      "text/plain": [
       "<AxesSubplot: xlabel='exercise_hours', ylabel='BMI'>"
      ]
     },
     "execution_count": 14,
     "metadata": {},
     "output_type": "execute_result"
    },
    {
     "data": {
      "image/png": "[encoded data removed]",
      "text/plain": [
       "<Figure size 640x480 with 1 Axes>"
      ]
     },
     "metadata": {},
     "output_type": "display_data"
    }
   ],
   "source": [
    "import seaborn as sns\n",
    "sns.regplot(data=df,x='exercise_hours',y='BMI',line_kws={\"color\": \"red\"},ci=95)"
   ]
  },
  {
   "cell_type": "markdown",
   "id": "a4e4f3c4-f02e-4d47-97fa-8caefcd680c6",
   "metadata": {},
   "source": [
    "## Question 4 : A researcher is interested in examining the relationship between the number of hours individuals spend watching television per day and their level of physical activity. The researcher collected data on both variables from a sample of 50 participants. Calculate the Pearson correlation coefficient between these two variables.\n",
    "Answer :\n",
    "Below is python code for above"
   ]
  },
  {
   "cell_type": "code",
   "execution_count": 15,
   "id": "728922b6-3857-470e-a87f-399069b77c5c",
   "metadata": {},
   "outputs": [
    {
     "name": "stdout",
     "output_type": "stream",
     "text": [
      "   tv_hours  physical_activity\n",
      "0  1.914369           6.541393\n",
      "1  3.997345           2.713702\n",
      "2  3.282978           6.312734\n",
      "3  1.493705           9.244079\n",
      "4  2.421400           6.224447\n",
      "\n",
      "===========================================================\n",
      "\n",
      "Pearson correlation coefficient: -0.5795118368116692\n"
     ]
    }
   ],
   "source": [
    "import numpy as np\n",
    "import pandas as pd\n",
    "from scipy.stats import pearsonr\n",
    "\n",
    "# Set the random seed for reproducibility\n",
    "np.random.seed(123)\n",
    "\n",
    "# Generate synthetic data for hours of TV watching and physical activity\n",
    "tv_hours = np.random.normal(3, 1, 50)\n",
    "physical_activity = 15/tv_hours + np.random.normal(0,1,50)\n",
    "\n",
    "# Showing Dataframe\n",
    "df = pd.DataFrame({'tv_hours':tv_hours,'physical_activity':physical_activity})\n",
    "print(df.head())\n",
    "\n",
    "print('\\n===========================================================\\n')\n",
    "\n",
    "# Compute the Pearson correlation coefficient and p-value\n",
    "corr, pval = pearsonr(tv_hours, physical_activity)\n",
    "\n",
    "# Print the results\n",
    "print(\"Pearson correlation coefficient:\", corr)"
   ]
  },
  {
   "cell_type": "markdown",
   "id": "dbf32235-c103-4dbb-abfd-bb6764b18292",
   "metadata": {},
   "source": [
    "## Moderate Negative Correlation found between tv_hours and phyiscal_activity\n",
    "\n",
    "In this example, we first import the NumPy library and the pearsonr function from the SciPy library. We then set the random seed for reproducibility and generate synthetic data for the number of hours individuals spend watching television per day and their level of physical activity, using the np.random.normal() function.\n",
    "\n",
    "# Next, we use the pearsonr() function to calculate the Pearson correlation coefficient between the two variables, and store the results in the corr and pval variables. Finally, we print the results to the console.\n",
    "\n",
    "Note that the pearsonr() function returns two values: the Pearson correlation coefficient and the corresponding p-value. The p-value is a measure of the strength of evidence against the null hypothesis of no correlation, and a p-value less than 0.05 is generally considered to be statistically significant."
   ]
  },
  {
   "cell_type": "code",
   "execution_count": 16,
   "id": "40e08147-3f80-421f-bac6-4acaae66be26",
   "metadata": {},
   "outputs": [
    {
     "data": {
      "text/plain": [
       "<AxesSubplot: xlabel='tv_hours', ylabel='physical_activity'>"
      ]
     },
     "execution_count": 16,
     "metadata": {},
     "output_type": "execute_result"
    },
    {
     "data": {
      "image/png": "[encoded data removed]",
      "text/plain": [
       "<Figure size 640x480 with 1 Axes>"
      ]
     },
     "metadata": {},
     "output_type": "display_data"
    }
   ],
   "source": [
    "import seaborn as sns\n",
    "sns.regplot(data=df,x='tv_hours',y='physical_activity',line_kws={'color':'red'},ci=95)"
   ]
  },
  {
   "cell_type": "markdown",
   "id": "aaa5f67d-4cf7-4d25-a58a-a02b56cac2e3",
   "metadata": {},
   "source": [
    "## Q5. A survey was conducted to examine the relationship between age and preference for a particular brand of soft drink. The survey results are shown below:\n",
    "\n",
    "Age(Years) Soft drink Preference 25 Coke 42 Pepsi 37 Mountain dew 19 Coke 31 Pepsi 28 Coke"
   ]
  },
  {
   "cell_type": "markdown",
   "id": "14897ab8-f1bd-40f6-97da-6072248f8fe4",
   "metadata": {},
   "source": [
    "# Answer :\n",
    "To check if there is significant relationship between continuous and categorical variables ANOVA can be used# "
   ]
  },
  {
   "cell_type": "code",
   "execution_count": 17,
   "id": "e88e0ed3-a048-47e7-af57-a5c5603ec943",
   "metadata": {},
   "outputs": [
    {
     "data": {
      "text/html": [
       "<div>\n",
       "<style scoped>\n",
       "    .dataframe tbody tr th:only-of-type {\n",
       "        vertical-align: middle;\n",
       "    }\n",
       "\n",
       "    .dataframe tbody tr th {\n",
       "        vertical-align: top;\n",
       "    }\n",
       "\n",
       "    .dataframe thead th {\n",
       "        text-align: right;\n",
       "    }\n",
       "</style>\n",
       "<table border=\"1\" class=\"dataframe\">\n",
       "  <thead>\n",
       "    <tr style=\"text-align: right;\">\n",
       "      <th></th>\n",
       "      <th>Age</th>\n",
       "      <th>Soft Drink Preference</th>\n",
       "    </tr>\n",
       "  </thead>\n",
       "  <tbody>\n",
       "    <tr>\n",
       "      <th>0</th>\n",
       "      <td>25</td>\n",
       "      <td>Coke</td>\n",
       "    </tr>\n",
       "    <tr>\n",
       "      <th>1</th>\n",
       "      <td>42</td>\n",
       "      <td>Pepsi</td>\n",
       "    </tr>\n",
       "    <tr>\n",
       "      <th>2</th>\n",
       "      <td>37</td>\n",
       "      <td>Mountain Dew</td>\n",
       "    </tr>\n",
       "    <tr>\n",
       "      <th>3</th>\n",
       "      <td>19</td>\n",
       "      <td>Coke</td>\n",
       "    </tr>\n",
       "    <tr>\n",
       "      <th>4</th>\n",
       "      <td>31</td>\n",
       "      <td>Pepsi</td>\n",
       "    </tr>\n",
       "    <tr>\n",
       "      <th>5</th>\n",
       "      <td>28</td>\n",
       "      <td>Coke</td>\n",
       "    </tr>\n",
       "  </tbody>\n",
       "</table>\n",
       "</div>"
      ],
      "text/plain": [
       "   Age Soft Drink Preference\n",
       "0   25                  Coke\n",
       "1   42                 Pepsi\n",
       "2   37          Mountain Dew\n",
       "3   19                  Coke\n",
       "4   31                 Pepsi\n",
       "5   28                  Coke"
      ]
     },
     "execution_count": 17,
     "metadata": {},
     "output_type": "execute_result"
    }
   ],
   "source": [
    "import pandas as pd\n",
    "data = {'Age': [25, 42, 37, 19, 31, 28],\n",
    "        'Soft Drink Preference': ['Coke', 'Pepsi', 'Mountain Dew', 'Coke', 'Pepsi', 'Coke']}\n",
    "df = pd.DataFrame(data)\n",
    "df"
   ]
  },
  {
   "cell_type": "code",
   "execution_count": 18,
   "id": "cd5e2806-f9fe-4d8b-965f-f9da9d802cf7",
   "metadata": {},
   "outputs": [
    {
     "name": "stdout",
     "output_type": "stream",
     "text": [
      "F-statistic: 3.524390243902438\n",
      "p-value: 0.1631217391539759\n"
     ]
    }
   ],
   "source": [
    "# Perform f oneway test\n",
    "from scipy.stats import f_oneway\n",
    "coke = df[df['Soft Drink Preference'] == 'Coke']['Age']\n",
    "pepsi = df[df['Soft Drink Preference'] == 'Pepsi']['Age']\n",
    "mountain_dew = df[df['Soft Drink Preference'] == 'Mountain Dew']['Age']\n",
    "\n",
    "f_statistic, p_value = f_oneway(coke, pepsi, mountain_dew)\n",
    "print('F-statistic:', f_statistic)\n",
    "print('p-value:', p_value)"
   ]
  },
  {
   "cell_type": "code",
   "execution_count": 19,
   "id": "76365aa5-bfd6-47c1-81b9-603ddf2d9207",
   "metadata": {},
   "outputs": [
    {
     "name": "stdout",
     "output_type": "stream",
     "text": [
      "FAIL to reject the Null Hypothesis\n",
      "Conclusion : Age and Soft Drink Preference are INDEPENDENT of each other\n"
     ]
    }
   ],
   "source": [
    "# Assuming alpha value of 0.05 \n",
    "alpha = 0.05\n",
    "if p_value < alpha:\n",
    "    print('Reject the Null Hypothesis')\n",
    "    print('Conclusion : Age and Soft Drink Preference are DEPENDENT of each other')\n",
    "else:\n",
    "    print('FAIL to reject the Null Hypothesis')\n",
    "    print('Conclusion : Age and Soft Drink Preference are INDEPENDENT of each other')"
   ]
  },
  {
   "cell_type": "code",
   "execution_count": 20,
   "id": "c1addf25-2db0-47f6-946f-d5f20d3a015e",
   "metadata": {},
   "outputs": [
    {
     "data": {
      "text/plain": [
       "<AxesSubplot: xlabel='Soft Drink Preference', ylabel='Age'>"
      ]
     },
     "execution_count": 20,
     "metadata": {},
     "output_type": "execute_result"
    },
    {
     "data": {
      "image/png": "[encoded data removed]",
      "text/plain": [
       "<Figure size 640x480 with 1 Axes>"
      ]
     },
     "metadata": {},
     "output_type": "display_data"
    }
   ],
   "source": [
    "import seaborn as sns\n",
    "sns.boxplot(data=df,x='Soft Drink Preference',y='Age')"
   ]
  },
  {
   "cell_type": "markdown",
   "id": "3b5543e2-e67a-4427-8e9e-c56dcd56bb3c",
   "metadata": {},
   "source": [
    "# Question 6 : A company is interested in examining the relationship between the number of sales calls made per day and the number of sales made per week. The company collected data on both variables from a sample of 30 sales representatives. Calculate the Pearson correlation coefficient between these two variables.\n",
    "# Answer :\n",
    "To calculate the Pearson correlation coefficient between the number of sales calls made per day and the number of sales made per week, we can use the pearsonr function from the scipy.stats module in Python. Here is an example code:"
   ]
  },
  {
   "cell_type": "code",
   "execution_count": 21,
   "id": "5da02bd0-e8ed-4de6-b5e6-fe81042428b5",
   "metadata": {},
   "outputs": [
    {
     "name": "stdout",
     "output_type": "stream",
     "text": [
      "   sales_calls  sales_per_week\n",
      "0           97            18.0\n",
      "1           69            14.0\n",
      "2           88             6.0\n",
      "3           62             7.0\n",
      "4           74             9.0\n",
      "\n",
      "==============================================\n",
      "\n",
      "Pearson correlation coefficient: 0.53\n",
      "p-value: 0.00\n"
     ]
    }
   ],
   "source": [
    "import numpy as np\n",
    "import pandas as pd\n",
    "from scipy.stats import pearsonr\n",
    "\n",
    "# Generate synthetic data\n",
    "np.random.seed(1234)  # for reproducibility\n",
    "sales_calls = np.random.randint(50, 100, size=30)\n",
    "sales_per_week = np.round(sales_calls * np.random.uniform(0.05, 0.2, size=30), decimals=0)\n",
    "\n",
    "# Create dataframe for printing\n",
    "df = pd.DataFrame({'sales_calls':sales_calls,'sales_per_week':sales_per_week})\n",
    "print(df.head())\n",
    "\n",
    "print('\\n==============================================\\n')\n",
    "\n",
    "# Calculate Pearson correlation coefficient\n",
    "corr_coef, p_value = pearsonr(sales_calls, sales_per_week)\n",
    "\n",
    "print(\"Pearson correlation coefficient: {:.2f}\".format(corr_coef))\n",
    "print(\"p-value: {:.2f}\".format(p_value))"
   ]
  },
  {
   "cell_type": "markdown",
   "id": "673d8b3a-a21b-4193-89ae-52d160cc80e3",
   "metadata": {},
   "source": [
    "## Pearson correlation of 0.53 shows moderately positive correlation between sales call per week and sales per week"
   ]
  },
  {
   "cell_type": "code",
   "execution_count": 22,
   "id": "cea32774-6db6-4d46-bfaa-f6e637299ea7",
   "metadata": {},
   "outputs": [
    {
     "data": {
      "text/plain": [
       "<AxesSubplot: xlabel='sales_calls', ylabel='sales_per_week'>"
      ]
     },
     "execution_count": 22,
     "metadata": {},
     "output_type": "execute_result"
    },
    {
     "data": {
      "image/png": "[encoded data removed]",
      "text/plain": [
       "<Figure size 640x480 with 1 Axes>"
      ]
     },
     "metadata": {},
     "output_type": "display_data"
    }
   ],
   "source": [
    "import seaborn as sns\n",
    "sns.regplot(data=df, x = 'sales_calls', y='sales_per_week',line_kws={'color':'red'},ci=95)"
   ]
  },
  {
   "cell_type": "code",
   "execution_count": null,
   "id": "56a541a2-e824-40e4-8e5f-0b6bc6289e75",
   "metadata": {},
   "outputs": [],
   "source": []
  }
 ],
 "metadata": {
  "kernelspec": {
   "display_name": "Python 3 (ipykernel)",
   "language": "python",
   "name": "python3"
  },
  "language_info": {
   "codemirror_mode": {
    "name": "ipython",
    "version": 3
   },
   "file_extension": ".py",
   "mimetype": "text/x-python",
   "name": "python",
   "nbconvert_exporter": "python",
   "pygments_lexer": "ipython3",
   "version": "3.10.8"
  }
 },
 "nbformat": 4,
 "nbformat_minor": 5
}

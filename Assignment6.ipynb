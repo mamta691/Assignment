{
 "cells": [
  {
   "cell_type": "markdown",
   "id": "8d3284b9-26e8-48fe-9b43-38f314ae4b68",
   "metadata": {},
   "source": [
    "Q1. Write a program to accept ercentage from the user and display the grade according to the following criteria?"
   ]
  },
  {
   "cell_type": "code",
   "execution_count": 18,
   "id": "56b53ed5-cf2c-45c2-9a54-43399135df4e",
   "metadata": {},
   "outputs": [
    {
     "name": "stdin",
     "output_type": "stream",
     "text": [
      "enter percentage value from user: 60\n"
     ]
    },
    {
     "name": "stdout",
     "output_type": "stream",
     "text": [
      "Grade C\n"
     ]
    }
   ],
   "source": [
    "perc=int(input(\"enter percentage value from user:\"))\n",
    "if perc>90:\n",
    "    print(\"Grade A\")\n",
    "elif perc>80 and perc<=90:\n",
    "    print(\"Grade B\")\n",
    "elif perc >=60 and perc<=80:\n",
    "    print(\"Grade C\")\n",
    "elif perc<60:\n",
    "    print(\"Grade D\")"
   ]
  },
  {
   "cell_type": "markdown",
   "id": "9f488c58-1b50-4488-8374-e8176fac6052",
   "metadata": {},
   "source": [
    "Q2.Write a program to accept the cost price of a bike and display the road tax to be paid according to given criteria:?"
   ]
  },
  {
   "cell_type": "code",
   "execution_count": 20,
   "id": "8987e856-ab26-4f5b-a220-795586711d08",
   "metadata": {},
   "outputs": [
    {
     "name": "stdin",
     "output_type": "stream",
     "text": [
      "Enter the cost price of a bike: 100000\n"
     ]
    },
    {
     "name": "stdout",
     "output_type": "stream",
     "text": [
      "tax is 10%\n"
     ]
    }
   ],
   "source": [
    "cost=int(input(\"Enter the cost price of a bike:\"))\n",
    "if cost>100000:\n",
    "    print(\"tax is 15%\")\n",
    "elif cost>50000 and cost<=100000:\n",
    "    print(\"tax is 10%\")\n",
    "elif cost<=50000:\n",
    "    print(\"tax is 5%\")\n"
   ]
  },
  {
   "cell_type": "markdown",
   "id": "4048314b-5292-4321-af11-d4f7ca11825b",
   "metadata": {},
   "source": [
    "Q3.Accept any city from the user and display monuments of that city?"
   ]
  },
  {
   "cell_type": "code",
   "execution_count": 1,
   "id": "15aa59c9-a865-4ed6-a364-538041e2e437",
   "metadata": {},
   "outputs": [
    {
     "name": "stdin",
     "output_type": "stream",
     "text": [
      "Enter the name of the city from this list Delhi, Agra, Jaipur delhi\n"
     ]
    }
   ],
   "source": [
    "city_monument={\"Delhi\":\"Red fort\",\"Agra\":\"Taj mahel\",\"Jaipur\":\"Jal mahel\"}\n",
    "city=input(\"Enter the name of the city from this list Delhi, Agra, Jaipur\")\n",
    "for i in city_monument.keys():\n",
    "    if i==city:\n",
    "        print(\"City you selected is\",i,\"monument of that city is\",city_monument[i])"
   ]
  },
  {
   "cell_type": "markdown",
   "id": "26c317ce-f884-4746-b934-d6ee247798ce",
   "metadata": {},
   "source": [
    "Q4.Check how many times a given number can be divided by 3 bfore it is less than or equal to 10?"
   ]
  },
  {
   "cell_type": "code",
   "execution_count": 2,
   "id": "07c761a7-197d-49dc-a668-1fc00c042140",
   "metadata": {},
   "outputs": [
    {
     "name": "stdin",
     "output_type": "stream",
     "text": [
      "please enter the number 6\n"
     ]
    },
    {
     "name": "stdout",
     "output_type": "stream",
     "text": [
      "number you entered is 6 and it can get divided by 3 for 0 times befor it is less then or equal to 10\n"
     ]
    }
   ],
   "source": [
    "n=int(input(\"please enter the number\"))\n",
    "m=n\n",
    "i=0\n",
    "while m>10:\n",
    "    a=m/3\n",
    "    m=a\n",
    "    i=i+1\n",
    "print(\"number you entered is\",n,\"and it can get divided by 3 for\",i,\"times befor it is less then or equal to 10\")\n",
    "   "
   ]
  },
  {
   "cell_type": "code",
   "execution_count": null,
   "id": "7a1f9018-f012-4576-a50e-25c3e1e30bde",
   "metadata": {},
   "outputs": [],
   "source": [
    "Q5.why and when to use while loop in python give a detailed description with example?"
   ]
  },
  {
   "cell_type": "code",
   "execution_count": 3,
   "id": "323c1ae8-e5ea-48ac-93b4-1802789db45f",
   "metadata": {},
   "outputs": [
    {
     "name": "stdout",
     "output_type": "stream",
     "text": [
      "1\n",
      "2\n",
      "3\n",
      "loop got ended\n"
     ]
    }
   ],
   "source": [
    "n=5\n",
    "i=1\n",
    "while True:\n",
    "    print(i)\n",
    "    if i==3:\n",
    "        break\n",
    "    i=i+1\n",
    "print(\"loop got ended\")"
   ]
  },
  {
   "cell_type": "code",
   "execution_count": null,
   "id": "619c7da4-e328-4784-ab8d-c725b8a4fdd4",
   "metadata": {},
   "outputs": [],
   "source": [
    "Q6.Use nested while loop to print 3 different patterns?"
   ]
  },
  {
   "cell_type": "code",
   "execution_count": 4,
   "id": "f80058a4-df5c-4253-aa1b-6e406534b51b",
   "metadata": {},
   "outputs": [
    {
     "name": "stdin",
     "output_type": "stream",
     "text": [
      "Enter number of steps you want in your pyramid: 4\n"
     ]
    },
    {
     "name": "stdout",
     "output_type": "stream",
     "text": [
      "* \n",
      "* * \n",
      "* * * \n",
      "* * * * \n"
     ]
    }
   ],
   "source": [
    "n=int(input(\"Enter number of steps you want in your pyramid:\")) \n",
    "i=1\n",
    "while i<=n:\n",
    "    j=1\n",
    "    while j<=i:\n",
    "        print(\"*\",end=\" \")\n",
    "        j=j+1\n",
    "    print(\"\")\n",
    "    i=i+1\n"
   ]
  },
  {
   "cell_type": "code",
   "execution_count": 2,
   "id": "79d80a4f-4777-4cdf-9fc4-a216258a7e6a",
   "metadata": {},
   "outputs": [
    {
     "name": "stdin",
     "output_type": "stream",
     "text": [
      "Enter number of steps you want in your pyramid: 5\n"
     ]
    },
    {
     "name": "stdout",
     "output_type": "stream",
     "text": [
      "0 \n",
      "1 1 \n",
      "2 2 2 \n",
      "3 3 3 3 \n",
      "4 4 4 4 4 \n",
      "5 5 5 5 5 5 \n"
     ]
    }
   ],
   "source": [
    "n=int(input(\"Enter number of steps you want in your pyramid:\")) \n",
    "i=0\n",
    "while i<=n:\n",
    "    j=0\n",
    "    while j<=i:\n",
    "        print(i,end=\" \")\n",
    "        j=j+1\n",
    "    print(\"\")\n",
    "    i=i+1\n",
    "  "
   ]
  },
  {
   "cell_type": "code",
   "execution_count": 3,
   "id": "43c7bac1-6891-47a0-ac75-454589763ce2",
   "metadata": {},
   "outputs": [
    {
     "name": "stdin",
     "output_type": "stream",
     "text": [
      "Enter number of steps you want in your pyramid: 5\n"
     ]
    },
    {
     "name": "stdout",
     "output_type": "stream",
     "text": [
      "1 \n",
      "1 2 \n",
      "1 2 3 \n",
      "1 2 3 4 \n",
      "1 2 3 4 5 \n"
     ]
    }
   ],
   "source": [
    "n=int(input(\"Enter number of steps you want in your pyramid:\")) \n",
    "i=1\n",
    "while i<=n:\n",
    "    j=1\n",
    "    while j<=i:\n",
    "        print(j,end=\" \")\n",
    "        j=j+1\n",
    "    print(\"\")\n",
    "    i=i+1\n"
   ]
  },
  {
   "cell_type": "code",
   "execution_count": 4,
   "id": "6151ae01-04b2-49c8-bb37-047f73f052f1",
   "metadata": {},
   "outputs": [
    {
     "name": "stdin",
     "output_type": "stream",
     "text": [
      "Enter number of steps you want in your pyramid: 5\n"
     ]
    },
    {
     "name": "stdout",
     "output_type": "stream",
     "text": [
      "5 4 3 2 1 \n",
      "5 4 3 2 \n",
      "5 4 3 \n",
      "5 4 \n",
      "5 \n"
     ]
    }
   ],
   "source": [
    "n=int(input(\"Enter number of steps you want in your pyramid:\")) \n",
    "i=1\n",
    "while i<=n:\n",
    "    j=n\n",
    "    while j>=i:\n",
    "        print(j,end=\" \")\n",
    "        j=j-1\n",
    "    print(\"\")\n",
    "    i=i+1"
   ]
  },
  {
   "cell_type": "code",
   "execution_count": null,
   "id": "1d5f298d-72b9-4154-bedc-2d3c33d0b526",
   "metadata": {},
   "outputs": [],
   "source": [
    "Q7.Reverse a while loop to disply no. from 10 to 1?"
   ]
  },
  {
   "cell_type": "code",
   "execution_count": 6,
   "id": "3d5a3cbb-eff8-4fac-bfe7-48a01910bd38",
   "metadata": {},
   "outputs": [
    {
     "name": "stdin",
     "output_type": "stream",
     "text": [
      "Enter number of steps you want in your pyramid: 10\n"
     ]
    },
    {
     "name": "stdout",
     "output_type": "stream",
     "text": [
      "10 9 8 7 6 5 4 3 2 1 "
     ]
    }
   ],
   "source": [
    "n=int(input(\"Enter number of steps you want in your pyramid:\")) \n",
    "while True:\n",
    "    if n==0:\n",
    "        break\n",
    "    print(n,end=\" \")\n",
    "    n=n-1\n"
   ]
  },
  {
   "cell_type": "code",
   "execution_count": null,
   "id": "4fa1cc17-2892-4783-8c58-123baf2d59f5",
   "metadata": {},
   "outputs": [],
   "source": [
    "Q8.Reverse a while loop to display from 10 to 1?"
   ]
  },
  {
   "cell_type": "code",
   "execution_count": 8,
   "id": "5afb1b5e-4181-4dea-8de0-867592976aa1",
   "metadata": {},
   "outputs": [
    {
     "name": "stdin",
     "output_type": "stream",
     "text": [
      "Enter number of steps you want in your pyramid: 10\n"
     ]
    },
    {
     "name": "stdout",
     "output_type": "stream",
     "text": [
      "10 9 8 7 6 5 4 3 2 1 "
     ]
    }
   ],
   "source": [
    "n=int(input(\"Enter number of steps you want in your pyramid:\")) \n",
    "while True:\n",
    "    if n==0:\n",
    "        break\n",
    "    print(n,end=\" \")\n",
    "    n=n-1\n"
   ]
  },
  {
   "cell_type": "code",
   "execution_count": null,
   "id": "874e37c8-5517-4778-bded-b96ce5231489",
   "metadata": {},
   "outputs": [],
   "source": []
  }
 ],
 "metadata": {
  "kernelspec": {
   "display_name": "Python 3 (ipykernel)",
   "language": "python",
   "name": "python3"
  },
  "language_info": {
   "codemirror_mode": {
    "name": "ipython",
    "version": 3
   },
   "file_extension": ".py",
   "mimetype": "text/x-python",
   "name": "python",
   "nbconvert_exporter": "python",
   "pygments_lexer": "ipython3",
   "version": "3.10.8"
  }
 },
 "nbformat": 4,
 "nbformat_minor": 5
}

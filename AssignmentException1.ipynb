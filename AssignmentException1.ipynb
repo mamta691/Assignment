{
 "cells": [
  {
   "cell_type": "markdown",
   "id": "4b6cc838-b4cb-466e-853b-be253b8d66ea",
   "metadata": {},
   "source": [
    "1Q.What is an Exception in python?Write the difference between Exceptions and syntax errors?"
   ]
  },
  {
   "cell_type": "markdown",
   "id": "9c44d6d3-7c54-4196-9dc2-38fa7815230a",
   "metadata": {},
   "source": [
    "Ans: An Exception in python is an incident that happens while executing a program that causes the regular course of the program's\n",
    "     commands to be disrupted.When a python code comes across a condition it can't handle, it raises an exception."
   ]
  },
  {
   "cell_type": "markdown",
   "id": "d15dbc6a-bd63-47b9-86ce-5f52d92e930f",
   "metadata": {},
   "source": [
    "Difference between Exceptions and syntax errors:\n",
    "    Syntax errors are usually detected by the compiler or interpreter ,when the program is being compiled or executed.and they prevent the program from running.\n",
    "    Syntax errors are usually caused by mistakes in the source code,such as typos,omissions,or incorrect use of syntax.\n",
    "    Exception: An Exception is an abnormal event that occurs during the execution of a program.Exceptions are usually caused by run time errors, such as division by zero."
   ]
  },
  {
   "cell_type": "markdown",
   "id": "85b45de4-6d5a-4cd5-bd16-e8f49575376b",
   "metadata": {},
   "source": [
    "Q2.What happens when an exception is not handled?Explain with an example?"
   ]
  },
  {
   "cell_type": "code",
   "execution_count": 1,
   "id": "51a0c1fc-1501-4796-9a87-733699d278a8",
   "metadata": {},
   "outputs": [],
   "source": [
    "#Ans:If the exception is not handled by an except clause, the exception is raised after the finally clause has been executed."
   ]
  },
  {
   "cell_type": "code",
   "execution_count": 5,
   "id": "9f206e6d-c990-4f0e-9d88-14282a93af6e",
   "metadata": {},
   "outputs": [
    {
     "name": "stdin",
     "output_type": "stream",
     "text": [
      "enter a number: 40\n"
     ]
    },
    {
     "name": "stdout",
     "output_type": "stream",
     "text": [
      "0.025\n",
      "finally block is always executed.\n"
     ]
    }
   ],
   "source": [
    "try:\n",
    "    n=int(input(\"enter a number:\"))\n",
    "    assert n%2==0\n",
    "except:\n",
    "    print(\"NOT AN EVEN NO.\")\n",
    "else:\n",
    "    reciprocal=1/n\n",
    "    print(reciprocal)\n",
    "finally:\n",
    "    print(\"finally block is always executed.\")"
   ]
  },
  {
   "cell_type": "markdown",
   "id": "54c926fd-1722-4d13-9083-4b6b06003a16",
   "metadata": {},
   "source": [
    "3Q.Which python statements are used to catch and handle exceptions?with an example?"
   ]
  },
  {
   "cell_type": "markdown",
   "id": "b960acdb-c372-4aed-9245-8bccd91309c4",
   "metadata": {},
   "source": [
    "Ans: try and except  blocks are used to catch and handle exceptions."
   ]
  },
  {
   "cell_type": "code",
   "execution_count": 6,
   "id": "afd3492f-44da-48ec-b35a-3c128861427b",
   "metadata": {},
   "outputs": [
    {
     "name": "stdout",
     "output_type": "stream",
     "text": [
      "[Errno 2] No such file or directory: 'maa.txt'\n"
     ]
    }
   ],
   "source": [
    "try:\n",
    "    with open(\"maa.txt\",\"r\") as f:\n",
    "        file=f.read()\n",
    "except Exception as e:\n",
    "    print(e)"
   ]
  },
  {
   "cell_type": "markdown",
   "id": "825b83e4-83bb-4ea0-a6e9-571461d076d4",
   "metadata": {},
   "source": [
    "4. Explain with an example:\n",
    "try and else\n",
    "finally\n",
    "raise"
   ]
  },
  {
   "cell_type": "code",
   "execution_count": 1,
   "id": "a80a51e3-a15e-4964-9006-3016f3998b8f",
   "metadata": {},
   "outputs": [
    {
     "ename": "SyntaxError",
     "evalue": "invalid syntax (3153943155.py, line 13)",
     "output_type": "error",
     "traceback": [
      "\u001b[0;36m  Cell \u001b[0;32mIn[1], line 13\u001b[0;36m\u001b[0m\n\u001b[0;31m    this block will execute once try will execute itself without an exception\u001b[0m\n\u001b[0m         ^\u001b[0m\n\u001b[0;31mSyntaxError\u001b[0m\u001b[0;31m:\u001b[0m invalid syntax\n"
     ]
    }
   ],
   "source": [
    "# 1) try and else\n",
    "\n",
    "try:\n",
    "    f = open(\"example.txt\", 'w')  # creating and opening example.txt\n",
    "    f.write(\"this is my msg\")     # if file is not closed the line will not get into the file example.txt\n",
    "    \n",
    "except Exception as e:\n",
    "    print(\"there is some issue with my code:\", e)\n",
    "    \n",
    "else:\n",
    "    f.close()\n",
    "    print(\"this block will execute once try will execute itself without an exception\")\n",
    "this block will execute once try will execute itself without an exception\n",
    "# 2) Finally\n",
    "\n",
    "try:\n",
    "    f = open(\"example1.txt\", 'r')  # returns error because trying to open file in read mode which do not exist\n",
    "    f.write(\"this is my msg\")     \n",
    "    \n",
    "except Exception as e:\n",
    "    print(\"File does not exist to open in read mode: \", e)\n",
    "    \n",
    "else:\n",
    "    f.close()\n",
    "    print(\"this block will execute once try will execute itself without an exception\")\n",
    "    \n",
    "finally:  # finally: will always execute itself not matter what has happend with try:, except: and else:\n",
    "    print(\"I will always execute\")\n",
    "File does not exist to open in read mode:  [Errno 2] No such file or directory: 'example1.txt'\n",
    "I will always execute\n",
    "# 3) raise\n",
    "# The raise statement allows the programmer to force a specific exception to occur. \n",
    "# The sole argument in raise indicates the exception to be raised. \n",
    "# This must be either an exception instance or an exception class (a class that derives from Exception).\n",
    "\n",
    "# Program to depict Raising Exception\n",
    "  \n",
    "try: \n",
    "    raise NameError(\"Hi there\")  # Raise Error\n",
    "except NameError:\n",
    "    print (\"An exception\")\n",
    "    raise  # To determine whether the exception was raised or not\n",
    "    \n",
    "# The output of the above code will simply line printed as “An exception” \n",
    "# but a Runtime error will also occur in the last due to the raise statement in the last line."
   ]
  },
  {
   "cell_type": "markdown",
   "id": "a5a8a0d5-473d-4246-998a-8d5a714a2d26",
   "metadata": {},
   "source": [
    "5. What are Custom Exceptions in python? Why do we need Custom Exceptions? Explain with an example.\n",
    "\n",
    "\n",
    "Exceptions that are derived from the Exception class, either directly or indirectly are called as custom exceptions.\n",
    "we need custom exception, exception is not an exception for system but from programmer or user POV it is an exception.\n",
    "for example: if we are taking input from user for age, if it is positive value it is fine, but even if user enters negative value the system accepts it, as it is not exception for system but as an user/coder you know that age cannot be negative hence it is an exception for user/coder"
   ]
  },
  {
   "cell_type": "code",
   "execution_count": 2,
   "id": "cee37bd2-bd46-4a3e-96fd-76a2f5c14fa2",
   "metadata": {},
   "outputs": [
    {
     "name": "stdin",
     "output_type": "stream",
     "text": [
      "enter your age:  67\n"
     ]
    },
    {
     "name": "stdout",
     "output_type": "stream",
     "text": [
      "age is valid\n"
     ]
    }
   ],
   "source": [
    "# creating custom class to handle exception based on our own conditions\n",
    "\n",
    "class validateage(Exception) :    # inheritance of Exception class which is pre-defined in the system\n",
    "    def __init__(self, msg) :     # construtor of the class which will take msg as in input attribute\n",
    "        self.msg = msg\n",
    "\n",
    "# crearing a function to raise custom exception based on input \n",
    "def validate_age(age) :\n",
    "    if age < 0 :\n",
    "        raise validateage(\"age should not be lesser than zero\")    \n",
    "        # raise is a reserved keyword which can call the custom class\n",
    "        # this is nothing but creating object of custom class(i.e validateage) \n",
    "        # and passing the custom message as per constructor\n",
    "        # on this custom condition the exception will automatically raise\n",
    "    elif age > 200 :\n",
    "        raise validateage(\"age is too high\")\n",
    "    else :\n",
    "        print(\"age is valid\")    \n",
    "\n",
    "# Driver code to chevk custom exception handling\n",
    "try:\n",
    "    age = int(input(\"enter your age: \"))\n",
    "    validate_age(age)\n",
    "except validateage as e :   # calling the custom class because it is responsible for giving message and raising exception\n",
    "    print(e)"
   ]
  },
  {
   "cell_type": "markdown",
   "id": "a3b104da-631b-4199-8b33-3ff98a784a5c",
   "metadata": {},
   "source": [
    "#6. Create custom exception class. Use this class to handle an exception.\n",
    "# define Python user-defined or custom exceptions\n",
    "\n",
    "class InvalidAgeException(Exception):\n",
    "    \"Raised when the input value is less than 18\"\n",
    "    pass\n",
    "\n",
    "# you need to guess this number\n",
    "eligible_age = 18\n",
    "\n",
    "try:\n",
    "    input_age = int(input(\"Enter an age: \"))\n",
    "    if input_age < eligible_age:\n",
    "        raise InvalidAgeException\n",
    "    else:\n",
    "        print(\"Eligible to Vote\")\n",
    "        \n",
    "except InvalidAgeException:\n",
    "    print(\"Exception occurred: Invalid Age to Vote\")\n",
    "Exception occurred: Invalid Age to Vote\n",
    " "
   ]
  },
  {
   "cell_type": "code",
   "execution_count": null,
   "id": "fcd9a1a5-31e9-4656-96b2-a484e8ad4ace",
   "metadata": {},
   "outputs": [],
   "source": []
  }
 ],
 "metadata": {
  "kernelspec": {
   "display_name": "Python 3 (ipykernel)",
   "language": "python",
   "name": "python3"
  },
  "language_info": {
   "codemirror_mode": {
    "name": "ipython",
    "version": 3
   },
   "file_extension": ".py",
   "mimetype": "text/x-python",
   "name": "python",
   "nbconvert_exporter": "python",
   "pygments_lexer": "ipython3",
   "version": "3.10.8"
  }
 },
 "nbformat": 4,
 "nbformat_minor": 5
}

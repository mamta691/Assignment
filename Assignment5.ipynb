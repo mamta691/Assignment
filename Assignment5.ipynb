{
 "cells": [
  {
   "cell_type": "markdown",
   "id": "7e5fda40-e3ed-4730-9800-fbcd0bd2cd90",
   "metadata": {},
   "source": [
    "Q1. Who developed python programming language?"
   ]
  },
  {
   "cell_type": "markdown",
   "id": "03d7b91b-35a5-4db2-90e1-7f62f571fd72",
   "metadata": {},
   "source": [
    "Ans: The programming language python was conceived in the late 1980s, and implementation was started in december 1989 by  Guido van Rossum\n",
    "at the CWI in the Netherlands as a successor to ABC capable of exception handling and interfacing with the amoeba operating system.\n"
   ]
  },
  {
   "cell_type": "markdown",
   "id": "af63e10e-1423-479c-a960-b004bdff9f62",
   "metadata": {},
   "source": [
    "Q2.Which type of programming does Python support? "
   ]
  },
  {
   "cell_type": "markdown",
   "id": "b1e46c4e-2519-4c3c-af07-b81a1fcdecde",
   "metadata": {},
   "source": [
    "Ans: Python supports both object oriented and procedural programming,so it is suitable for a wide range of applications.\n",
    "It can be used to develop applications for a wide variety of platforms,including embedded systems."
   ]
  },
  {
   "cell_type": "markdown",
   "id": "9f00b8fd-c8b5-42f0-9bf2-f4e0299ccb47",
   "metadata": {},
   "source": [
    "Q3. Is python case sensitive when dealing with identifiers?"
   ]
  },
  {
   "cell_type": "markdown",
   "id": "c62fadba-3968-4d46-9fac-0185505bc250",
   "metadata": {},
   "source": [
    "Ans: Yes python is a case sensitive language,it treats uppercase and lowercase characters differently.\n",
    "This applies to identifiers too.You must avoid using the same name with different cases while naming identifiers."
   ]
  },
  {
   "cell_type": "markdown",
   "id": "2d4cdf81-a05e-4d93-98d7-93861eb68534",
   "metadata": {},
   "source": [
    "Q4.What is the correct extention of the python file?"
   ]
  },
  {
   "cell_type": "markdown",
   "id": "e7403937-083d-4d2e-a404-3e03a22a1c94",
   "metadata": {},
   "source": [
    "When creating programs and code in python, the correct file extention for code is .py.\n",
    "Compiled extention of bytecode is .pyc."
   ]
  },
  {
   "cell_type": "markdown",
   "id": "04622c34-6be2-4561-b38c-a4c63e2e6936",
   "metadata": {},
   "source": [
    "Q5.Is python code compiled or interpretes?"
   ]
  },
  {
   "cell_type": "markdown",
   "id": "2bfec7d0-a2f8-4b9e-93ea-47f009e32e30",
   "metadata": {},
   "source": [
    "Python is interpreted.There is no seperate compile step after writing python code and before running the .py file.\n"
   ]
  },
  {
   "cell_type": "markdown",
   "id": "7cf0b2a0-af8d-4e49-baa7-b8ddd54443b0",
   "metadata": {},
   "source": [
    "Q6. Name a few blocks of code to define in python language?"
   ]
  },
  {
   "cell_type": "markdown",
   "id": "06a1d88a-3412-4dcf-8f0e-9a42cc5a1151",
   "metadata": {},
   "source": [
    "Ans: A  code block is a group of statements that will be run as a unit.\n",
    "   if(condition):\n",
    "        statement\n",
    "        ......\n",
    "        ......\n",
    "    else:\n",
    "        statements\n",
    "        \n",
    "      "
   ]
  },
  {
   "cell_type": "markdown",
   "id": "895ff66c-6262-44f7-8cad-f80a8671a033",
   "metadata": {},
   "source": [
    "Q7.State a character used to give single line comment in python?"
   ]
  },
  {
   "cell_type": "markdown",
   "id": "56f0272e-15f8-40da-b733-a52efec638c2",
   "metadata": {},
   "source": [
    "Ans: For single comment use hash(#) symbol "
   ]
  },
  {
   "cell_type": "markdown",
   "id": "a425fbc1-a263-47ee-8d39-09e814d3f0aa",
   "metadata": {},
   "source": [
    "Q8.Mention functions which can help us to find the version of python that we are currently working on?"
   ]
  },
  {
   "cell_type": "markdown",
   "id": "991d11c7-95af-4f92-a56a-332310ab7785",
   "metadata": {},
   "source": [
    "  The function sys.version can help us to find the version of python that we are working on.\n",
    "    This function also returns the current date time and bits etc."
   ]
  },
  {
   "cell_type": "markdown",
   "id": "1557ee09-efc7-4651-8421-53e610c37422",
   "metadata": {},
   "source": [
    "Q9.Python supports the creation of anonymous functions at runtime, using a construct called.....?"
   ]
  },
  {
   "cell_type": "markdown",
   "id": "39cd71be-4799-4dba-a7fe-3d202c2cccd4",
   "metadata": {},
   "source": [
    "Ans: lambda is an anonymous function used at runtime. lambda function can't bound at name. lambda function are restricted to single expression"
   ]
  },
  {
   "cell_type": "markdown",
   "id": "43194bbb-246e-40bc-8ba3-0ab9199b24f0",
   "metadata": {},
   "source": [
    "Q10.What is pip stand for python?"
   ]
  },
  {
   "cell_type": "markdown",
   "id": "697f9445-e138-4415-ae06-6c63bc6dd084",
   "metadata": {},
   "source": [
    "Ans:PIP is a package management system written in python that istalls and manage packages from the python package index and other sources."
   ]
  },
  {
   "cell_type": "markdown",
   "id": "5582d306-d60e-4664-b3b0-9391e5558b83",
   "metadata": {},
   "source": [
    "Q11.Mention a few built in functions in python?"
   ]
  },
  {
   "cell_type": "markdown",
   "id": "1b681bc6-06a9-4b88-b23b-992ae0c889d2",
   "metadata": {},
   "source": [
    "There are many built in functions in python:\n",
    "    len(),\n",
    "    range(),\n",
    "    list(),\n",
    "    filter(),\n",
    "    float(),\n",
    "    tuple(),\n",
    "    set()\n",
    "    \n",
    "    "
   ]
  },
  {
   "cell_type": "markdown",
   "id": "3a0f0d22-fabf-44ea-bd89-0af729c8aa3e",
   "metadata": {},
   "source": [
    "Q12.What is the maximum possible length of identifiers in python?"
   ]
  },
  {
   "cell_type": "markdown",
   "id": "1d239f70-4f5e-4d1f-9967-bf3cef68d97b",
   "metadata": {},
   "source": [
    "The hghest possible length of an identifier is 79 characters. Mainely python is combined with case sensitive identifiers. "
   ]
  },
  {
   "cell_type": "markdown",
   "id": "411cf2d3-0240-4aed-a96f-e52ea4686882",
   "metadata": {},
   "source": [
    "Q13.What are the benefits of python?"
   ]
  },
  {
   "cell_type": "markdown",
   "id": "e5534f6a-5e4f-465d-aac8-733880a2f818",
   "metadata": {},
   "source": [
    "Python is popular programming language that is easy to learn and use.\n",
    "It is a versatile language for data science.\n",
    "used in IOT \n",
    "Interpreted language.\n",
    "user friendly data structure."
   ]
  },
  {
   "cell_type": "markdown",
   "id": "688842a7-240f-458d-8fe0-9cf66a7b021c",
   "metadata": {},
   "source": [
    "Q14.How is memory managed in python?"
   ]
  },
  {
   "cell_type": "markdown",
   "id": "9e6abf72-91de-4c46-a788-16852e39f764",
   "metadata": {},
   "source": [
    "Python memory is divided in to two parts .Methods and veriable are created in stack memory.\n",
    "python used garbage collection to free up memory space."
   ]
  },
  {
   "cell_type": "markdown",
   "id": "7ae4c74c-94cc-4fd0-bcca-42915fc8ebc7",
   "metadata": {},
   "source": [
    "Q16.Is indentation required in python?"
   ]
  },
  {
   "cell_type": "code",
   "execution_count": null,
   "id": "c559844f-b572-450d-8d80-650cb8d6f3e5",
   "metadata": {},
   "outputs": [],
   "source": [
    "YES indentation is required. it is used to indicate block of code."
   ]
  }
 ],
 "metadata": {
  "kernelspec": {
   "display_name": "Python 3 (ipykernel)",
   "language": "python",
   "name": "python3"
  },
  "language_info": {
   "codemirror_mode": {
    "name": "ipython",
    "version": 3
   },
   "file_extension": ".py",
   "mimetype": "text/x-python",
   "name": "python",
   "nbconvert_exporter": "python",
   "pygments_lexer": "ipython3",
   "version": "3.10.8"
  }
 },
 "nbformat": 4,
 "nbformat_minor": 5
}

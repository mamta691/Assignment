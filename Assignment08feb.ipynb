{
 "cells": [
  {
   "cell_type": "code",
   "execution_count": null,
   "id": "00a4df79-7e58-49b7-a88a-ca0afc79f8b9",
   "metadata": {},
   "outputs": [],
   "source": [
    "Q1. What is Abstraction in OOps? Explain with an example.\n",
    "Ans: \n",
    "    In OOP, abstraction refers to obscuring intricate features and displaying only critical information. \n",
    "    It aids in the simplification of code and facilitates its comprehension. \n",
    "    This is frequently accomplished by using abstract classes and interfaces, which specify the shared \n",
    "    characteristics of a collection of objects without revealing specifics about how they were implemented.\n",
    "    For instance, we can use abstraction to express the characteristics that all cars have, \n",
    "    including the capacity to accelerate, brake, and turn.\n",
    "_________________________________________________________________________________\n",
    "Q2. Differentiate between Abstraction and Encapsulation. Explain with an example.\n",
    "Ans:\n",
    "    Abstraction means showing only the most important information and hiding the rest, \n",
    "    while encapsulation means putting data and methods together and controlling who can access them.\n",
    "    Encapsulation keeps things secure, while abstraction helps simplify things.\n",
    "    For example, think about a bank account. Abstraction would mean showing the user their balance,\n",
    "    but not showing them all the details of how it was calculated or stored. Encapsulation would group together\n",
    "    the balance data and methods for depositing and withdrawing money, and only allow authorized parts of the\n",
    "    program to access those methods to make sure the balance is updated correctly and safely.\n",
    "_________________________________________________________________________________\n",
    "\n",
    "Q3. What is abc module in python? Why is it used?\n",
    "Ans:\n",
    "    The abc module in Python is used to create abstract classes.\n",
    "    An abstract class is a class that cannot be used on its own, but instead is meant to be subclassed by other classes.\n",
    "    You can create an abstract class using the ABC class and the @abstractmethod decorator to indicate which\n",
    "    methods must be implemented by any concrete subclasses.\n",
    "    Abstract classes are useful for defining interfaces or contracts that other classes must implement. \n",
    "    They can help make code more maintainable by ensuring a common interface or behavior across related classes\n",
    "__________________________________________________________________________________\n",
    "Q4. How can we achieve data abstraction?\n",
    "Ans:\n",
    "     Data abstraction in object-oriented programming can be achieved using abstract classes and interfaces.\n",
    "     Abstract classes provide a way to define common functionality for a group of related classes, \n",
    "     while interfaces outline the methods that a class must implement. \n",
    "     This approach allows us to hide implementation details and only reveal necessary methods and properties.\n",
    "     By doing so, our code becomes more organized, adaptable, and manageable.\n",
    "\n",
    "________________________________________________________________________________\n",
    "\n",
    "Q5. Can we create an instance of an abstract class? Explain your answer. \n",
    "Ans:\n",
    "    Unfortunately, it is not possible to create an instance of an abstract class.\n",
    "    An abstract class is one that has one or more abstract methods, or methods without implementation details. \n",
    "    Since an abstract method lacks implementation details, it cannot be invoked directly. So,\n",
    "    attempting to construct an instance of an abstract class would result in a runtime error.\n",
    "___________________________________________________________________________\n"
   ]
  }
 ],
 "metadata": {
  "kernelspec": {
   "display_name": "Python 3 (ipykernel)",
   "language": "python",
   "name": "python3"
  },
  "language_info": {
   "codemirror_mode": {
    "name": "ipython",
    "version": 3
   },
   "file_extension": ".py",
   "mimetype": "text/x-python",
   "name": "python",
   "nbconvert_exporter": "python",
   "pygments_lexer": "ipython3",
   "version": "3.10.8"
  }
 },
 "nbformat": 4,
 "nbformat_minor": 5
}

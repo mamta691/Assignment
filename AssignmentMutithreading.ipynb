{
 "cells": [
  {
   "cell_type": "markdown",
   "id": "e10552a4-12bb-4d70-a43f-91e14e673eed",
   "metadata": {},
   "source": [
    "Q1.. What is multithreading in python? Why is it used? Name the module used to handle threads in python?"
   ]
  },
  {
   "cell_type": "markdown",
   "id": "c0c40dff-8ab7-4cb2-b00e-878182ed1cad",
   "metadata": {},
   "source": [
    "Ans: Multithreading:Multiple threads can exist within one process where:\n",
    "\n",
    "Each thread contains its own register set and local variables (stored in stack).\n",
    "All threads of a process share global variables (stored in heap) and the program code.\n",
    "Multithreading is defined as the ability of a processor to execute multiple threads concurrently.\n",
    "threading module provides a very simple and intuitive API for spawning multiple threads in a program. \n",
    "threading Module Functions\n",
    "This module provides the following functions for managing threads:\n",
    "import time\n",
    "import threading\n",
    "\n",
    "def thread1(i):\n",
    "    time.sleep(3)\n",
    "    print('No. printed by Thread 1: %d' %i)\n",
    "\n",
    "def thread2(i):\n",
    "    print('No. printed by Thread 2: %d' %i)\n",
    "    \n",
    "if __name__ == '__main__':\n",
    "    \n",
    "    t1 = threading.Thread(target=thread1, args=(10,))\n",
    "    t2 = threading.Thread(target=thread2, args=(12,))\n",
    "    # start the threads\n",
    "    t1.start()\n",
    "    t2.start()\n",
    "    # join the main thread\n",
    "    t1.join()\n",
    "    t2.join()"
   ]
  },
  {
   "cell_type": "markdown",
   "id": "a04404a0-e958-4283-8ddc-eca647737bf6",
   "metadata": {},
   "source": [
    "Q2.Why threading module used? Write the use of the following functions?\n",
    "( activeCount\n",
    " currentThread\n",
    " enumerate)"
   ]
  },
  {
   "cell_type": "markdown",
   "id": "49ec176a-a588-43a4-b40e-7c0361b49ea2",
   "metadata": {},
   "source": [
    "Ans:The threading module exposes all the methods of the thread module and provides some additional methods −\n",
    "threading.activeCount (): It finds the total no. of active thread objects.\n",
    "threading.currentThread (): You can use it to determine the number of thread objects in the caller’s thread control. \n",
    "threading.enumerate (): It will give you a complete list of thread objects that are currently active.\n"
   ]
  },
  {
   "cell_type": "markdown",
   "id": "51aac6e6-762a-49d7-92a2-c00ad458c589",
   "metadata": {},
   "source": [
    "Q3.3. Explain the following functions?\n",
    "( run\n",
    " start\n",
    " join\n",
    "' isAlive)"
   ]
  },
  {
   "cell_type": "markdown",
   "id": "ec35c504-ffd2-4268-9334-4e9acea8bea1",
   "metadata": {},
   "source": [
    "Ana: start () − The start () method starts a thread by calling the run method. \n",
    "join ([time]) − The join () waits for threads to terminate.\n",
    "isAlive () − The isAlive () method checks whether a thread is still executing."
   ]
  },
  {
   "cell_type": "markdown",
   "id": "9da32898-5ddf-46bd-9752-74c222925bba",
   "metadata": {},
   "source": [
    "Q4.4. Write a python program to create two threads. Thread one must print the list of squares and thread\n",
    "two must print the list of cubes?"
   ]
  },
  {
   "cell_type": "code",
   "execution_count": null,
   "id": "a3a017a4-c545-4bf2-9104-e4996d3708f8",
   "metadata": {},
   "outputs": [],
   "source": [
    "Ans:import threading\n",
    " \n",
    " \n",
    "def print_cube(num):\n",
    "    # function to print cube of given num\n",
    "    print(\"Cube: {}\" .format(num * num * num))\n",
    " \n",
    " \n",
    "def print_square(num):\n",
    "    # function to print square of given num\n",
    "    print(\"Square: {}\" .format(num * num))\n",
    " \n",
    " \n",
    "if __name__ ==\"__main__\":\n",
    "    # creating thread\n",
    "    t1 = threading.Thread(target=print_square, args=(10,))\n",
    "    t2 = threading.Thread(target=print_cube, args=(10,))\n",
    " \n",
    "    # starting thread 1\n",
    "    t1.start()\n",
    "    # starting thread 2\n",
    "    t2.start()\n",
    " \n",
    "    # wait until thread 1 is completely executed\n",
    "    t1.join()\n",
    "    # wait until thread 2 is completely executed\n",
    "    t2.join()\n",
    " \n",
    "    # both threads completely executed\n",
    "    print(\"Done!\")"
   ]
  },
  {
   "cell_type": "markdown",
   "id": "70ce83c6-3a39-4b13-819e-d402e9026ff2",
   "metadata": {},
   "source": [
    "Q5.5. State advantages and disadvantages of multithreading?"
   ]
  },
  {
   "cell_type": "markdown",
   "id": "a8becc3f-980f-4471-b25a-03dbec68649e",
   "metadata": {},
   "source": [
    "Ans:Advantages of MultiThreading:\n",
    "\n",
    "   1. Enhanced performance by decreased development time\n",
    "   2. Simplified and streamlined program coding\n",
    "   3. Improvised GUI responsiveness\n",
    "    4.Simultaneous and parallelized occurrence of tasks\n",
    "   5. Better use of cache storage by utilization of resources\n",
    "   6. Decreased cost of maintenance\n",
    "   7. Better use of CPU resource.\n",
    " Disadvantages of MultiThreading:\n",
    "         \n",
    "   1. Complex debugging and testing processes\n",
    "    2.Overhead switching of context\n",
    "   3. Increased potential for deadlock occurrence\n",
    "   4. Increased difficulty level in writing a program\n",
    "   5. Unpredictable results"
   ]
  },
  {
   "cell_type": "markdown",
   "id": "81d776f6-f59d-449d-b87d-b203ccf754e6",
   "metadata": {},
   "source": [
    "Q6.6. Explain deadlocks and race conditions.?"
   ]
  },
  {
   "cell_type": "markdown",
   "id": "756f453d-b3d7-41b9-b796-256425a106fe",
   "metadata": {},
   "source": [
    "When Race conditions occur:\n",
    "    \n",
    "A race condition occurs when two threads access a shared variable at the same time. \n",
    "The first thread reads the variable, and the second thread reads the same value from the variable.\n",
    "Then the first thread and second thread perform their operations on the value, \n",
    "and they race to see which thread can write the value last to the shared variable. \n",
    "The value of the thread that writes its value last is preserved,\n",
    "because the thread is writing over the value that the previous thread wrote.\n",
    "When Deadlocks occur:\n",
    "    \n",
    "A deadlock occurs when two threads each lock a different variable at the same time and then try to lock the variable that the other thread already locked. \n",
    "As a result, each thread stops executing and waits for the other thread to release the variable. \n",
    "Because each thread is holding the variable that the other thread wants, nothing occurs, and the threads remain deadlocked."
   ]
  },
  {
   "cell_type": "code",
   "execution_count": null,
   "id": "2fd9d063-ed98-4c63-aa57-647aad0d4011",
   "metadata": {},
   "outputs": [],
   "source": []
  }
 ],
 "metadata": {
  "kernelspec": {
   "display_name": "Python 3 (ipykernel)",
   "language": "python",
   "name": "python3"
  },
  "language_info": {
   "codemirror_mode": {
    "name": "ipython",
    "version": 3
   },
   "file_extension": ".py",
   "mimetype": "text/x-python",
   "name": "python",
   "nbconvert_exporter": "python",
   "pygments_lexer": "ipython3",
   "version": "3.10.8"
  }
 },
 "nbformat": 4,
 "nbformat_minor": 5
}

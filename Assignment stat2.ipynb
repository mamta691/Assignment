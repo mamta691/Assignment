{
 "cells": [
  {
   "cell_type": "markdown",
   "id": "ca19011d-f8eb-4c20-b4e3-68860140be6c",
   "metadata": {},
   "source": [
    "Q1. What are the three measures of central tendency?\n",
    "The three measures of central tendency are mean, median and mode.\n",
    "Mean is the sum of all values in a dataset divided by the number of values in the dataset. \n",
    "Median is the middle value in a dataset when it is arranged in ascending or descending order.\n",
    "Mode is the value that appears most frequently in a dataset."
   ]
  },
  {
   "cell_type": "markdown",
   "id": "7790418a-acd3-4ffe-b165-577eddba83e2",
   "metadata": {},
   "source": [
    "Q2. What is the difference between the mean, median, and mode? How are they used to measure the central tendency of a dataset?\n",
    "Mean is the average value of a dataset and is calculated by adding up all the values in a dataset and dividing by the number of values in the dataset. Median is the middle value of a dataset when it is arranged in ascending or descending order. Mode is the value that appears most frequently in a dataset. These measures are used to measure central tendency of a dataset."
   ]
  },
  {
   "cell_type": "code",
   "execution_count": 1,
   "id": "208585f9-e4ef-4675-9499-f393b0517ba9",
   "metadata": {},
   "outputs": [
    {
     "name": "stdout",
     "output_type": "stream",
     "text": [
      "mean177.01875\n",
      "median 177.0\n",
      "mode ModeResult(mode=array([177.]), count=array([3]))\n"
     ]
    },
    {
     "name": "stderr",
     "output_type": "stream",
     "text": [
      "/tmp/ipykernel_84/1899830950.py:9: FutureWarning: Unlike other reduction functions (e.g. `skew`, `kurtosis`), the default behavior of `mode` typically preserves the axis it acts along. In SciPy 1.11.0, this behavior will change: the default value of `keepdims` will become False, the `axis` over which the statistic is taken will be eliminated, and the value None will no longer be accepted. Set `keepdims` to True or False to avoid this warning.\n",
      "  print('mode',stats.mode(a))\n"
     ]
    }
   ],
   "source": [
    "#Q3. Measure the three measures of central tendency for the given height data:\n",
    "a = [178,177,176,177,178.2,178,175,179,180,175,178.9,176.2,177,172.5,178,176.5]\n",
    "import numpy as np \n",
    "mode_1 = np.mean(a)\n",
    "print('mean' + str(mode_1))\n",
    "median_1 = np.median(a)\n",
    "print('median', median_1)\n",
    "from scipy import stats\n",
    "print('mode',stats.mode(a))"
   ]
  },
  {
   "cell_type": "code",
   "execution_count": 2,
   "id": "51f087fe-b4d0-4c91-9bdd-ba97fe5e791f",
   "metadata": {},
   "outputs": [
    {
     "data": {
      "text/plain": [
       "1.7885814036548633"
      ]
     },
     "execution_count": 2,
     "metadata": {},
     "output_type": "execute_result"
    }
   ],
   "source": [
    "'''Q4. Find the standard deviation for the given data:\n",
    "[178,177,176,177,178.2,178,175,179,180,175,178.9,176.2,177,172.5,178,176.5]'''\n",
    "b = [178,177,176,177,178.2,178,175,179,180,175,178.9,176.2,177,172.5,178,176.5]\n",
    "sd = np.std(b)\n",
    "sd\n"
   ]
  },
  {
   "cell_type": "code",
   "execution_count": 3,
   "id": "a831ceac-c7af-484c-9d69-7e38f76b878d",
   "metadata": {},
   "outputs": [
    {
     "data": {
      "text/plain": [
       "'ANS. variance, range, standard devation all show how the data is spread. and how far the mean is from the observations.\\nthis describe data set'"
      ]
     },
     "execution_count": 3,
     "metadata": {},
     "output_type": "execute_result"
    }
   ],
   "source": [
    "'''Q5. How are measures of dispersion such as range, variance, and standard deviation used to describe\n",
    "the spread of a dataset? Provide an example.'''\n",
    "'''ANS. variance, range, standard devation all show how the data is spread. and how far the mean is from the observations.\n",
    "this describe data set'''"
   ]
  },
  {
   "cell_type": "code",
   "execution_count": 4,
   "id": "5c63a020-4727-4102-b976-a9c830cdcb64",
   "metadata": {},
   "outputs": [
    {
     "data": {
      "text/plain": [
       "'Ans. Venn diagram is visual representaion of relation among data.'"
      ]
     },
     "execution_count": 4,
     "metadata": {},
     "output_type": "execute_result"
    }
   ],
   "source": [
    "'''Q6. What is a Venn diagram?'''\n",
    "'''Ans. Venn diagram is visual representaion of relation among data.'''"
   ]
  },
  {
   "cell_type": "code",
   "execution_count": 5,
   "id": "156cc76f-288c-46f2-a063-31e0a25013df",
   "metadata": {},
   "outputs": [
    {
     "name": "stdout",
     "output_type": "stream",
     "text": [
      "intersection {2, 6}\n",
      "union {0, 2, 3, 4, 5, 6, 7, 8, 10}\n"
     ]
    }
   ],
   "source": [
    "'''Q7. For the two given sets A = (2,3,4,5,6,7) & B = (0,2,6,8,10). Find:\n",
    "(i) A ^ B\n",
    "(ii) A ⋃ B'''\n",
    "a = {2,3,4,5,6,7}\n",
    "b = {0,2,6,8,10}\n",
    "inter = a.intersection(b)\n",
    "print('intersection',inter)\n",
    "union_1 = a.union(b)\n",
    "print('union', union_1)"
   ]
  },
  {
   "cell_type": "code",
   "execution_count": 6,
   "id": "bd51fabd-24ad-4777-a884-8eed995a376a",
   "metadata": {},
   "outputs": [
    {
     "data": {
      "text/plain": [
       "'Q8. What do you understand about skewness in data?'"
      ]
     },
     "execution_count": 6,
     "metadata": {},
     "output_type": "execute_result"
    }
   ],
   "source": [
    "'''Q8. What do you understand about skewness in data?'''\n",
    "#Skewness is a measurement of the distortion of symmetrical distribution or asymmetry in a data set"
   ]
  },
  {
   "cell_type": "code",
   "execution_count": 7,
   "id": "d969dba1-859b-456e-af98-b377743813f5",
   "metadata": {},
   "outputs": [
    {
     "data": {
      "text/plain": [
       "'Median will be right of the mean'"
      ]
     },
     "execution_count": 7,
     "metadata": {},
     "output_type": "execute_result"
    }
   ],
   "source": [
    "'''Q9. If a data is right skewed then what will be the position of median with respect to mean?'''\n",
    "'''Median will be right of the mean'''"
   ]
  },
  {
   "cell_type": "markdown",
   "id": "f0e1e1b3-798f-484a-9858-e0834429a103",
   "metadata": {},
   "source": [
    "'''Q10. Explain the difference between covariance and correlation. How are these measures used in\n",
    "statistical analysis?'''\n",
    "'''ANS. Covariance shows you how the two variables differ, whereas correlation shows you how the two variables are related"
   ]
  },
  {
   "cell_type": "markdown",
   "id": "aaf760c0-7497-44ef-a07d-74d5ed037973",
   "metadata": {},
   "source": [
    "'''Q11. What is the formula for calculating the sample mean? Provide an example calculation for a\n",
    "dataset.'''\n",
    "import numpy as np \n",
    "import pandas as pd\n",
    "df = pd.read_csv('titanic.csv')\n",
    "df_mean = np.mean(df)\n",
    "df_mean"
   ]
  },
  {
   "cell_type": "markdown",
   "id": "7495c7cf-df20-4eab-a085-5bf67472caa9",
   "metadata": {},
   "source": [
    "'''Q12. For a normal distribution data what is the relationship between its measure of central tendency?'''\n",
    "'''ANS. Any normal distribution has a graph that is perfectly symmetric about a vertical line through its peak. Therefore,\n",
    "all measures of central tendency (most commonly, the mean, median, and mode) give the same answer: the x -value of the pea"
   ]
  },
  {
   "cell_type": "markdown",
   "id": "7b9f904d-4cf0-4188-a637-3f2a68e905a0",
   "metadata": {},
   "source": [
    "'''Q13. How is covariance different from correlation?'''\n",
    "'''Covariance shows you how the two variables differ, whereas correlation shows you how the two variables are related'''"
   ]
  },
  {
   "cell_type": "code",
   "execution_count": 15,
   "id": "a5333342-8e34-4944-9530-736b6f344e63",
   "metadata": {},
   "outputs": [
    {
     "name": "stdout",
     "output_type": "stream",
     "text": [
      "3.0\n",
      "13.777777777777779\n"
     ]
    }
   ],
   "source": [
    "'''Q14. How do outliers affect measures of central tendency and dispersion? Provide an example.'''\n",
    "'''ANS. Outliers Measures of central tendency and dispersion can give misleading impressions of a data set if the set contains\n",
    "one or more outliers. An outlier is a value that is much greater than or much less than most of the other values in a data set.\n",
    "eg. here '100' is a outlier'''\n",
    "import numpy as np \n",
    "import scipy as stats\n",
    "a = [1,2,3,4,5,3,4,2]\n",
    "a_outlier = [1,2,3,4,5,3,4,2,100]\n",
    "print(np.mean(a))\n",
    "print(np.mean(a_outlier))"
   ]
  },
  {
   "cell_type": "code",
   "execution_count": null,
   "id": "36a707ce-f775-405e-99e4-518812bcb2b5",
   "metadata": {},
   "outputs": [],
   "source": []
  },
  {
   "cell_type": "code",
   "execution_count": null,
   "id": "669eeee3-1845-480e-b323-d14f2dd6d902",
   "metadata": {},
   "outputs": [],
   "source": []
  }
 ],
 "metadata": {
  "kernelspec": {
   "display_name": "Python 3 (ipykernel)",
   "language": "python",
   "name": "python3"
  },
  "language_info": {
   "codemirror_mode": {
    "name": "ipython",
    "version": 3
   },
   "file_extension": ".py",
   "mimetype": "text/x-python",
   "name": "python",
   "nbconvert_exporter": "python",
   "pygments_lexer": "ipython3",
   "version": "3.10.8"
  }
 },
 "nbformat": 4,
 "nbformat_minor": 5
}

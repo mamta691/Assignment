{
 "cells": [
  {
   "cell_type": "markdown",
   "id": "69d65ff9-14af-4d6f-9bdf-e1633a56a201",
   "metadata": {},
   "source": [
    "Q1.Which keyword is used to create a function?Create a function to return a list of odd numbers in the range of 1 to 25."
   ]
  },
  {
   "cell_type": "markdown",
   "id": "a508ee45-7def-4a9f-80a7-990c349e7547",
   "metadata": {},
   "source": [
    "Ans: def keyword is used to create a function."
   ]
  },
  {
   "cell_type": "code",
   "execution_count": 26,
   "id": "9cd66d56-1bce-471f-86e9-4c31a0df4bfc",
   "metadata": {},
   "outputs": [
    {
     "name": "stdout",
     "output_type": "stream",
     "text": [
      "1 3 5 7 9 11 13 15 17 19 21 23 25\n"
     ]
    }
   ],
   "source": [
    "start,end=1,25\n",
    "list=filter(lambda start:start%2!=0,range(start,end+1))\n",
    "print(*list)\n"
   ]
  },
  {
   "cell_type": "markdown",
   "id": "85e6cb62-4f82-4361-9444-a5fee65ecc9f",
   "metadata": {},
   "source": [
    "Q2.Why *args and **kwargs used in functions? create a function for *args and **kwargs each to demostrate their use?"
   ]
  },
  {
   "cell_type": "markdown",
   "id": "f99c443f-b360-4372-bcaf-d97017976d53",
   "metadata": {},
   "source": [
    " Ans: *args is used to pass a non-keyworded, variable-length argument list. It return value as tuple.\n",
    "      **kwargs is used to pass through keyword arguments.It returns value as dict."
   ]
  },
  {
   "cell_type": "code",
   "execution_count": 42,
   "id": "39d762dd-cb67-49c4-ae3e-641ada453581",
   "metadata": {},
   "outputs": [
    {
     "name": "stdout",
     "output_type": "stream",
     "text": [
      "mamta\n",
      "kumari\n",
      "is\n",
      "a\n",
      "data scientist\n"
     ]
    }
   ],
   "source": [
    "#*args\n",
    "def myfunc(*args):\n",
    "    for i in args:\n",
    "        print(i)\n",
    "myfunc(\"mamta\",\"kumari\",\"is\",\"a\",\"data scientist\")"
   ]
  },
  {
   "cell_type": "code",
   "execution_count": 44,
   "id": "a384e33f-a773-4592-b48b-3eaa31e4609a",
   "metadata": {},
   "outputs": [],
   "source": [
    "myfunc()"
   ]
  },
  {
   "cell_type": "code",
   "execution_count": 61,
   "id": "d30b9a70-c864-48c8-aae9-5a234b23dc91",
   "metadata": {},
   "outputs": [],
   "source": [
    "#**kwargs\n",
    "\n",
    "def myfunc(**args):\n",
    "    print(\"args: \",args)\n",
    "\n",
    "\n",
    "\n",
    "\n",
    "    "
   ]
  },
  {
   "cell_type": "code",
   "execution_count": 62,
   "id": "d22a0bb5-33a7-4101-8d82-7896d8b5efc1",
   "metadata": {},
   "outputs": [
    {
     "name": "stdout",
     "output_type": "stream",
     "text": [
      "args:  {}\n"
     ]
    }
   ],
   "source": [
    "myfunc()"
   ]
  },
  {
   "cell_type": "markdown",
   "id": "50c5908c-e17f-4ec1-a6f4-9987765f2c31",
   "metadata": {},
   "source": [
    "Q3.What is an iterator in python? Name the method used to initialised the iterator object and the method used for iteration\n",
    "Use these methodes to print first five elements of the given list[2,4,6,8,10,12,14,16,18,20]."
   ]
  },
  {
   "cell_type": "markdown",
   "id": "925ac198-b061-4dd0-84e8-8f8b7cc3036d",
   "metadata": {},
   "source": [
    "Ans: An iterator is an object that contains a countable number of values.\n",
    "  An iterator is an object which implements the iterator protocol,which consists of the methods __iter__() and__next__()."
   ]
  },
  {
   "cell_type": "code",
   "execution_count": 66,
   "id": "2efa5320-8846-405e-b9f7-31e1cf93a9f5",
   "metadata": {},
   "outputs": [
    {
     "name": "stdout",
     "output_type": "stream",
     "text": [
      "2\n",
      "4\n",
      "6\n",
      "8\n",
      "10\n",
      "12\n",
      "14\n",
      "16\n",
      "18\n",
      "20\n"
     ]
    }
   ],
   "source": [
    "list=[2,4,6,8,10,12,14,16,18,20]\n",
    "iter2=iter(list)\n",
    "for i in iter2:\n",
    "    print(i)\n"
   ]
  },
  {
   "cell_type": "markdown",
   "id": "268c5539-7a17-4869-8d8a-75a9546af7dd",
   "metadata": {},
   "source": [
    "Q4.What is a generator function in python?why yield keyword is used?Give an example of a generator function?"
   ]
  },
  {
   "cell_type": "markdown",
   "id": "d1b02c5b-afc5-49cf-9d02-96c962ee98b0",
   "metadata": {},
   "source": [
    "Ans:Generator function: A function that returns an iterator that produces a seuence of values when iterated over.\n",
    "Generators are useful when we want to produce a  large sequence of values,but we don't want to store all of them in memory at once.\n",
    "Yield keyword returns a generator object and can return multiple values to the caller without terminating the program."
   ]
  },
  {
   "cell_type": "code",
   "execution_count": 68,
   "id": "c0c4faaa-b718-4006-8d86-77841325b4b4",
   "metadata": {},
   "outputs": [
    {
     "name": "stdout",
     "output_type": "stream",
     "text": [
      "1\n",
      "2\n",
      "3\n"
     ]
    }
   ],
   "source": [
    "def myfunc():\n",
    "    yield 1\n",
    "    yield 2\n",
    "    yield 3\n",
    "for i in myfunc():\n",
    "        print(i)"
   ]
  },
  {
   "cell_type": "markdown",
   "id": "7521a176-77b5-445f-b164-441850d3e47f",
   "metadata": {},
   "source": [
    "Q5. Create a generator function for prime numbers less than 1000.Use the next() method to print the first 20 prime numbers?\n"
   ]
  },
  {
   "cell_type": "code",
   "execution_count": 18,
   "id": "78e58336-0def-46b8-9331-97e0f23cc6ba",
   "metadata": {},
   "outputs": [],
   "source": [
    "def primes():\n",
    "    yield 2\n",
    "    \n",
    "    primelist=[2]\n",
    "    \n",
    "    for i in range(3,1000):\n",
    "        is_prime=True\n",
    "        for p in primelist:\n",
    "            if i%p==0:\n",
    "                is_prime=False\n",
    "                break\n",
    "                if is_prime:\n",
    "                    primelist.append(i)\n",
    "                    yield i\n",
    "                    \n",
    "        prime_Gen=primes()\n",
    "    for i in range(20):\n",
    "        print(next(prime_Gen))\n",
    "                \n",
    "            "
   ]
  },
  {
   "cell_type": "markdown",
   "id": "2b00f9a4-dd26-4912-aa31-48fed41ab7b4",
   "metadata": {},
   "source": [
    "Q6.Write a python program to print 10 fibonacci numbers using a while loop?"
   ]
  },
  {
   "cell_type": "code",
   "execution_count": 19,
   "id": "ce9d914f-6a83-445a-9161-4fa9e93d2222",
   "metadata": {},
   "outputs": [],
   "source": [
    "def Fibonacci():\n",
    "    a=0\n",
    "    b=1\n",
    "    count=0\n",
    "    while count<10:\n",
    "        print(a)\n",
    "        a=b\n",
    "        b=a+b\n",
    "        count=count+1\n",
    "        "
   ]
  },
  {
   "cell_type": "code",
   "execution_count": 21,
   "id": "12c0fa01-7017-4330-a91b-212daeabf34d",
   "metadata": {},
   "outputs": [
    {
     "name": "stdout",
     "output_type": "stream",
     "text": [
      "0\n",
      "1\n",
      "2\n",
      "4\n",
      "8\n",
      "16\n",
      "32\n",
      "64\n",
      "128\n",
      "256\n"
     ]
    }
   ],
   "source": [
    "Fibonacci()"
   ]
  },
  {
   "cell_type": "markdown",
   "id": "aa1a67d2-5580-48a0-a669-c97deeb6adbc",
   "metadata": {},
   "source": [
    "Q7. Write a list comprehension to iterate through the given string;'pwskills'.Expected output:['p','w','s','k','i','l','l','s']"
   ]
  },
  {
   "cell_type": "code",
   "execution_count": 24,
   "id": "2d1bbb1e-5e72-44c3-ba5e-2f5bc3597c3e",
   "metadata": {},
   "outputs": [
    {
     "name": "stdout",
     "output_type": "stream",
     "text": [
      "['p', 'w', 's', 'k', 'i', 'l', 'l', 's']\n"
     ]
    }
   ],
   "source": [
    "string=\"pwskills\"\n",
    "out=[i for i in string]\n",
    "print(out)"
   ]
  },
  {
   "cell_type": "markdown",
   "id": "e8f56bc1-a529-4821-a379-2713cc623c95",
   "metadata": {},
   "source": [
    "Q8.Write a python program to print whether a given no. is palindrome or not by using while loop?"
   ]
  },
  {
   "cell_type": "code",
   "execution_count": 31,
   "id": "42a9378d-4796-4c10-b7a3-58a46f167a0d",
   "metadata": {},
   "outputs": [
    {
     "name": "stdin",
     "output_type": "stream",
     "text": [
      "Enter the no.: 131\n"
     ]
    },
    {
     "name": "stdout",
     "output_type": "stream",
     "text": [
      "The number is not palindrome....\n",
      "The number is not palindrome....\n",
      "The number is palindrome!\n"
     ]
    }
   ],
   "source": [
    "n=int(input(\"Enter the no.:\"))\n",
    "temp=n\n",
    "rev=0\n",
    "while(n>0):\n",
    "    digit=n%10\n",
    "    rev=rev*10+digit\n",
    "    n=n//10\n",
    "    if(temp==rev):\n",
    "        print(\"The number is palindrome!\")\n",
    "    else:\n",
    "        print(\"The number is not palindrome....\")"
   ]
  },
  {
   "cell_type": "markdown",
   "id": "75c4fed3-4815-4ca3-b1d1-be819db2419e",
   "metadata": {},
   "source": [
    "Q9. Write a code to print odd numbers from 1 to 100 for using list comprehension?"
   ]
  },
  {
   "cell_type": "code",
   "execution_count": 33,
   "id": "6fd18b47-13ea-4656-91d2-b226eebec759",
   "metadata": {},
   "outputs": [
    {
     "data": {
      "text/plain": [
       "[1,\n",
       " 3,\n",
       " 5,\n",
       " 7,\n",
       " 9,\n",
       " 11,\n",
       " 13,\n",
       " 15,\n",
       " 17,\n",
       " 19,\n",
       " 21,\n",
       " 23,\n",
       " 25,\n",
       " 27,\n",
       " 29,\n",
       " 31,\n",
       " 33,\n",
       " 35,\n",
       " 37,\n",
       " 39,\n",
       " 41,\n",
       " 43,\n",
       " 45,\n",
       " 47,\n",
       " 49,\n",
       " 51,\n",
       " 53,\n",
       " 55,\n",
       " 57,\n",
       " 59,\n",
       " 61,\n",
       " 63,\n",
       " 65,\n",
       " 67,\n",
       " 69,\n",
       " 71,\n",
       " 73,\n",
       " 75,\n",
       " 77,\n",
       " 79,\n",
       " 81,\n",
       " 83,\n",
       " 85,\n",
       " 87,\n",
       " 89,\n",
       " 91,\n",
       " 93,\n",
       " 95,\n",
       " 97,\n",
       " 99]"
      ]
     },
     "execution_count": 33,
     "metadata": {},
     "output_type": "execute_result"
    }
   ],
   "source": [
    "[odd for odd in range(1,100) if odd%2!=0 ]"
   ]
  },
  {
   "cell_type": "code",
   "execution_count": null,
   "id": "9405cd0b-3551-4bc9-8ee1-f8cb1c210bb9",
   "metadata": {},
   "outputs": [],
   "source": []
  }
 ],
 "metadata": {
  "kernelspec": {
   "display_name": "Python 3 (ipykernel)",
   "language": "python",
   "name": "python3"
  },
  "language_info": {
   "codemirror_mode": {
    "name": "ipython",
    "version": 3
   },
   "file_extension": ".py",
   "mimetype": "text/x-python",
   "name": "python",
   "nbconvert_exporter": "python",
   "pygments_lexer": "ipython3",
   "version": "3.10.8"
  }
 },
 "nbformat": 4,
 "nbformat_minor": 5
}

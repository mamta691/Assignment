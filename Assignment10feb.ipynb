{
 "cells": [
  {
   "cell_type": "markdown",
   "id": "96591d79-3d7a-41e0-990a-b800f5ff8738",
   "metadata": {},
   "source": [
    "#Q1. Which function is used to open a file? What are the different modes of opening a file? Explain each modeof file opening.\n",
    "#In Python, the built-in function 'open()' is used to open a file. The 'open()' function takes two parameters: the name of the file to be opened and the mode in which the file should be opened\n",
    "\n",
    "The different modes of opening a file in Python are:\n",
    "\n",
    "'r' (read-only mode): This mode is used to open a file for reading only. The file pointer is placed at the beginning of the file. If the file does not exist, a FileNotFoundError is raised.\n",
    "\n",
    "'w' (write mode): This mode is used to open a file for writing. If the file already exists, its contents are truncated (i.e., deleted). If the file does not exist, a new file with the given name is created.\n",
    "\n",
    "'a' (append mode): This mode is used to open a file for writing. The file pointer is placed at the end of the file. If the file does not exist, a new file with the given name is created.\n",
    "\n",
    "'x' (exclusive creation mode): This mode is used to open a file for writing. If the file already exists, a FileExistsError is raised. If the file does not exist, a new file with the given name is created.\n",
    "\n",
    "'b' (binary mode): This mode is used to open a file in binary mode. The file is read and written in binary format, rather than the default text format.\n",
    "\n",
    "You can combine these modes by using one or more of them together. For example, 'rb' means binary mode read-only, and 'wb' means write in binary mode.\n",
    "\n",
    "f = open(\"example.txt\", \"r\")\n",
    "contents = f.read()"
   ]
  },
  {
   "cell_type": "markdown",
   "id": "8c36b19e-716d-47e2-8ae5-f39981bdbf73",
   "metadata": {},
   "source": [
    "#Q2. Why close() function is used? Why is it important to close a file?\n",
    "#The close() function is used to close an open file in Python. It is important to close a file after you are done with it for the following reasons:\n",
    "\n",
    "#Releasing resources: When a file is open, system resources such as memory and file descriptors are allocated to that file. By closing the file, you release these resources back to the system, making them available for other processes.\n",
    "\n",
    "#Flushing changes: When you write to a file, the changes are not always immediately saved to disk.\n",
    "#By closing the file, you ensure that any changes you have made are flushed to disk and the file is properly updated.\n",
    "\n",
    "#Preventing data corruption: If you don't close a file properly, the file can become corrupted. For example, \n",
    "#if you are writing to a file and the process is terminated before the file is closed, \n",
    "#the contents of the file may be lost or become inconsistent. \n",
    "#Closing the file ensures that all changes are properly saved and the file is in a consistent state.#\n",
    "\n",
    "f = open(\"example.txt\", \"w\")\n",
    "contents = f.read()\n",
    "print(contents)\n",
    "f.close()\n"
   ]
  },
  {
   "cell_type": "code",
   "execution_count": 5,
   "id": "7c49835f-035f-43af-a07f-5530e698e59a",
   "metadata": {},
   "outputs": [
    {
     "name": "stdout",
     "output_type": "stream",
     "text": [
      "I want to become a Data Scientist\n"
     ]
    }
   ],
   "source": [
    "#Q3. Write a python program to create a text file. Write ‘I want to become a Data Scientist’ in that file. Then close the file. Open this file and read the content of the file.\n",
    "# create file:\n",
    "\n",
    "with open('file.txt','w') as f:\n",
    "    f.write(\"I want to become a Data Scientist\")\n",
    "    \n",
    "# Read content:\n",
    "\n",
    "with open('file.txt','r') as f:\n",
    "    content=f.read()\n",
    "    print(content)"
   ]
  },
  {
   "cell_type": "code",
   "execution_count": 9,
   "id": "a90580c6-bdbd-4913-991f-44c93430df60",
   "metadata": {},
   "outputs": [
    {
     "name": "stdout",
     "output_type": "stream",
     "text": [
      "\n",
      "\n"
     ]
    }
   ],
   "source": [
    "#Q4. Explain the following with python code: read(), readline() and readlines().\n",
    "#r#ead(): The read()__ method reads the entire contents of a file and returns it as a single string\n",
    "with open(\"example.txt\",\"r\") as f:\n",
    "    c=f.read()\n",
    "    print(c)\n",
    "#this is my first file created.\n",
    "#I'm very excited to create it.\n",
    "#thank you!!!\n",
    "#readline(): The readline() method reads a single line from the file and returns it as a string.\n",
    "with open(\"example.txt\",\"r\") as f:\n",
    "    d=f.readline()\n",
    "    print(d)"
   ]
  },
  {
   "cell_type": "code",
   "execution_count": 10,
   "id": "911f180f-b84d-42c4-9d41-2e6fa18f9755",
   "metadata": {},
   "outputs": [],
   "source": [
    "#readlines(): The readlines() method reads all the lines of the file and returns them as a list of strings.\n",
    "with open(\"example.txt\", \"r\") as f:\n",
    "    lines = f.readlines()\n",
    "    for line in lines:\n",
    "        print(line)"
   ]
  },
  {
   "cell_type": "markdown",
   "id": "08d0756a-7d86-49b7-9982-667c386e49b2",
   "metadata": {},
   "source": [
    "Q5. Explain why with statement is used with open(). What is the advantage of using with statement and open() together?\n",
    "The with statement is used with open() in Python to ensure that the file is properly closed after it has been used. The with statement provides a convenient way to manage the lifetime of a file and ensures that the file is properly closed, even if an error occurs while working with the file.\n",
    "\n",
    "The advantage of using the with statement and open() together is that it makes it easier to write robust and error-free code. By using the with statement, you don't have to worry about forgetting to close the file or about the file being left open if an error occurs.\n",
    "\n",
    "with open(\"file.txt\", \"r\") as f:\n",
    "    contents = f.read()\n",
    "    print(contents)"
   ]
  },
  {
   "cell_type": "code",
   "execution_count": null,
   "id": "7a56c0b1-3437-46bf-94fb-5475dcee8460",
   "metadata": {},
   "outputs": [],
   "source": [
    "Q6. Explain the write() and writelines() functions. Give a suitable example.\n",
    "write(): The write() function writes a string to the file. The string is passed as an argument to the write() function\n",
    "with open(\"text.txt\", \"w\") as f:\n",
    "    f.write(\"Hello World\")\n",
    "writelines(): The writelines() function writes a list of strings to the file. The list of strings is passed as an argument to the writelines() function.\n",
    "lines = [\"I want to become a Data Scientist\", \"Data Science is my passion\"]\n",
    "\n",
    "with open(\"text.txt\", \"w\") as f:\n",
    "    f.writelines(lines)\n",
    " "
   ]
  }
 ],
 "metadata": {
  "kernelspec": {
   "display_name": "Python 3 (ipykernel)",
   "language": "python",
   "name": "python3"
  },
  "language_info": {
   "codemirror_mode": {
    "name": "ipython",
    "version": 3
   },
   "file_extension": ".py",
   "mimetype": "text/x-python",
   "name": "python",
   "nbconvert_exporter": "python",
   "pygments_lexer": "ipython3",
   "version": "3.10.8"
  }
 },
 "nbformat": 4,
 "nbformat_minor": 5
}

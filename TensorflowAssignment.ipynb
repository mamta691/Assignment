{
 "cells": [
  {
   "cell_type": "code",
   "execution_count": null,
   "id": "a9b0716b-5356-48ad-b656-0278cd19b2cf",
   "metadata": {},
   "outputs": [],
   "source": [
    "\"\"\"\n",
    "What are the different data structures used in Tensorflow?. Give some examplesc\n",
    "\"\"\"\n",
    "\"\"\"\n",
    "In TensorFlow, there are several data structures used for representing and manipulating data. Here are the main ones along with examples:\n",
    "\n",
    "Tensors: Tensors are multi-dimensional arrays used to store and compute numerical data. They can represent scalars, vectors, matrices, or higher-dimensional arrays. For example, a tensor can store pixel values of an image or feature vectors in a dataset.\n",
    "\n",
    "Variables: Variables are mutable tensors that hold values during computation. They are often used to store model parameters that need to be optimized, such as weights and biases in neural networks. For instance, in a linear regression model, a variable can represent the slope and intercept of the regression line.\n",
    "\n",
    "Constants: Constants are tensors with fixed values that remain unchanged throughout the computation. They are typically used to store hyperparameters or other fixed values. An example of a constant can be the number of classes in a classification problem.\n",
    "\n",
    "Placeholders: Placeholders act as input nodes in the computational graph and are used for dynamic data feeding during execution. They allow data to be supplied later during runtime. For example, a placeholder can be used to feed batches of images or sequences of different lengths into a model.\n",
    "\n",
    "Sparse Tensors: Sparse tensors are designed to efficiently represent and process tensors with a large number of zero or sparse values. They store only the non-zero elements along with their indices, saving memory and computation time. Sparse tensors are commonly used in tasks involving sparse data, such as natural language processing.\n",
    "\n",
    "DataSets: DataSets provide an abstraction for handling large datasets and enable efficient data loading, preprocessing, and batching. They allow for easy iteration over the data during model training or evaluation. For instance, a dataset can represent a collection of images or a sequence of text documents.\n",
    "\n",
    "Ragged Tensors: Ragged Tensors are used to represent tensors with varying lengths along one or more dimensions. They are suitable for handling data with irregular shapes, such as sequences of different lengths or nested structures. For example, a ragged tensor can represent sentences of varying lengths in a language model.\n",
    "\n",
    "These data structures form the foundation for representing and manipulating data in TensorFlow. Each structure serves a specific purpose and is used in different contexts to facilitate efficient computation and training of machine learning models.\n",
    "\"\"\"\n",
    "\"\"\"\n",
    "How does the TensorFlow constant differ from a TensorFlow variable? Explain with an example\n",
    "\"\"\"\n",
    "\"\"\"\n",
    "TensorFlow Constant:\n",
    "A TensorFlow constant is a data structure that holds a fixed value throughout the computation. It is immutable, meaning its value cannot be changed once it is defined. Constants are typically used to store fixed values like hyperparameters or input data that remain the same during the execution of the computational graph.\n",
    "\n",
    "TensorFlow Variable:\n",
    "A TensorFlow variable, on the other hand, is a mutable data structure that can hold values that are updated during the computation. Variables are typically used to store model parameters that need to be optimized, such as weights and biases in neural networks. Unlike constants, variables can be modified and updated during training or optimization processes.\n",
    "\n",
    "In summary, TensorFlow constants hold fixed values throughout the computation, while TensorFlow variables are mutable and can be updated during the computation, typically used for model parameters. Constants are immutable and cannot be changed, while variables are mutable and can be optimized or updated during training or optimization processes.\n",
    "\"\"\"\n",
    "\"\"\"\n",
    "Describe the process of matrix addition, multiplication, and elementDwise operations in TensorFlow.\n",
    "\"\"\"\n",
    "\"\"\"\n",
    "In TensorFlow, matrix addition, multiplication, and element-wise operations are fundamental mathematical operations that can be performed on tensors. Here's a description of each process:\n",
    "\n",
    "Matrix Addition:\n",
    "Matrix addition involves adding two matrices of the same shape element-wise. In TensorFlow, you can perform matrix addition using the tf.add() function or the + operator.\n",
    "\n",
    "import tensorflow as tf\n",
    "\n",
    "# Define two matrices\n",
    "matrix1 = tf.constant([[1, 2], [3, 4]])\n",
    "matrix2 = tf.constant([[5, 6], [7, 8]])\n",
    "\n",
    "# Perform matrix addition\n",
    "result = tf.add(matrix1, matrix2)\n",
    "\n",
    "# Create a TensorFlow session and run the computation\n",
    "with tf.Session() as sess:\n",
    "    output = sess.run(result)\n",
    "    print(output)  # Output: [[6, 8], [10, 12]]\n",
    "Matrix Multiplication:\n",
    "Matrix multiplication involves multiplying two matrices, and the number of columns in the first matrix must match the number of rows in the second matrix. In TensorFlow, you can use the tf.matmul() function to perform matrix multiplication.\n",
    "\n",
    "\n",
    "import tensorflow as tf\n",
    "\n",
    "# Define two matrices\n",
    "matrix1 = tf.constant([[1, 2], [3, 4]])\n",
    "matrix2 = tf.constant([[5, 6], [7, 8]])\n",
    "\n",
    "# Perform matrix multiplication\n",
    "result = tf.matmul(matrix1, matrix2)\n",
    "\n",
    "# Create a TensorFlow session and run the computation\n",
    "with tf.Session() as sess:\n",
    "    output = sess.run(result)\n",
    "    print(output)  # Output: [[19, 22], [43, 50]]\n",
    "\n",
    "Element-wise Operations:\n",
    "Element-wise operations are operations performed independently on corresponding elements of two tensors of the same shape. TensorFlow provides various element-wise operations, such as element-wise addition (tf.add()), element-wise subtraction (tf.subtract()), element-wise multiplication (tf.multiply()), element-wise division (tf.divide()), and more.\n",
    "\n",
    "import tensorflow as tf\n",
    "\n",
    "# Define two tensors\n",
    "tensor1 = tf.constant([1, 2, 3])\n",
    "tensor2 = tf.constant([4, 5, 6])\n",
    "\n",
    "# Perform element-wise addition\n",
    "add_result = tf.add(tensor1, tensor2)\n",
    "\n",
    "# Perform element-wise multiplication\n",
    "mul_result = tf.multiply(tensor1, tensor2)\n",
    "\n",
    "# Create a TensorFlow session and run the computations\n",
    "with tf.Session() as sess:\n",
    "    add_output = sess.run(add_result)\n",
    "    mul_output = sess.run(mul_result)\n",
    "    print(add_output)  # Output: [5, 7, 9]\n",
    "    print(mul_output)  # Output: [4, 10, 18]\n",
    "\n",
    "\"\"\"\n",
    "\"\"\"\n",
    "Create a normal matrix A with dimensions 2x2, using TensorFlow's random_normal function. Display the\n",
    "values of matrix A\n",
    "\"\"\""
   ]
  },
  {
   "cell_type": "code",
   "execution_count": 1,
   "id": "3d6c8395-2bbd-4983-bf78-e2d30e5093c9",
   "metadata": {},
   "outputs": [
    {
     "name": "stdout",
     "output_type": "stream",
     "text": [
      "Collecting tensorflow\n",
      "  Downloading tensorflow-2.13.0-cp310-cp310-manylinux_2_17_x86_64.manylinux2014_x86_64.whl (524.1 MB)\n",
      "\u001b[2K     \u001b[90m━━━━━━━━━━━━━━━━━━━━━━━━━━━━━━━━━━━━━━━\u001b[0m \u001b[32m524.1/524.1 MB\u001b[0m \u001b[31m3.0 MB/s\u001b[0m eta \u001b[36m0:00:00\u001b[0m00:01\u001b[0m00:01\u001b[0m\n",
      "\u001b[?25hCollecting grpcio<2.0,>=1.24.3\n",
      "  Downloading grpcio-1.57.0-cp310-cp310-manylinux_2_17_x86_64.manylinux2014_x86_64.whl (5.3 MB)\n",
      "\u001b[2K     \u001b[90m━━━━━━━━━━━━━━━━━━━━━━━━━━━━━━━━━━━━━━━━\u001b[0m \u001b[32m5.3/5.3 MB\u001b[0m \u001b[31m80.4 MB/s\u001b[0m eta \u001b[36m0:00:00\u001b[0mta \u001b[36m0:00:01\u001b[0m\n",
      "\u001b[?25hRequirement already satisfied: typing-extensions<4.6.0,>=3.6.6 in /opt/conda/lib/python3.10/site-packages (from tensorflow) (4.4.0)\n",
      "Collecting astunparse>=1.6.0\n",
      "  Downloading astunparse-1.6.3-py2.py3-none-any.whl (12 kB)\n",
      "Collecting google-pasta>=0.1.1\n",
      "  Downloading google_pasta-0.2.0-py3-none-any.whl (57 kB)\n",
      "\u001b[2K     \u001b[90m━━━━━━━━━━━━━━━━━━━━━━━━━━━━━━━━━━━━━━━━\u001b[0m \u001b[32m57.5/57.5 kB\u001b[0m \u001b[31m11.4 MB/s\u001b[0m eta \u001b[36m0:00:00\u001b[0m\n",
      "\u001b[?25hCollecting termcolor>=1.1.0\n",
      "  Downloading termcolor-2.3.0-py3-none-any.whl (6.9 kB)\n",
      "Collecting tensorflow-estimator<2.14,>=2.13.0\n",
      "  Downloading tensorflow_estimator-2.13.0-py2.py3-none-any.whl (440 kB)\n",
      "\u001b[2K     \u001b[90m━━━━━━━━━━━━━━━━━━━━━━━━━━━━━━━━━━━━━━\u001b[0m \u001b[32m440.8/440.8 kB\u001b[0m \u001b[31m43.2 MB/s\u001b[0m eta \u001b[36m0:00:00\u001b[0m\n",
      "\u001b[?25hCollecting libclang>=13.0.0\n",
      "  Downloading libclang-16.0.6-py2.py3-none-manylinux2010_x86_64.whl (22.9 MB)\n",
      "\u001b[2K     \u001b[90m━━━━━━━━━━━━━━━━━━━━━━━━━━━━━━━━━━━━━━━━\u001b[0m \u001b[32m22.9/22.9 MB\u001b[0m \u001b[31m52.2 MB/s\u001b[0m eta \u001b[36m0:00:00\u001b[0m00:01\u001b[0m00:01\u001b[0m\n",
      "\u001b[?25hCollecting gast<=0.4.0,>=0.2.1\n",
      "  Downloading gast-0.4.0-py3-none-any.whl (9.8 kB)\n",
      "Collecting absl-py>=1.0.0\n",
      "  Downloading absl_py-1.4.0-py3-none-any.whl (126 kB)\n",
      "\u001b[2K     \u001b[90m━━━━━━━━━━━━━━━━━━━━━━━━━━━━━━━━━━━━━━\u001b[0m \u001b[32m126.5/126.5 kB\u001b[0m \u001b[31m22.6 MB/s\u001b[0m eta \u001b[36m0:00:00\u001b[0m\n",
      "\u001b[?25hCollecting opt-einsum>=2.3.2\n",
      "  Downloading opt_einsum-3.3.0-py3-none-any.whl (65 kB)\n",
      "\u001b[2K     \u001b[90m━━━━━━━━━━━━━━━━━━━━━━━━━━━━━━━━━━━━━━━━\u001b[0m \u001b[32m65.5/65.5 kB\u001b[0m \u001b[31m13.5 MB/s\u001b[0m eta \u001b[36m0:00:00\u001b[0m\n",
      "\u001b[?25hRequirement already satisfied: numpy<=1.24.3,>=1.22 in /opt/conda/lib/python3.10/site-packages (from tensorflow) (1.23.5)\n",
      "Collecting tensorboard<2.14,>=2.13\n",
      "  Downloading tensorboard-2.13.0-py3-none-any.whl (5.6 MB)\n",
      "\u001b[2K     \u001b[90m━━━━━━━━━━━━━━━━━━━━━━━━━━━━━━━━━━━━━━━━\u001b[0m \u001b[32m5.6/5.6 MB\u001b[0m \u001b[31m72.4 MB/s\u001b[0m eta \u001b[36m0:00:00\u001b[0m:00:01\u001b[0m0:01\u001b[0m\n",
      "\u001b[?25hCollecting tensorflow-io-gcs-filesystem>=0.23.1\n",
      "  Downloading tensorflow_io_gcs_filesystem-0.33.0-cp310-cp310-manylinux_2_12_x86_64.manylinux2010_x86_64.whl (2.4 MB)\n",
      "\u001b[2K     \u001b[90m━━━━━━━━━━━━━━━━━━━━━━━━━━━━━━━━━━━━━━━━\u001b[0m \u001b[32m2.4/2.4 MB\u001b[0m \u001b[31m66.6 MB/s\u001b[0m eta \u001b[36m0:00:00\u001b[0m:00:01\u001b[0m\n",
      "\u001b[?25hRequirement already satisfied: setuptools in /opt/conda/lib/python3.10/site-packages (from tensorflow) (65.5.1)\n",
      "Requirement already satisfied: h5py>=2.9.0 in /opt/conda/lib/python3.10/site-packages (from tensorflow) (3.7.0)\n",
      "Collecting flatbuffers>=23.1.21\n",
      "  Downloading flatbuffers-23.5.26-py2.py3-none-any.whl (26 kB)\n",
      "Collecting wrapt>=1.11.0\n",
      "  Downloading wrapt-1.15.0-cp310-cp310-manylinux_2_5_x86_64.manylinux1_x86_64.manylinux_2_17_x86_64.manylinux2014_x86_64.whl (78 kB)\n",
      "\u001b[2K     \u001b[90m━━━━━━━━━━━━━━━━━━━━━━━━━━━━━━━━━━━━━━━━\u001b[0m \u001b[32m78.4/78.4 kB\u001b[0m \u001b[31m14.6 MB/s\u001b[0m eta \u001b[36m0:00:00\u001b[0m\n",
      "\u001b[?25hRequirement already satisfied: six>=1.12.0 in /opt/conda/lib/python3.10/site-packages (from tensorflow) (1.16.0)\n",
      "Requirement already satisfied: packaging in /opt/conda/lib/python3.10/site-packages (from tensorflow) (22.0)\n",
      "Collecting keras<2.14,>=2.13.1\n",
      "  Downloading keras-2.13.1-py3-none-any.whl (1.7 MB)\n",
      "\u001b[2K     \u001b[90m━━━━━━━━━━━━━━━━━━━━━━━━━━━━━━━━━━━━━━━━\u001b[0m \u001b[32m1.7/1.7 MB\u001b[0m \u001b[31m73.8 MB/s\u001b[0m eta \u001b[36m0:00:00\u001b[0m\n",
      "\u001b[?25hRequirement already satisfied: protobuf!=4.21.0,!=4.21.1,!=4.21.2,!=4.21.3,!=4.21.4,!=4.21.5,<5.0.0dev,>=3.20.3 in /opt/conda/lib/python3.10/site-packages (from tensorflow) (4.21.11)\n",
      "Requirement already satisfied: wheel<1.0,>=0.23.0 in /opt/conda/lib/python3.10/site-packages (from astunparse>=1.6.0->tensorflow) (0.38.4)\n",
      "Collecting tensorboard-data-server<0.8.0,>=0.7.0\n",
      "  Downloading tensorboard_data_server-0.7.1-py3-none-manylinux2014_x86_64.whl (6.6 MB)\n",
      "\u001b[2K     \u001b[90m━━━━━━━━━━━━━━━━━━━━━━━━━━━━━━━━━━━━━━━━\u001b[0m \u001b[32m6.6/6.6 MB\u001b[0m \u001b[31m75.8 MB/s\u001b[0m eta \u001b[36m0:00:00\u001b[0m:00:01\u001b[0m0:01\u001b[0m\n",
      "\u001b[?25hRequirement already satisfied: requests<3,>=2.21.0 in /opt/conda/lib/python3.10/site-packages (from tensorboard<2.14,>=2.13->tensorflow) (2.28.1)\n",
      "Collecting google-auth-oauthlib<1.1,>=0.5\n",
      "  Downloading google_auth_oauthlib-1.0.0-py2.py3-none-any.whl (18 kB)\n",
      "Collecting markdown>=2.6.8\n",
      "  Downloading Markdown-3.4.4-py3-none-any.whl (94 kB)\n",
      "\u001b[2K     \u001b[90m━━━━━━━━━━━━━━━━━━━━━━━━━━━━━━━━━━━━━━━━\u001b[0m \u001b[32m94.2/94.2 kB\u001b[0m \u001b[31m16.2 MB/s\u001b[0m eta \u001b[36m0:00:00\u001b[0m\n",
      "\u001b[?25hCollecting google-auth<3,>=1.6.3\n",
      "  Downloading google_auth-2.22.0-py2.py3-none-any.whl (181 kB)\n",
      "\u001b[2K     \u001b[90m━━━━━━━━━━━━━━━━━━━━━━━━━━━━━━━━━━━━━━\u001b[0m \u001b[32m181.8/181.8 kB\u001b[0m \u001b[31m28.4 MB/s\u001b[0m eta \u001b[36m0:00:00\u001b[0m\n",
      "\u001b[?25hCollecting werkzeug>=1.0.1\n",
      "  Downloading Werkzeug-2.3.6-py3-none-any.whl (242 kB)\n",
      "\u001b[2K     \u001b[90m━━━━━━━━━━━━━━━━━━━━━━━━━━━━━━━━━━━━━━\u001b[0m \u001b[32m242.5/242.5 kB\u001b[0m \u001b[31m33.8 MB/s\u001b[0m eta \u001b[36m0:00:00\u001b[0m\n",
      "\u001b[?25hCollecting cachetools<6.0,>=2.0.0\n",
      "  Downloading cachetools-5.3.1-py3-none-any.whl (9.3 kB)\n",
      "Collecting rsa<5,>=3.1.4\n",
      "  Downloading rsa-4.9-py3-none-any.whl (34 kB)\n",
      "Requirement already satisfied: urllib3<2.0 in /opt/conda/lib/python3.10/site-packages (from google-auth<3,>=1.6.3->tensorboard<2.14,>=2.13->tensorflow) (1.26.13)\n",
      "Collecting pyasn1-modules>=0.2.1\n",
      "  Downloading pyasn1_modules-0.3.0-py2.py3-none-any.whl (181 kB)\n",
      "\u001b[2K     \u001b[90m━━━━━━━━━━━━━━━━━━━━━━━━━━━━━━━━━━━━━━\u001b[0m \u001b[32m181.3/181.3 kB\u001b[0m \u001b[31m26.5 MB/s\u001b[0m eta \u001b[36m0:00:00\u001b[0m\n",
      "\u001b[?25hCollecting requests-oauthlib>=0.7.0\n",
      "  Downloading requests_oauthlib-1.3.1-py2.py3-none-any.whl (23 kB)\n",
      "Requirement already satisfied: idna<4,>=2.5 in /opt/conda/lib/python3.10/site-packages (from requests<3,>=2.21.0->tensorboard<2.14,>=2.13->tensorflow) (3.4)\n",
      "Requirement already satisfied: charset-normalizer<3,>=2 in /opt/conda/lib/python3.10/site-packages (from requests<3,>=2.21.0->tensorboard<2.14,>=2.13->tensorflow) (2.1.1)\n",
      "Requirement already satisfied: certifi>=2017.4.17 in /opt/conda/lib/python3.10/site-packages (from requests<3,>=2.21.0->tensorboard<2.14,>=2.13->tensorflow) (2022.12.7)\n",
      "Requirement already satisfied: MarkupSafe>=2.1.1 in /opt/conda/lib/python3.10/site-packages (from werkzeug>=1.0.1->tensorboard<2.14,>=2.13->tensorflow) (2.1.1)\n",
      "Collecting pyasn1<0.6.0,>=0.4.6\n",
      "  Downloading pyasn1-0.5.0-py2.py3-none-any.whl (83 kB)\n",
      "\u001b[2K     \u001b[90m━━━━━━━━━━━━━━━━━━━━━━━━━━━━━━━━━━━━━━━━\u001b[0m \u001b[32m83.9/83.9 kB\u001b[0m \u001b[31m16.4 MB/s\u001b[0m eta \u001b[36m0:00:00\u001b[0m\n",
      "\u001b[?25hRequirement already satisfied: oauthlib>=3.0.0 in /opt/conda/lib/python3.10/site-packages (from requests-oauthlib>=0.7.0->google-auth-oauthlib<1.1,>=0.5->tensorboard<2.14,>=2.13->tensorflow) (3.2.2)\n",
      "Installing collected packages: libclang, flatbuffers, wrapt, werkzeug, termcolor, tensorflow-io-gcs-filesystem, tensorflow-estimator, tensorboard-data-server, pyasn1, opt-einsum, markdown, keras, grpcio, google-pasta, gast, cachetools, astunparse, absl-py, rsa, requests-oauthlib, pyasn1-modules, google-auth, google-auth-oauthlib, tensorboard, tensorflow\n",
      "Successfully installed absl-py-1.4.0 astunparse-1.6.3 cachetools-5.3.1 flatbuffers-23.5.26 gast-0.4.0 google-auth-2.22.0 google-auth-oauthlib-1.0.0 google-pasta-0.2.0 grpcio-1.57.0 keras-2.13.1 libclang-16.0.6 markdown-3.4.4 opt-einsum-3.3.0 pyasn1-0.5.0 pyasn1-modules-0.3.0 requests-oauthlib-1.3.1 rsa-4.9 tensorboard-2.13.0 tensorboard-data-server-0.7.1 tensorflow-2.13.0 tensorflow-estimator-2.13.0 tensorflow-io-gcs-filesystem-0.33.0 termcolor-2.3.0 werkzeug-2.3.6 wrapt-1.15.0\n",
      "Note: you may need to restart the kernel to use updated packages.\n"
     ]
    }
   ],
   "source": [
    "pip install tensorflow"
   ]
  },
  {
   "cell_type": "code",
   "execution_count": 3,
   "id": "ab721055-ce70-4959-92a1-d4ff1f62c403",
   "metadata": {},
   "outputs": [
    {
     "name": "stderr",
     "output_type": "stream",
     "text": [
      "2023-08-11 10:14:23.532983: I tensorflow/tsl/cuda/cudart_stub.cc:28] Could not find cuda drivers on your machine, GPU will not be used.\n",
      "2023-08-11 10:14:23.604283: I tensorflow/tsl/cuda/cudart_stub.cc:28] Could not find cuda drivers on your machine, GPU will not be used.\n",
      "2023-08-11 10:14:23.605651: I tensorflow/core/platform/cpu_feature_guard.cc:182] This TensorFlow binary is optimized to use available CPU instructions in performance-critical operations.\n",
      "To enable the following instructions: AVX2 FMA, in other operations, rebuild TensorFlow with the appropriate compiler flags.\n",
      "2023-08-11 10:14:24.801229: W tensorflow/compiler/tf2tensorrt/utils/py_utils.cc:38] TF-TRT Warning: Could not find TensorRT\n"
     ]
    },
    {
     "name": "stdout",
     "output_type": "stream",
     "text": [
      "[[ 0.41294628 -2.5645945 ]\n",
      " [ 1.1481975  -0.5910397 ]]\n"
     ]
    }
   ],
   "source": [
    "import tensorflow as tf\n",
    "# Create a 2x2 matrix with random values from a normal distribution\n",
    "matrix_A = tf.random.normal(shape=[2, 2])\n",
    "\n",
    "# Evaluate the matrix A\n",
    "matrix_A_values = matrix_A.numpy()\n",
    "\n",
    "print(matrix_A_values)"
   ]
  },
  {
   "cell_type": "code",
   "execution_count": 4,
   "id": "35dc7635-a1aa-4326-88ee-9f2a4cf9829e",
   "metadata": {},
   "outputs": [
    {
     "name": "stdout",
     "output_type": "stream",
     "text": [
      "[[-0.94311404 -1.3893853  -0.62580204]\n",
      " [ 0.5263541   1.773253    1.2424884 ]\n",
      " [ 0.10845061 -1.1478022  -0.45103768]]\n"
     ]
    }
   ],
   "source": [
    "\"\"\"\n",
    "Create a Gaussian matrix B with dimensions x, using TensorFlow's truncated_normal function. Display\n",
    "the values of matrix B\n",
    "\"\"\"\n",
    "import tensorflow as tf\n",
    "\n",
    "# User-defined dimensions of matrix B\n",
    "x = 3\n",
    "\n",
    "# Create a Gaussian matrix B with dimensions x\n",
    "matrix_B = tf.random.truncated_normal(shape=[x, x])\n",
    "\n",
    "# Evaluate the matrix B\n",
    "matrix_B_values = matrix_B.numpy()\n",
    "\n",
    "print(matrix_B_values)"
   ]
  },
  {
   "cell_type": "code",
   "execution_count": 5,
   "id": "6f4205b8-d383-4128-8262-4850d206cea3",
   "metadata": {},
   "outputs": [
    {
     "name": "stdout",
     "output_type": "stream",
     "text": [
      "[[2.8691144 2.0042288]\n",
      " [2.3370662 2.207023 ]]\n"
     ]
    }
   ],
   "source": [
    "\"\"\"\n",
    "Create a matrix C with dimensions 2x2, where the values are drawn from a normal distribution with a\n",
    "mean of 2 and a standard deviation of 0.5, using TensorFlow's random.normal function. Display the values\n",
    "of matrix C\n",
    "\"\"\"\n",
    "import tensorflow as tf\n",
    "\n",
    "# User-defined standard deviation value\n",
    "std_dev = 0.5\n",
    "\n",
    "# Create a 2x2 matrix with values drawn from normal distribution\n",
    "matrix_C = tf.random.normal(shape=[2, 2], mean=2, stddev=std_dev)\n",
    "\n",
    "# Evaluate the matrix C\n",
    "matrix_C_values = matrix_C.numpy()\n",
    "\n",
    "print(matrix_C_values)"
   ]
  },
  {
   "cell_type": "code",
   "execution_count": 6,
   "id": "7c7d7e77-093f-4e7a-8d4f-8c9e6605d638",
   "metadata": {},
   "outputs": [
    {
     "name": "stdout",
     "output_type": "stream",
     "text": [
      "[[2.2230713 1.3622404]\n",
      " [2.5268033 1.706027 ]]\n"
     ]
    }
   ],
   "source": [
    "\"\"\"\n",
    "Perform matrix addition between matrix A and matrix B, and store the result in matrix D\n",
    "\"\"\"\n",
    "import tensorflow as tf\n",
    "\n",
    "# User-defined standard deviation value\n",
    "std_dev = 0.5\n",
    "\n",
    "# Create a 2x2 matrix with values drawn from normal distribution\n",
    "matrix_D = tf.random.normal(shape=[2, 2], mean=2, stddev=std_dev)\n",
    "\n",
    "# Evaluate the matrix C\n",
    "matrix_D_values = matrix_D.numpy()\n",
    "\n",
    "print(matrix_D_values)"
   ]
  },
  {
   "cell_type": "code",
   "execution_count": 7,
   "id": "6f7dafa5-6f78-4948-afcf-c42c7a21c474",
   "metadata": {},
   "outputs": [
    {
     "name": "stdout",
     "output_type": "stream",
     "text": [
      "[[19 22]\n",
      " [43 50]]\n"
     ]
    }
   ],
   "source": [
    "\"\"\"\n",
    "Perform matrix multiplication between matrix C and matrix D, and store the result in matrix E.\n",
    "\"\"\"\n",
    "import tensorflow as tf\n",
    "\n",
    "# Define matrix C and matrix D\n",
    "matrix_C = tf.constant([[1, 2], [3, 4]])\n",
    "matrix_D = tf.constant([[5, 6], [7, 8]])\n",
    "\n",
    "# Perform matrix multiplication\n",
    "matrix_E = tf.matmul(matrix_C, matrix_D)\n",
    "\n",
    "# Evaluate the matrix E\n",
    "matrix_E_values = matrix_E.numpy()\n",
    "\n",
    "print(matrix_E_values)"
   ]
  },
  {
   "cell_type": "code",
   "execution_count": 8,
   "id": "aa91d4d1-702e-4c2f-97ff-8418b41406f5",
   "metadata": {},
   "outputs": [
    {
     "name": "stdout",
     "output_type": "stream",
     "text": [
      "[[0.6370084  0.7258302 ]\n",
      " [0.08211458 0.2790619 ]]\n"
     ]
    }
   ],
   "source": [
    "\"\"\"\n",
    "Create a matrix F with dimensions 2x2, initialized with random values using TensorFlow's random_uniform\n",
    "function\n",
    "\"\"\"\n",
    "import tensorflow as tf\n",
    "\n",
    "# Create a 2x2 matrix with random values from a uniform distribution\n",
    "matrix_F = tf.random.uniform(shape=[2, 2])\n",
    "\n",
    "# Evaluate the matrix F\n",
    "matrix_F_values = matrix_F.numpy()\n",
    "\n",
    "print(matrix_F_values)"
   ]
  },
  {
   "cell_type": "code",
   "execution_count": 9,
   "id": "0e4d55c0-9d0e-4af5-b14b-5efe0c0229cd",
   "metadata": {},
   "outputs": [
    {
     "name": "stdout",
     "output_type": "stream",
     "text": [
      "[[1 3]\n",
      " [2 4]]\n"
     ]
    }
   ],
   "source": [
    "\"\"\"\n",
    "Calculate the transpose of matrix F and store the result in matrix Gc\n",
    "\"\"\"\n",
    "import tensorflow as tf\n",
    "\n",
    "# Define matrix F\n",
    "matrix_F = tf.constant([[1, 2], [3, 4]])\n",
    "\n",
    "# Calculate the transpose of matrix F\n",
    "matrix_G = tf.transpose(matrix_F)\n",
    "\n",
    "# Evaluate the matrix G\n",
    "matrix_G_values = matrix_G.numpy()\n",
    "\n",
    "print(matrix_G_values)"
   ]
  },
  {
   "cell_type": "code",
   "execution_count": null,
   "id": "56aaa570-13c1-42dc-8159-2ba5b4bf814a",
   "metadata": {},
   "outputs": [],
   "source": [
    "\"\"\"\n",
    "Calculate the element wise exponential of matrix F and store the result in matrix H\n",
    "\"\"\"\n",
    "import tensorflow as tf\n",
    "\n",
    "# Define matrix F\n",
    "matrix_F = tf.constant([[1, 2], [3, 4]])\n",
    "\n",
    "# Calculate the element-wise exponential of matrix F\n",
    "matrix_H = tf.exp(matrix_F)\n",
    "\n",
    "# Evaluate the matrix H\n",
    "matrix_H_values = matrix_H.numpy()\n",
    "\n",
    "print(matrix_H_values)\n"
   ]
  },
  {
   "cell_type": "code",
   "execution_count": 11,
   "id": "0e11a70a-ecb2-4275-94c2-34ecec8c881f",
   "metadata": {},
   "outputs": [
    {
     "name": "stdout",
     "output_type": "stream",
     "text": [
      "[[1 2 5 6]\n",
      " [3 4 7 8]]\n"
     ]
    }
   ],
   "source": [
    "\"\"\"\n",
    " Create a matrix I by concatenating matrix F and matrix G horizontally\n",
    "\"\"\"\n",
    "import tensorflow as tf\n",
    "\n",
    "# Define matrix F and matrix G\n",
    "matrix_F = tf.constant([[1, 2], [3, 4]])\n",
    "matrix_G = tf.constant([[5, 6], [7, 8]])\n",
    "\n",
    "# Concatenate matrix F and matrix G horizontally\n",
    "matrix_I = tf.concat([matrix_F, matrix_G], axis=1)\n",
    "\n",
    "# Evaluate the matrix I\n",
    "matrix_I_values = matrix_I.numpy()\n",
    "\n",
    "print(matrix_I_values)"
   ]
  },
  {
   "cell_type": "code",
   "execution_count": null,
   "id": "9a3d7fc2-68ad-42b5-919c-6789459cbe1f",
   "metadata": {},
   "outputs": [],
   "source": [
    "\"\"\"\n",
    "Create a matrix J by concatenating matrix F and matrix H vertically.\n",
    "\"\"\"\n",
    "import tensorflow as tf\n",
    "\n",
    "# Define matrix F and matrix H\n",
    "matrix_F = tf.constant([[1, 2], [3, 4]])\n",
    "matrix_H = tf.constant([[2.718, 7.389], [20.086, 54.598]])\n",
    "\n",
    "# Concatenate matrix F and matrix H vertically\n",
    "matrix_J = tf.concat([matrix_F, matrix_H], axis=0)\n",
    "\n",
    "# Evaluate the matrix J\n",
    "matrix_J_values = matrix_J.numpy()\n",
    "\n",
    "print(matrix_J_values)\n"
   ]
  },
  {
   "cell_type": "code",
   "execution_count": null,
   "id": "f26342f3-618c-4d0d-970a-b6837b09a56a",
   "metadata": {},
   "outputs": [],
   "source": []
  }
 ],
 "metadata": {
  "kernelspec": {
   "display_name": "Python 3 (ipykernel)",
   "language": "python",
   "name": "python3"
  },
  "language_info": {
   "codemirror_mode": {
    "name": "ipython",
    "version": 3
   },
   "file_extension": ".py",
   "mimetype": "text/x-python",
   "name": "python",
   "nbconvert_exporter": "python",
   "pygments_lexer": "ipython3",
   "version": "3.10.8"
  }
 },
 "nbformat": 4,
 "nbformat_minor": 5
}

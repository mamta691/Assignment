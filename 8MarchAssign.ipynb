{
 "cells": [
  {
   "cell_type": "markdown",
   "id": "507079d6-a360-4881-b78c-33a8bdfc20f7",
   "metadata": {},
   "source": [
    "#Q1. What is the Probability density function?\n",
    "\n",
    "\n",
    "\n",
    "Probability density function (PDF) is a function that describes the relative likelihood of a continuous random variable taking on a specific value. The PDF is used to model the probability distribution of a continuous random variable, which is a variable that can take on any value within a certain range of values.\n",
    "\n",
    "The PDF is defined as the derivative of the cumulative distribution function (CDF) of the random variable. In other words, it is the rate of change of the CDF with respect to the variable.\n",
    "\n",
    "The PDF can be used to calculate the probability of a random variable falling within a certain range of values, by integrating the PDF over that range. The area under the curve of the PDF is always equal to 1, which means that the total probability of all possible outcomes is 1.\n",
    "\n",
    "PDFs are used in many areas of statistics and probability theory, including hypothesis testing, regression analysis, and Bayesian analysis. They are particularly useful for modeling continuous data, such as measurements of time, distance, or weight.\n"
   ]
  },
  {
   "cell_type": "markdown",
   "id": "7ac571e2-eef4-4a00-9f58-bc1277f784c5",
   "metadata": {},
   "source": [
    "#Q2. What are the types of Probability distribution?\n",
    "\n",
    "\n",
    "\n",
    "There are several types of probability distributions, but the two main categories are discrete probability distributions and continuous probability distributions.\n",
    "\n",
    "Discrete probability distributions: A discrete probability distribution is a probability distribution where the random variable can only take on a finite or countable number of values. Examples of discrete probability distributions include the binomial distribution, the Poisson distribution, and the geometric distribution.\n",
    "\n",
    "Continuous probability distributions: A continuous probability distribution is a probability distribution where the random variable can take on any value within a certain range. Examples of continuous probability distributions include the normal distribution (also called the Gaussian distribution), the exponential distribution, and the uniform distribution.\n",
    "\"\"\""
   ]
  },
  {
   "cell_type": "code",
   "execution_count": 1,
   "id": "a7a7552b-0978-4866-a31c-61ae9705ab4d",
   "metadata": {},
   "outputs": [],
   "source": [
    "\"\"\"\n",
    "Q3. Write a Python function to calculate the probability density function of a normal distribution with\n",
    "given mean and standard deviation at a given point.\n",
    "\"\"\"\n",
    "import math\n",
    "\n",
    "def normal_pdf(x, mu, sigma):\n",
    "    \"\"\"\n",
    "    Calculates the PDF of a normal distribution with mean mu and standard deviation sigma at point x.\n",
    "    \"\"\"\n",
    "    coefficient = 1 / (sigma * math.sqrt(2 * math.pi))\n",
    "    exponent = -((x - mu)**2) / (2 * (sigma**2))\n",
    "    return coefficient * math.exp(exponent)"
   ]
  },
  {
   "cell_type": "code",
   "execution_count": 3,
   "id": "bebb6cef-736b-401b-a520-df5176f5aa5e",
   "metadata": {},
   "outputs": [
    {
     "data": {
      "image/png": "[encoded data removed]",
      "text/plain": [
       "<Figure size 640x480 with 1 Axes>"
      ]
     },
     "metadata": {},
     "output_type": "display_data"
    }
   ],
   "source": [
    "\"\"\"Q4. What are the properties of Binomial distribution? Give two examples of events where binomial\n",
    "distribution can be applied.\n",
    "\n",
    "\n",
    "\n",
    "\"\"\"\n",
    "\"\"\"The binomial distribution is a discrete probability distribution that describes the number of successes in a fixed number of independent trials, where each trial has a constant probability of success. The properties of the binomial distribution are:\n",
    "\n",
    "The number of trials n is fixed.\n",
    "Each trial is independent.\n",
    "There are only two possible outcomes: success or failure.\n",
    "The probability of success p is constant for each trial.\n",
    "The random variable X, representing the number of successes, has a binomial distribution with parameters n and p.\n",
    "Two examples of events where the binomial distribution can be applied are:\n",
    "\n",
    "Flipping a coin: A coin flip is a classic example of a binomial process, where there are only two possible outcomes (heads or tails) and the probability of getting heads is constant for each flip. Suppose you flip a coin 10 times and want to know the probability of getting exactly 7 heads. This can be modeled using the binomial distribution with n=10 and p=0.5 (assuming a fair coin).\n",
    "\n",
    "Quality control inspection: In a manufacturing process, items may be inspected for defects. Suppose a company produces 500 items and 10% of them are known to have defects. A quality control inspector selects 50 items at random for inspection. The number of items with defects in the sample of 50 can be modeled using the binomial distribution with n=50 and p=0.1. The company can use this distribution to estimate the probability of a certain number of items having defects in the sample, which can help inform decisions about the quality of the production process.\n",
    "\"\"\"\n",
    "\"\"\"\n",
    "\n",
    "\n",
    "\n",
    "\n",
    "Q5. Generate a random sample of size 1000 from a binomial distribution with probability of success 0.4\n",
    "and plot a histogram of the results using matplotlib.\n",
    "\"\"\"\n",
    "import numpy as np\n",
    "import matplotlib.pyplot as plt\n",
    "\n",
    "# Generate random sample of size 1000 from binomial distribution with p=0.4\n",
    "sample = np.random.binomial(n=1, p=0.4, size=1000)\n",
    "\n",
    "# Plot histogram of sample\n",
    "plt.hist(sample, bins=2, edgecolor='black')\n",
    "plt.xlabel('Outcome')\n",
    "plt.ylabel('Frequency')\n",
    "plt.xticks([0, 1], ['Failure', 'Success'])\n",
    "plt.title('Binomial Distribution with p=0.4')\n",
    "plt.show()"
   ]
  },
  {
   "cell_type": "code",
   "execution_count": 4,
   "id": "e82bc547-7834-4a7a-ab0a-9b2d5c582b3a",
   "metadata": {},
   "outputs": [],
   "source": [
    "\"\"\"\n",
    "Q6. Write a Python function to calculate the cumulative distribution function of a Poisson distribution\n",
    "with given mean at a given point.\n",
    "\n",
    "\"\"\"\n",
    "import math\n",
    "\n",
    "def poisson_cdf(mean, k):\n",
    "    cdf = 0\n",
    "    for i in range(k+1):\n",
    "        cdf += (math.exp(-mean) * (mean**i)) / math.factorial(i)\n",
    "    return cdf"
   ]
  },
  {
   "cell_type": "code",
   "execution_count": 5,
   "id": "4e23ad12-7779-42d9-a5d3-9d39309e3d26",
   "metadata": {},
   "outputs": [
    {
     "name": "stdout",
     "output_type": "stream",
     "text": [
      "Sample Mean: 5.17\n",
      "Sample Variance: 5.155099999999998\n"
     ]
    }
   ],
   "source": [
    "\"\"\"\n",
    "Q7. How Binomial distribution different from Poisson distribution?\n",
    "\"\"\"\n",
    "\"\"\"\n",
    "The main difference between the Binomial and Poisson distributions is that the Binomial distribution models the number of successes in a fixed number of independent trials with a constant probability of success, while the Poisson distribution models the number of rare events in a fixed time or space interval, where the events occur randomly and independently of each other.\n",
    "\n",
    "Here are some key differences between the Binomial and Poisson distributions:\n",
    "\n",
    "Nature of the events: In the Binomial distribution, the events being counted are discrete and are either classified as successes or failures. In the Poisson distribution, the events being counted are rare occurrences that happen randomly and independently of each other.\n",
    "\n",
    "Number of trials: In the Binomial distribution, the number of trials is fixed and known in advance. In the Poisson distribution, the number of events is not fixed and can vary.\n",
    "\n",
    "Probability of success: In the Binomial distribution, the probability of success is constant and known in advance. In the Poisson distribution, the probability of an event occurring is low and constant, and is expressed as the rate parameter lambda.\n",
    "\n",
    "Distribution shape: The Binomial distribution is bell-shaped and symmetric when the number of trials is large and the probability of success is close to 0.5. The Poisson distribution is a skewed distribution, with a longer tail on the right side.\n",
    "\n",
    "\"\"\"\n",
    "\"\"\"\n",
    "Q8. Generate a random sample of size 1000 from a Poisson distribution with mean 5 and calculate the\n",
    "sample mean and variance.\n",
    "\"\"\"\n",
    "import numpy as np\n",
    "\n",
    "# Generate random sample of size 1000 from Poisson distribution with mean 5\n",
    "sample = np.random.poisson(lam=5, size=1000)\n",
    "\n",
    "# Calculate sample mean and variance\n",
    "sample_mean = np.mean(sample)\n",
    "sample_var = np.var(sample)\n",
    "\n",
    "print(\"Sample Mean:\", sample_mean)\n",
    "print(\"Sample Variance:\", sample_var)"
   ]
  },
  {
   "cell_type": "markdown",
   "id": "d032aa1c-4acb-45e0-bf5e-594689a99ada",
   "metadata": {},
   "source": [
    "#Q9. How mean and variance are related in Binomial distribution and Poisson distribution?\n",
    "\"\"\"\n",
    " in the Binomial distribution, the variance depends on both the number of trials and the probability of success, while in the Poisson distribution, the variance is equal to the mean, which is determined by the rate parameter.\n",
    "\n",
    "When the probability of success in a Binomial distribution is low and the number of trials is large, the Binomial distribution approaches the Poisson distribution with the same mean, and the variance of the Binomial distribution approaches the mean. This is known as the Poisson approximation to the Binomial distribution.\n",
    "\"\"\"\n",
    "#Q10. In normal distribution with respect to mean position, where does the least frequent data appear?\n",
    "\"\"\"\n",
    "In a normal distribution, the least frequent data appears in the tails of the distribution, which are the areas on the far left and far right of the distribution curve.\n",
    "\n",
    "The normal distribution is a symmetric bell-shaped curve, with the mean located at the center of the curve. The highest frequency of data points occurs at the mean, and the frequency of data points decreases symmetrically as we move away from the mean towards the tails of the distribution.\n",
    "\n",
    "The tails of the distribution contain the extreme values that are far away from the mean, and these values occur with a very low probability. Therefore, the data in the tails of the normal distribution are the least frequent.\n",
    "\n",
    "For example, in a normal distribution with a mean of 0 and a standard deviation of 1, the data in the tails that are more than 3 standard deviations away from the mean occur with a probability of less than 0.003.\n",
    "\n",
    "\"\"\""
   ]
  },
  {
   "cell_type": "code",
   "execution_count": null,
   "id": "a136fa6c-1b60-4e2f-afdb-8c2e16318f53",
   "metadata": {},
   "outputs": [],
   "source": []
  }
 ],
 "metadata": {
  "kernelspec": {
   "display_name": "Python 3 (ipykernel)",
   "language": "python",
   "name": "python3"
  },
  "language_info": {
   "codemirror_mode": {
    "name": "ipython",
    "version": 3
   },
   "file_extension": ".py",
   "mimetype": "text/x-python",
   "name": "python",
   "nbconvert_exporter": "python",
   "pygments_lexer": "ipython3",
   "version": "3.10.8"
  }
 },
 "nbformat": 4,
 "nbformat_minor": 5
}

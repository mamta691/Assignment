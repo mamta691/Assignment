{
 "cells": [
  {
   "cell_type": "code",
   "execution_count": null,
   "id": "d3029e62-6af5-4c0f-89f8-04e74da15833",
   "metadata": {},
   "outputs": [],
   "source": [
    "\n",
    "import plotly.graph_objs as go\n",
    "import seaborn as sns"
   ]
  },
  {
   "cell_type": "raw",
   "id": "2f02acd2-e046-4346-ac82-153b6297b311",
   "metadata": {},
   "source": [
    "# Q1. Load the \"titanic\" dataset using the load_dataset function of seaborn. Use Plotly express to plot a scatter plot for age and fare columns in the titanic dataset.\n",
    "     \n",
    "\n",
    "titanic = tips = sns.load_dataset('titanic')\n",
    "fig = go.Figure()\n",
    "fig.add_trace(go.Scatter(x = titanic.age, y = titanic.fare, mode = 'markers'))\n",
    "     "
   ]
  },
  {
   "cell_type": "markdown",
   "id": "0fed2c87-1b70-4687-8f02-bfadbfb210f1",
   "metadata": {},
   "source": [
    "# # Q2. Using the tips dataset in the Plotly library, plot a box plot using Plotly express.\n",
    "     \n",
    "\n",
    "import plotly.express as px\n",
    "tips = px.data.tips()\n",
    "fig = px.box(tips, x=\"day\", y=\"total_bill\", color=\"smoker\")\n",
    "fig.show()\n"
   ]
  },
  {
   "cell_type": "markdown",
   "id": "badfc0d3-7a66-4f00-bf56-17c8daee8583",
   "metadata": {},
   "source": [
    "# Q3. Using the tips dataset in the Plotly library, Plot a histogram for x= \"sex\" and y=\"total_bill\" column in the tips dataset. Also, use the \"smoker\" column with the pattern_shape parameter and the \"day\" column with the color parameter.\n",
    "     \n",
    "\n",
    "import plotly.express as px\n",
    "tips = px.data.tips()\n",
    "\n",
    "fig = px.histogram(tips, x=\"sex\", y=\"total_bill\", color=\"day\", pattern_shape=\"smoker\")\n",
    "fig.show()"
   ]
  },
  {
   "cell_type": "markdown",
   "id": "259f80ee-fc8a-4d11-b31a-fd346ec142a1",
   "metadata": {},
   "source": [
    "\n",
    "# Q4. Using the iris dataset in the Plotly library, Plot a scatter matrix plot, using the \"species\" column for the color parameter.\n",
    "     \n",
    "\n",
    "iris = px.data.iris()\n",
    "\n",
    "fig = px.scatter_matrix(iris, dimensions=[\"sepal_width\", \"sepal_length\", \"petal_width\", \"petal_length\"], color=\"species\")\n",
    "fig.show()\n",
    "     "
   ]
  },
  {
   "cell_type": "markdown",
   "id": "ca0a5b41-aebe-417f-b433-1c7434f10dbd",
   "metadata": {},
   "source": [
    "\n",
    "# Q5. What is Distplot? Using Plotly express, plot a distplot.\n",
    "     \n",
    "\n",
    "# Distplot (short for \"distribution plot\") is a type of plot that shows the distribution of a numeric variable. A distplot combines a histogram of the variable's values with a kernel density estimate (KDE) of the variable's probability density function.\n",
    "\n",
    "# Here's an example of how to create a distplot using Plotly express:\n",
    "\n",
    "\n",
    "import plotly.express as px\n",
    "tips = px.data.tips()\n",
    "\n",
    "fig = px.histogram(tips, x=\"total_bill\", nbins=30, marginal=\"rug\", opacity=0.7)\n",
    "fig.show()"
   ]
  },
  {
   "cell_type": "code",
   "execution_count": null,
   "id": "adecf43f-4c52-4d74-9e7a-63ab44bfb766",
   "metadata": {},
   "outputs": [],
   "source": []
  }
 ],
 "metadata": {
  "kernelspec": {
   "display_name": "Python 3 (ipykernel)",
   "language": "python",
   "name": "python3"
  },
  "language_info": {
   "codemirror_mode": {
    "name": "ipython",
    "version": 3
   },
   "file_extension": ".py",
   "mimetype": "text/x-python",
   "name": "python",
   "nbconvert_exporter": "python",
   "pygments_lexer": "ipython3",
   "version": "3.10.8"
  }
 },
 "nbformat": 4,
 "nbformat_minor": 5
}

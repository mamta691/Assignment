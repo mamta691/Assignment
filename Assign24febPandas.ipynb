{
 "cells": [
  {
   "cell_type": "raw",
   "id": "e1a39522-8148-4d99-a985-d19b0d5497a3",
   "metadata": {},
   "source": [
    "Q1. List any five functions of the pandas library with execution?"
   ]
  },
  {
   "cell_type": "code",
   "execution_count": 1,
   "id": "b43bdd95-c50a-4ced-a4ca-8bf49997ca92",
   "metadata": {},
   "outputs": [],
   "source": [
    "#1. read_csv(): This function is used to read a CSV file and create a DataFrame object. \n",
    "import pandas as pd\n",
    "df=pd.read_csv(\"data.csv\")"
   ]
  },
  {
   "cell_type": "code",
   "execution_count": 3,
   "id": "eb96d024-7333-4c70-8851-129cfc7c59a7",
   "metadata": {},
   "outputs": [
    {
     "name": "stdout",
     "output_type": "stream",
     "text": [
      "     Duration  Pulse  Maxpulse  Calories\n",
      "0          60    110       130     409.1\n",
      "1          60    117       145     479.0\n",
      "2          60    103       135     340.0\n",
      "3          45    109       175     282.4\n",
      "4          45    117       148     406.0\n",
      "..        ...    ...       ...       ...\n",
      "164        60    105       140     290.8\n",
      "165        60    110       145     300.0\n",
      "166        60    115       145     310.2\n",
      "167        75    120       150     320.4\n",
      "168        75    125       150     330.4\n",
      "\n",
      "[169 rows x 4 columns]\n"
     ]
    }
   ],
   "source": [
    "print(df)"
   ]
  },
  {
   "cell_type": "code",
   "execution_count": 4,
   "id": "4eaf6419-e148-44b2-837d-e5266185210c",
   "metadata": {},
   "outputs": [
    {
     "name": "stdout",
     "output_type": "stream",
     "text": [
      "   A  B\n",
      "0  1  4\n",
      "1  2  5\n"
     ]
    }
   ],
   "source": [
    "#2. head(): This function is used to display the first few rows of a DataFrame. \n",
    "import pandas as pd\n",
    "# Create a DataFrame\n",
    "df = pd.DataFrame({'A': [1, 2, 3], 'B': [4, 5, 6]})\n",
    "# Display the first 2 rows of the DataFrame\n",
    "print(df.head(2))"
   ]
  },
  {
   "cell_type": "code",
   "execution_count": 5,
   "id": "d2629671-a515-45f9-9972-45f7c51082cf",
   "metadata": {},
   "outputs": [
    {
     "name": "stdout",
     "output_type": "stream",
     "text": [
      "     B\n",
      "A     \n",
      "1  5.0\n",
      "2  6.0\n"
     ]
    }
   ],
   "source": [
    "#3. groupby(): This function is used to group the rows of a DataFrame based on one or more columns, and then apply an aggregation function to each group.\n",
    "import pandas as pd\n",
    "# Create a DataFrame\n",
    "df = pd.DataFrame({'A': [1, 2, 1, 2], 'B': [4, 5, 6, 7]})\n",
    "# Group the DataFrame by column 'A' and calculate the mean of column 'B' for each group\n",
    "grouped = df.groupby('A').mean()\n",
    "# Print the grouped DataFrame\n",
    "print(grouped)"
   ]
  },
  {
   "cell_type": "code",
   "execution_count": 6,
   "id": "d8f54773-6dbd-402c-bb9d-62a3d1edd568",
   "metadata": {},
   "outputs": [
    {
     "name": "stdout",
     "output_type": "stream",
     "text": [
      "     A    B\n",
      "0  1.0  4.0\n",
      "1  0.0  5.0\n",
      "2  3.0  0.0\n"
     ]
    }
   ],
   "source": [
    "#4. fillna(): This function is used to fill missing values in a DataFrame with a specified value or method.\n",
    "import pandas as pd\n",
    "import numpy as np\n",
    "# Create a DataFrame with missing values\n",
    "df = pd.DataFrame({'A': [1, np.nan, 3], 'B': [4, 5, np.nan]})\n",
    "# Fill the missing values with 0\n",
    "filled = df.fillna(0)\n",
    "# Print the filled DataFrame\n",
    "print(filled)"
   ]
  },
  {
   "cell_type": "code",
   "execution_count": 8,
   "id": "96de3ac9-a856-40c5-917a-ac7127653ba5",
   "metadata": {},
   "outputs": [
    {
     "name": "stdout",
     "output_type": "stream",
     "text": [
      "B    one  two\n",
      "A            \n",
      "bar    3    4\n",
      "foo    1    2\n"
     ]
    }
   ],
   "source": [
    "#5. pivot_table(): This function is used to create a pivot table from a DataFrame.\n",
    "import pandas as pd\n",
    "# Create a DataFrame\n",
    "df = pd.DataFrame({'A': ['foo', 'foo', 'bar', 'bar'], 'B': ['one', 'two', 'one', 'two'], 'C': [1, 2, 3, 4]})\n",
    "# Create a pivot table that shows the mean of column 'C' for each combination of 'A' and 'B'\n",
    "pivot = df.pivot_table(values='C', index='A', columns='B', aggfunc='mean')\n",
    "# Print the pivot table\n",
    "print(pivot)"
   ]
  },
  {
   "cell_type": "code",
   "execution_count": 9,
   "id": "24ce83d9-9a53-4c14-a15f-a1b9bd0363f3",
   "metadata": {},
   "outputs": [
    {
     "name": "stdout",
     "output_type": "stream",
     "text": [
      "     A    B    C\n",
      "1  2.0  5.0  8.0\n",
      "3  NaN  NaN  NaN\n",
      "5  NaN  NaN  NaN\n"
     ]
    }
   ],
   "source": [
    "import pandas as pd\n",
    "\n",
    "def reindex_df(df):\n",
    "    # Create a new index that starts from 1 and increments by 2 for each row\n",
    "    new_index = range(1, 2*len(df)+1, 2)\n",
    "\n",
    "    # Re-index the DataFrame with the new index\n",
    "    new_df = df.reindex(new_index)\n",
    "\n",
    "    # Return the re-indexed DataFrame\n",
    "    return new_df\n",
    "\n",
    "# Create a sample DataFrame\n",
    "df = pd.DataFrame({'A': [1, 2, 3], 'B': [4, 5, 6], 'C': [7, 8, 9]})\n",
    "\n",
    "# Call the reindex_df function to re-index the DataFrame\n",
    "new_df = reindex_df(df)\n",
    "\n",
    "# Print the re-indexed DataFrame\n",
    "print(new_df)"
   ]
  },
  {
   "cell_type": "raw",
   "id": "fc21c084-3a3f-4984-89f5-0f04c2f3bfbb",
   "metadata": {},
   "source": [
    "Q3. You have a Pandas DataFrame df with a column named 'Values'. Write a Python function that\n",
    "iterates over the DataFrame and calculates the sum of the first three values in the 'Values' column. The\n",
    "function should print the sum to the console?For example, if the 'Values' column of df contains the values [10, 20, 30, 40,50], your function should\n",
    "calculate and print the sum of the first three values, which is 60."
   ]
  },
  {
   "cell_type": "code",
   "execution_count": 10,
   "id": "37162565-0b78-4100-b51f-1a7f42a1d8db",
   "metadata": {},
   "outputs": [
    {
     "name": "stdout",
     "output_type": "stream",
     "text": [
      "Sum of the first three values in 'Values' column:  60\n"
     ]
    }
   ],
   "source": [
    "import pandas as pd\n",
    "\n",
    "def calculate_sum_of_first_three(df):\n",
    "    values_col = df['Values']\n",
    "    values_sum = sum(values_col[:3])\n",
    "    print(\"Sum of the first three values in 'Values' column: \", values_sum)\n",
    "\n",
    "df = pd.DataFrame({'Values': [10, 20, 30, 40, 50]})\n",
    "calculate_sum_of_first_three(df)"
   ]
  },
  {
   "cell_type": "code",
   "execution_count": 11,
   "id": "a91e52c0-2272-4fda-8911-0be2cf0ffe6e",
   "metadata": {},
   "outputs": [
    {
     "name": "stdout",
     "output_type": "stream",
     "text": [
      "             Text  Word_Count\n",
      "0  This is a test           4\n",
      "1     Hello world           2\n"
     ]
    }
   ],
   "source": [
    "#Q4. Given a Pandas DataFrame df with a column 'Text', write a Python function to create a new column 'Word_Count' that contains the number of words in each row of the 'Text' column.\n",
    "#Ans.\n",
    "import pandas as pd\n",
    "\n",
    "def add_word_count(df):\n",
    "    df['Word_Count'] = df['Text'].apply(lambda x: len(str(x).split()))\n",
    "    return df\n",
    "\n",
    "df = pd.DataFrame({'Text': ['This is a test', 'Hello world']})\n",
    "df = add_word_count(df)\n",
    "print(df)"
   ]
  },
  {
   "cell_type": "code",
   "execution_count": 14,
   "id": "867231cc-a7e0-4e42-a36c-77128b197456",
   "metadata": {},
   "outputs": [
    {
     "data": {
      "text/plain": [
       "(3, 2)"
      ]
     },
     "execution_count": 14,
     "metadata": {},
     "output_type": "execute_result"
    }
   ],
   "source": [
    "#Q5. How are DataFrame.size() and DataFrame.shape() different?\n",
    "#Ans\n",
    "#In Pandas, DataFrame.size() and DataFrame.shape() are two different methods that can be used to get information about the size or shape of a DataFrame.\n",
    "#DataFrame.size() returns the total number of elements in the DataFrame, which is equal to the product of the number of rows and columns.\n",
    "import pandas as pd\n",
    "df = pd.DataFrame({'A': [1, 2, 3], 'B': [4, 5, 6]})\n",
    "df.size\n",
    "\n",
    "#DataFrame.shape() returns a tuple containing the number of rows and columns in the DataFrame. It provides information about the structure of the DataFrame, rather than its contents. \n",
    "import pandas as pd\n",
    "df = pd.DataFrame({'A': [1, 2, 3], 'B': [4, 5, 6]})\n",
    "df.shape"
   ]
  },
  {
   "cell_type": "code",
   "execution_count": 15,
   "id": "6398298c-c14c-452f-a15e-e31b4cd827b3",
   "metadata": {},
   "outputs": [],
   "source": [
    "#Q6. Which function of pandas do we use to read an excel file?\n",
    "#Ans.\n",
    "#To read an Excel file in Pandas, we use the read_excel() function."
   ]
  },
  {
   "cell_type": "code",
   "execution_count": 16,
   "id": "8bf2fe68-aeaa-4ab5-8fad-e0fca4d501f9",
   "metadata": {},
   "outputs": [
    {
     "name": "stdout",
     "output_type": "stream",
     "text": [
      "                   Email   Username\n",
      "0  rohit.pal@example.com  rohit.pal\n",
      "1  mohit.pal@example.com  mohit.pal\n"
     ]
    }
   ],
   "source": [
    "#Q7. You have a Pandas DataFrame df that contains a column named 'Email' that contains email addresses in the format 'username@domain.com'. \n",
    "#Write a Python function that creates a new column 'Username' in df that contains only the username part of each email address.\n",
    "#The username is the part of the email address that appears before the '@' symbol. For example, if the email address is 'john.doe@example.com', the 'Username' column should contain 'john.doe'. \n",
    "#Your function should extract the username from each email address and store it in the new 'Username' column.\n",
    "#Ans.\n",
    "import pandas as pd\n",
    "\n",
    "def add_username(df):\n",
    "    df['Username'] = df['Email'].apply(lambda x: x.split('@')[0])\n",
    "    return df\n",
    "\n",
    "df = pd.DataFrame({'Email': ['rohit.pal@example.com', 'mohit.pal@example.com']})\n",
    "df = add_username(df)\n",
    "print(df)"
   ]
  },
  {
   "cell_type": "code",
   "execution_count": 17,
   "id": "bf85e202-2894-420c-a451-01a5fa4c7444",
   "metadata": {},
   "outputs": [
    {
     "name": "stdout",
     "output_type": "stream",
     "text": [
      "   A  B  C\n",
      "1  8  2  7\n",
      "2  6  9  4\n",
      "4  9  1  2\n"
     ]
    }
   ],
   "source": [
    "#Q8. You have a Pandas DataFrame df with columns 'A', 'B', and 'C'. Write a Python function that selects all rows where the value in column 'A' is greater than 5 and the value in column 'B' is less than 10. The function should return a new DataFrame that contains only the selected rows.\n",
    "#Ans.\n",
    "import pandas as pd\n",
    "\n",
    "def select_rows(df):\n",
    "    selected_df = df[(df['A'] > 5) & (df['B'] < 10)]\n",
    "    return selected_df\n",
    "\n",
    "# create the sample DataFrame\n",
    "df = pd.DataFrame({\n",
    "    'A': [3, 8, 6, 2, 9],\n",
    "    'B': [5, 2, 9, 3, 1],\n",
    "    'C': [1, 7, 4, 5, 2]\n",
    "})\n",
    "\n",
    "# call the function to select rows where A > 5 and B < 10\n",
    "selected_df = select_rows(df)\n",
    "\n",
    "# print the selected rows\n",
    "print(selected_df)"
   ]
  },
  {
   "cell_type": "code",
   "execution_count": 18,
   "id": "fefc3896-4251-4774-abe0-e7bdc82742c3",
   "metadata": {},
   "outputs": [
    {
     "name": "stdout",
     "output_type": "stream",
     "text": [
      "Mean: 3.0, Median: 3.0, Std: 1.5811388300841898\n"
     ]
    }
   ],
   "source": [
    "#Q9. Given a Pandas DataFrame df with a column 'Values', write a Python function to calculate the mean, median, and standard deviation of the values in the 'Values' column.\n",
    "#Ans.\n",
    "import pandas as pd\n",
    "\n",
    "def calculate_stats(df):\n",
    "    values_mean = df['Values'].mean()\n",
    "    values_median = df['Values'].median()\n",
    "    values_std = df['Values'].std()\n",
    "    return values_mean, values_median, values_std\n",
    "\n",
    "# create a sample DataFrame\n",
    "df = pd.DataFrame({'Values': [1, 2, 3, 4, 5]})\n",
    "\n",
    "# call the function to calculate stats\n",
    "mean, median, std = calculate_stats(df)\n",
    "\n",
    "# print the results\n",
    "print(f\"Mean: {mean}, Median: {median}, Std: {std}\")"
   ]
  },
  {
   "cell_type": "code",
   "execution_count": 19,
   "id": "84fe0c67-0a5b-43a5-af20-a031eb29ab08",
   "metadata": {},
   "outputs": [
    {
     "name": "stdout",
     "output_type": "stream",
     "text": [
      "         Date  Sales  MovingAverage\n",
      "0  2022-01-01    100          100.0\n",
      "1  2022-01-02    150          125.0\n",
      "2  2022-01-03    200          150.0\n",
      "3  2022-01-04    250          175.0\n",
      "4  2022-01-05    300          200.0\n",
      "5  2022-01-06    350          225.0\n",
      "6  2022-01-07    400          250.0\n",
      "7  2022-01-08    450          300.0\n",
      "8  2022-01-09    500          350.0\n",
      "9  2022-01-10    550          400.0\n",
      "10 2022-01-11    600          450.0\n",
      "11 2022-01-12    650          500.0\n",
      "12 2022-01-13    700          550.0\n",
      "13 2022-01-14    750          600.0\n",
      "14 2022-01-15    800          650.0\n"
     ]
    }
   ],
   "source": [
    "#Q10. Given a Pandas DataFrame df with a column 'Sales' and a column 'Date', write a Python function to create a new column 'MovingAverage' that contains the moving average of the sales for the past 7 days for each row in the DataFrame. \n",
    "#The moving average should be calculated using a window of size 7 and should include the current day.\n",
    "#Ans.\n",
    "import pandas as pd\n",
    "\n",
    "def add_moving_average_column(df):\n",
    "    df['MovingAverage'] = df['Sales'].rolling(window=7, min_periods=1).mean()\n",
    "    return df\n",
    "\n",
    "# create sample DataFrame\n",
    "df = pd.DataFrame({\n",
    "    'Date': pd.date_range(start='2022-01-01', end='2022-01-15'),\n",
    "    'Sales': [100, 150, 200, 250, 300, 350, 400, 450, 500, 550, 600, 650, 700, 750, 800]\n",
    "})\n",
    "\n",
    "# add moving average column to DataFrame\n",
    "df = add_moving_average_column(df)\n",
    "\n",
    "# print DataFrame with new column\n",
    "print(df)"
   ]
  },
  {
   "cell_type": "code",
   "execution_count": 20,
   "id": "3c7937ea-1f8c-427d-a0db-fc30076e9cab",
   "metadata": {},
   "outputs": [
    {
     "name": "stdout",
     "output_type": "stream",
     "text": [
      "        Date    Weekday\n",
      "0 2023-01-01     Sunday\n",
      "1 2023-01-02     Monday\n",
      "2 2023-01-03    Tuesday\n",
      "3 2023-01-04  Wednesday\n",
      "4 2023-01-05   Thursday\n"
     ]
    }
   ],
   "source": [
    "#Q11. You have a Pandas DataFrame df with a column 'Date'. Write a Python function that creates a new  column 'Weekday' in the DataFrame. The 'Weekday' column should contain the weekday name (e.g. Monday, Tuesday) corresponding to each date in the 'Date' column.\n",
    "#Ans.\n",
    "import pandas as pd\n",
    "\n",
    "def add_weekday_column(df):\n",
    "    df['Weekday'] = df['Date'].dt.day_name()\n",
    "    return df\n",
    "\n",
    "# create sample DataFrame\n",
    "df = pd.DataFrame({\n",
    "    'Date': pd.date_range(start='2023-01-01', end='2023-01-05')\n",
    "})\n",
    "\n",
    "# add weekday column to DataFrame\n",
    "df = add_weekday_column(df)\n",
    "\n",
    "# print DataFrame with new column\n",
    "print(df)"
   ]
  },
  {
   "cell_type": "code",
   "execution_count": 21,
   "id": "7800a59e-4826-4297-856d-4b650381c801",
   "metadata": {},
   "outputs": [
    {
     "name": "stdout",
     "output_type": "stream",
     "text": [
      "        Date  Value\n",
      "0 2023-01-01      1\n",
      "1 2023-01-15      2\n",
      "2 2023-01-31      3\n"
     ]
    }
   ],
   "source": [
    "#Q12. Given a Pandas DataFrame df with a column 'Date' that contains timestamps, write a Python function to select all rows where the date is between '2023-01-01' and '2023-01-31'.\n",
    "#Ans.\n",
    "import pandas as pd\n",
    "\n",
    "def select_date_range(df):\n",
    "    mask = df.loc[:, 'Date'].between('2023-01-01', '2023-01-31')\n",
    "    result = df.loc[mask, :]\n",
    "    return result\n",
    "\n",
    "df = pd.DataFrame({'Date': ['2023-01-01', '2023-01-15', '2023-01-31', '2023-02-15'], 'Value': [1, 2, 3, 4]})\n",
    "df['Date'] = pd.to_datetime(df['Date'])\n",
    "result = select_date_range(df)\n",
    "print(result)"
   ]
  },
  {
   "cell_type": "code",
   "execution_count": null,
   "id": "19491b14-d2a1-4d6f-bfa8-b01d8e4ed0ba",
   "metadata": {},
   "outputs": [],
   "source": [
    "#Q13. To use the basic functions of pandas, what is the first and foremost necessary library that needs to be imported?\n",
    "#Ans.\n",
    "#To use the basic functions of Pandas, the first and foremost necessary library that needs to be imported is pandas itself.\n",
    "import pandas as pd\n"
   ]
  }
 ],
 "metadata": {
  "kernelspec": {
   "display_name": "Python 3 (ipykernel)",
   "language": "python",
   "name": "python3"
  },
  "language_info": {
   "codemirror_mode": {
    "name": "ipython",
    "version": 3
   },
   "file_extension": ".py",
   "mimetype": "text/x-python",
   "name": "python",
   "nbconvert_exporter": "python",
   "pygments_lexer": "ipython3",
   "version": "3.10.8"
  }
 },
 "nbformat": 4,
 "nbformat_minor": 5
}

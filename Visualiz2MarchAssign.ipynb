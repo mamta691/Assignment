{
 "cells": [
  {
   "cell_type": "markdown",
   "id": "201d392d-30e3-49e2-865f-0deb99657367",
   "metadata": {},
   "source": [
    "Q1: What is Matplotlib? Why is it used? Name five plots that can be plotted using the Pyplot module of Matplotlib.\n",
    "\n",
    "\n",
    "Matplotlib is a popular Python library used for data visualization. It provides a wide range of tools for creating different types of plots, charts, and graphs. Matplotlib is widely used in scientific computing, data analysis, and machine learning.\n",
    "Five plots that can be plotted using the Pyplot module of Matplotlib are:\n",
    "1. Line plot - Used to show trends in data over time or to compare two or more variables.\n",
    "2. Bar chart - Used to compare data across different categories or to show changes in data over time.\n",
    "3. Scatter plot - Used to show the relationship between two variables and to identify trends or patterns in the data.\n",
    "4. Histogram - Used to show the distribution of data and to identify outliers or anomalies.\n",
    "5. Pie chart - Used to show the proportion of each category in a dataset or to compare the sizes of different categories."
   ]
  },
  {
   "cell_type": "code",
   "execution_count": 3,
   "id": "c7b3631d-0226-4524-a0e2-3d0e75ef15e4",
   "metadata": {},
   "outputs": [
    {
     "data": {
      "text/plain": [
       "array([ 6.57725695,  3.8730197 ,  3.19299494, -0.72698541,  2.44522359,\n",
       "        2.29048204,  2.83451704,  1.74599865,  2.91236366,  2.04556394,\n",
       "        0.37227049,  4.76924476,  4.76263608,  6.41914613,  3.10006728,\n",
       "        2.19064517,  1.9092801 , -0.09295463,  4.96473487,  0.79786474,\n",
       "        0.62990695,  2.5887002 ,  5.97229671,  3.47343253,  0.95242972,\n",
       "        1.5740136 ,  4.25048993,  2.67897327,  1.4623273 ,  2.53993856,\n",
       "        4.49011253,  6.95222157,  0.51175334,  1.74716618,  1.39246781,\n",
       "       -1.83816635,  1.15241596,  0.95224848,  5.24795592,  2.73617153,\n",
       "       -0.24657089,  4.2933509 ,  2.28745848, -0.48628207,  1.80670072,\n",
       "        1.82281124,  1.2522354 ,  3.05942763, -1.49651554,  2.46447627])"
      ]
     },
     "execution_count": 3,
     "metadata": {},
     "output_type": "execute_result"
    }
   ],
   "source": [
    "#Q2: What is a scatter plot? Use the following code to generate data for x and y. Using this generated data plot a scatter plot.\n",
    "#A scatter plot is a type of plot used to visualize the relationship between two variables. It is a graph in which the values of two variables are plotted along two axes, with the independent variable (also called the explanatory variable or predictor variable) plotted along the x-axis and the dependent variable (also called the response variable) plotted along the y-axis. Each point on the plot represents a pair of values for the two variables.\n",
    "import numpy as np\n",
    "import matplotlib.pyplot as plt\n",
    "np.random.seed(3)\n",
    "x = 3 + np.random.normal(0, 2, 50)\n",
    "y = 3 + np.random.normal(0, 2, len(x))\n",
    "x"
   ]
  },
  {
   "cell_type": "code",
   "execution_count": 4,
   "id": "a03fb766-89ea-4ced-a0c1-460fded44b10",
   "metadata": {},
   "outputs": [
    {
     "data": {
      "text/plain": [
       "array([ 5.02636688,  4.70559568,  5.216375  ,  5.23878131,  5.97508626,\n",
       "        0.76339863,  4.69166681, -0.72177906,  1.79422979, -0.82894409,\n",
       "        5.09629502,  5.66747564,  2.60517064,  6.54929006,  1.65054498,\n",
       "        3.30123373,  3.30589141,  0.87160945,  3.87589322,  6.87795692,\n",
       "        0.95013825,  4.79867689,  2.6909863 ,  6.53925461,  3.9675767 ,\n",
       "        4.3524328 ,  4.28632656,  3.49817341,  0.20847299,  5.78332582,\n",
       "        0.25866197,  3.47712638,  4.22815418,  1.32417545,  3.29012643,\n",
       "        5.33576457,  2.95179106,  1.22268516, -2.8314755 ,  1.05631899,\n",
       "        1.81784252,  1.96716526,  1.08000764,  3.75459047,  1.85058316,\n",
       "        2.78109133,  4.3581432 ,  1.28912566,  2.39958785,  7.31629868])"
      ]
     },
     "execution_count": 4,
     "metadata": {},
     "output_type": "execute_result"
    }
   ],
   "source": [
    "y"
   ]
  },
  {
   "cell_type": "code",
   "execution_count": 5,
   "id": "d55826ff-6e22-4cf0-b412-4c6b56b1e302",
   "metadata": {},
   "outputs": [
    {
     "data": {
      "text/plain": [
       "Text(0.5, 1.0, 'This is 2D scatter plot')"
      ]
     },
     "execution_count": 5,
     "metadata": {},
     "output_type": "execute_result"
    },
    {
     "data": {
      "image/png": "[encoded data removed]",
      "text/plain": [
       "<Figure size 640x480 with 1 Axes>"
      ]
     },
     "metadata": {},
     "output_type": "display_data"
    }
   ],
   "source": [
    "plt.scatter(x, y , edgecolors = 'r', c= 'g' )\n",
    "plt.xlabel('X axis')\n",
    "plt.ylabel('Y axis')\n",
    "plt.title('This is 2D scatter plot')"
   ]
  },
  {
   "cell_type": "code",
   "execution_count": 6,
   "id": "7d3ef801-9fdb-422e-a5c1-b3ccaa44026a",
   "metadata": {},
   "outputs": [
    {
     "ename": "SyntaxError",
     "evalue": "invalid syntax. Maybe you meant '==' or ':=' instead of '='? (2331992579.py, line 7)",
     "output_type": "error",
     "traceback": [
      "\u001b[0;36m  Cell \u001b[0;32mIn[6], line 7\u001b[0;36m\u001b[0m\n\u001b[0;31m    x = np.array([0, 1, 2, 3, 4, 5]) and y = np.array([50, 20, 40, 20, 60, 70])\u001b[0m\n\u001b[0m    ^\u001b[0m\n\u001b[0;31mSyntaxError\u001b[0m\u001b[0;31m:\u001b[0m invalid syntax. Maybe you meant '==' or ':=' instead of '='?\n"
     ]
    }
   ],
   "source": [
    "#Q3: Why is the subplot() function used? Draw four line plots using the subplot() function.\n",
    "#The subplot() function in Matplotlib is used to create multiple plots or subplots in a single figure. It allows you to organize multiple plots into a grid of rows and columns, and to specify the location of each plot within the grid using a numerical index.\n",
    "import matplotlib.pyplot as plt \n",
    "import numpy as np\n",
    "x = np.array([0, 1, 2, 3, 4, 5])\n",
    "y = np.array([0, 100, 200, 300, 400, 500])\n",
    "x = np.array([0, 1, 2, 3, 4, 5]) and y = np.array([50, 20, 40, 20, 60, 70])\n",
    "plt.subplot(5,5,2)\n",
    "plt.plot(x,y, 'b--')"
   ]
  },
  {
   "cell_type": "markdown",
   "id": "a5dae090-da50-4c4f-b9bc-467c7eaf4416",
   "metadata": {},
   "source": [
    "Q4: What is a bar plot? Why is it used? Using the following data plot a bar plot and a horizontal bar plot.\n",
    "A bar plot is a type of plot used to display data as rectangular bars, where the length of each bar is proportional to the value of a variable. The bars can be oriented vertically or horizontally, depending on the type of information being displayed and the preferences of the viewer.\n",
    "Bar plots are used to compare the values of a variable across different categories or groups. They are particularly useful when the categories are discrete or categorical, such as different products, regions, or time periods. By using different colors or patterns to distinguish the bars, a bar plot can convey a large amount of information in a simple and intuitive way.\n",
    "Bar plots are also useful for visualizing the distribution of a variable, particularly when the data is skewed or contains outliers. By grouping the data into categories and displaying the distribution of each category as a bar, a bar plot can highlight any patterns or anomalies in the data.\n",
    "Overall, bar plots are a common and effective way of summarizing and visualizing categorical data, and are widely used in fields such as statistics, data analysis, and data visualization."
   ]
  },
  {
   "cell_type": "code",
   "execution_count": 7,
   "id": "696a3e42-ef96-45c4-baad-e8ef65f87d7e",
   "metadata": {},
   "outputs": [
    {
     "data": {
      "text/plain": [
       "<BarContainer object of 4 artists>"
      ]
     },
     "execution_count": 7,
     "metadata": {},
     "output_type": "execute_result"
    },
    {
     "data": {
      "image/png": "[encoded data removed]",
      "text/plain": [
       "<Figure size 640x480 with 1 Axes>"
      ]
     },
     "metadata": {},
     "output_type": "display_data"
    }
   ],
   "source": [
    "import numpy as np\n",
    "import matplotlib.pyplot as plt\n",
    "company = np.array([\"Apple\", \"Microsoft\", \"Google\", \"AMD\"])\n",
    "profit = np.array([3000, 8000, 1000, 10000])\n",
    "plt.bar(company , profit)"
   ]
  },
  {
   "cell_type": "code",
   "execution_count": 8,
   "id": "c9af5da2-69ba-43ff-96c9-3b37b38835e0",
   "metadata": {},
   "outputs": [
    {
     "data": {
      "text/plain": [
       "<BarContainer object of 4 artists>"
      ]
     },
     "execution_count": 8,
     "metadata": {},
     "output_type": "execute_result"
    },
    {
     "data": {
      "image/png": "[encoded data removed]",
      "text/plain": [
       "<Figure size 640x480 with 1 Axes>"
      ]
     },
     "metadata": {},
     "output_type": "display_data"
    }
   ],
   "source": [
    "plt.barh(company , profit)"
   ]
  },
  {
   "cell_type": "markdown",
   "id": "c5828765-f8d4-45f2-bfea-9d5eb24fb32e",
   "metadata": {},
   "source": [
    "Q5: What is a box plot? Why is it used? Using the following data plot a box plot.\n",
    "A box plot, also known as a box-and-whisker plot, is a type of plot used to display the distribution of a dataset. The box in the plot represents the interquartile range (IQR), which contains the middle 50% of the data. The line inside the box represents the median, which is the middle value of the dataset. The whiskers extend from the box to the minimum and maximum values in the dataset that are not outliers, and any points outside the whiskers are considered outliers.\n",
    "Box plots are used to summarize the distribution of a dataset and to compare the distributions of different datasets. They are particularly useful when the dataset contains outliers or is skewed, as they provide a clear and concise way to display the central tendency, spread, and range of the data.\n",
    "Box plots are also useful for identifying patterns or trends in the data, such as differences in the spread or median between different groups or categories. By using different colors or patterns to distinguish the boxes and whiskers for different datasets, a box plot can convey a large amount of information in a simple and intuitive way.\n",
    "Overall, box plots are a common and effective way of summarizing and visualizing continuous data, and are widely used in fields such as statistics, data analysis, and data visualization."
   ]
  },
  {
   "cell_type": "code",
   "execution_count": 11,
   "id": "4c1d5b74-d7ae-4aa6-b478-4330bfd6e71d",
   "metadata": {},
   "outputs": [
    {
     "data": {
      "text/plain": [
       "array([102.23014153, 107.25729132,  99.80621916, 107.77623065,\n",
       "       112.64737565, 113.6632632 ,  97.26545925,  96.47847678,\n",
       "       103.94868235, 102.0717154 , 105.6579628 ,  92.89061289,\n",
       "        76.75301169, 104.5001987 , 107.81245621, 106.43015205,\n",
       "       116.59442909, 108.52228842,  96.11666628, 109.85425906,\n",
       "        99.15065247, 112.55284995, 102.37987791, 104.53510636,\n",
       "       102.27723752, 100.54505036,  85.03427296, 100.57739973,\n",
       "        77.27451729, 104.97803001, 109.91918916, 120.51103282,\n",
       "       103.74076405,  92.83503519,  84.10423411, 119.47770156,\n",
       "        85.73729735, 108.95523403,  76.93730501,  99.48510631,\n",
       "       106.83223511, 103.252358  ,  99.58459559,  91.75291096,\n",
       "        90.93333832, 110.0862857 , 104.35729938,  98.39411572,\n",
       "       102.06826839,  90.73297627, 110.22290866, 112.60974369,\n",
       "        92.20149245, 101.02020887, 110.48247302,  93.58171469,\n",
       "       120.3457678 , 115.10628957,  97.21124052, 109.78772118,\n",
       "       116.62196485,  87.55909544, 106.19224209,  98.55649813,\n",
       "        97.83463552, 107.10306587,  95.22922773,  86.00247595,\n",
       "        85.77837637,  99.80264664, 106.28901322,  99.7612343 ,\n",
       "        98.47404585,  99.69203579, 112.89312959, 105.30453331,\n",
       "        92.54088953,  97.11215344, 112.04689054,  94.19697838,\n",
       "        96.05264125,  99.74935734,  89.35089134, 109.0236805 ,\n",
       "        78.10526128, 114.51372106,  95.64841637,  87.43418383,\n",
       "       102.82263481,  82.88776397, 105.37350342, 107.73623999,\n",
       "        94.24089654,  96.11104557, 109.48744795,  93.29255278,\n",
       "       100.22502327, 103.47616521, 115.59959844,  94.9692478 ,\n",
       "       100.34681263, 111.32007409,  74.43273468,  97.3104269 ,\n",
       "        80.90379673,  81.59925953, 119.56970121, 102.11279808,\n",
       "       114.83487   ,  97.58589926, 105.40452732,  95.68333229,\n",
       "        94.53048553,  99.25361424, 101.28332272, 115.33269438,\n",
       "        98.03171994, 103.79839226,  97.43076629, 101.44868101,\n",
       "        86.88823295, 110.91422264,  94.79123863, 100.41533478,\n",
       "        97.85849503, 109.84647878, 105.21664341, 100.12993203,\n",
       "       101.75000619, 103.43439445, 107.56544624, 105.0695961 ,\n",
       "       112.85207042, 116.18424513, 106.14415351,  86.77391022,\n",
       "       117.47841205, 121.49909567,  96.35899687,  95.86000745,\n",
       "        79.41104505, 107.79242987,  89.92141183, 118.29472262,\n",
       "        75.22712116, 100.72396945, 106.74482329,  95.97712749,\n",
       "        92.04538886, 102.49233516,  94.72409828,  96.56735137,\n",
       "        99.60620166,  94.42685219,  97.71990492, 107.86853489,\n",
       "        96.08963858, 101.6593471 ,  92.44221861, 109.13267983,\n",
       "        87.12991608, 109.56440297,  69.72951996,  90.88824465,\n",
       "        84.10185516, 110.13753103, 102.68524213,  86.87849526,\n",
       "        94.25268086, 113.36745159,  99.32568473, 105.50874028,\n",
       "        84.79025821,  84.80697373, 105.55331166, 122.88542967,\n",
       "        94.41050117, 105.70383956,  90.33224208, 112.28115713,\n",
       "        95.21153046,  95.39608671,  80.81711468,  95.57556629,\n",
       "       101.57919123, 113.49106372,  87.95549693, 109.5040571 ,\n",
       "        96.252933  ,  96.79265803,  90.17935047,  82.63039803,\n",
       "        87.49122844, 115.86745892,  87.68066799,  95.2196739 ,\n",
       "       110.61439932,  78.40362076, 103.95985496,  94.37995507])"
      ]
     },
     "execution_count": 11,
     "metadata": {},
     "output_type": "execute_result"
    }
   ],
   "source": [
    "box1 = np.random.normal(100, 10, 200)\n",
    "box2 = np.random.normal(90, 20, 200)\n",
    "box1"
   ]
  },
  {
   "cell_type": "code",
   "execution_count": 12,
   "id": "4e6c3030-f58f-4674-a3b1-e752cfc5d0a8",
   "metadata": {},
   "outputs": [
    {
     "data": {
      "text/plain": [
       "array([ 58.96036461, 114.84929296, 105.15052854,  64.57023356,\n",
       "       127.76064509,  84.07355076,  44.83076933, 111.79104574,\n",
       "       116.12774063,  90.14143476,  72.03201969, 114.75278896,\n",
       "        79.89320343,  89.65860121,  99.4310883 ,  96.13895582,\n",
       "        80.80887474,  69.13405005, 105.10611758,  45.73522306,\n",
       "        96.65249125,  95.43438269, 100.57859585,  82.6625757 ,\n",
       "        94.45388195, 105.94661054,  69.12965838,  91.13291864,\n",
       "        97.67787315,  64.81983002,  71.08965995, 121.73494808,\n",
       "       110.85691421,  75.16373906, 104.53345418,  98.25985054,\n",
       "       118.21955114, 112.95722055,  41.42785335,  84.09077478,\n",
       "       117.67794721, 122.85897289,  77.73376175,  65.40852566,\n",
       "        95.230297  ,  77.22576632,  89.76653285,  66.65716599,\n",
       "       105.43202653, 101.52755694,  99.29436538,  68.08756971,\n",
       "        56.27755929,  64.48318234, 100.02013761,  54.04803134,\n",
       "       103.24995625, 125.58376429,  77.49103942,  86.34647215,\n",
       "       109.78990133, 108.40074508,  77.71862829,  86.59145745,\n",
       "        92.54699407,  84.79905572, 101.70689743,  96.74843608,\n",
       "       116.30867203,  55.97775384, 113.8708805 , 106.52707223,\n",
       "        87.51919532,  98.53067875, 109.73896576,  96.22126258,\n",
       "        85.24025215,  95.84897597,  76.26971946,  63.97185992,\n",
       "        72.69546785,  74.77872581,  94.01887595, 106.10889109,\n",
       "        95.1293339 , 119.37799454,  88.47836138,  77.38905432,\n",
       "        75.73563467,  72.25777869,  84.19708155, 117.81211616,\n",
       "        60.88075852, 101.39155354,  90.12217755, 107.1974168 ,\n",
       "        81.1017835 , 105.06685962,  80.64338021, 103.27069925,\n",
       "        51.55032492, 100.5778891 , 105.64811143,  58.93167297,\n",
       "       107.81984107,  68.16708037, 110.69418928,  90.88533345,\n",
       "       104.74899817,  98.50986381,  67.12826353, 122.09700485,\n",
       "       115.50765425,  70.78060924, 102.55873092, 100.51872789,\n",
       "        77.74459648,  70.5283376 , 117.02061126,  83.44738353,\n",
       "       109.56643854, 129.52825167, 101.19947599,  73.78062048,\n",
       "       111.20750813,  64.05416315,  73.38424716, 150.13598905,\n",
       "        75.64760265,  98.57030498,  70.3947489 ,  89.13472488,\n",
       "        95.58952772,  38.58043259,  78.42716058, 104.78816002,\n",
       "       108.88376436,  98.26444123,  72.55387091,  99.38334069,\n",
       "        81.61736529,  75.99760315,  91.41178033, 136.97196712,\n",
       "        73.35089216, 112.19982933,  96.4581892 ,  61.6668804 ,\n",
       "        73.10590602,  87.93585904,  81.86964987,  96.55188216,\n",
       "        71.4669036 ,  70.99638026, 111.39150926,  90.63842591,\n",
       "        74.25021991,  91.25848228, 127.97191631,  79.60460426,\n",
       "        61.4453923 , 109.93949177, 130.49790071, 116.37811285,\n",
       "        64.84517707,  49.87491387, 116.30896157,  87.42351179,\n",
       "       101.07588541,  87.20570702, 124.50189495,  92.31534254,\n",
       "        84.49401239,  93.60878713,  66.74146953,  93.98470471,\n",
       "        88.87093756,  48.27716124,  67.70277875,  65.38841201,\n",
       "        59.03533038,  97.5499854 , 112.92923504,  96.77408002,\n",
       "        60.60890106,  54.5896449 , 105.82563346,  83.96759845,\n",
       "        88.09707667,  64.10890551,  49.43477477, 134.29560992,\n",
       "        77.80032476,  86.04534934,  66.96766271, 120.42542229,\n",
       "        82.70239815,  86.53686068,  90.60735761,  89.41982912])"
      ]
     },
     "execution_count": 12,
     "metadata": {},
     "output_type": "execute_result"
    }
   ],
   "source": [
    "box1 = np.random.normal(100, 10, 200)\n",
    "box2 = np.random.normal(90, 20, 200)\n",
    "box2"
   ]
  },
  {
   "cell_type": "code",
   "execution_count": null,
   "id": "dde891a9-3909-46d6-8efc-ffd6921a1636",
   "metadata": {},
   "outputs": [],
   "source": []
  }
 ],
 "metadata": {
  "kernelspec": {
   "display_name": "Python 3 (ipykernel)",
   "language": "python",
   "name": "python3"
  },
  "language_info": {
   "codemirror_mode": {
    "name": "ipython",
    "version": 3
   },
   "file_extension": ".py",
   "mimetype": "text/x-python",
   "name": "python",
   "nbconvert_exporter": "python",
   "pygments_lexer": "ipython3",
   "version": "3.10.8"
  }
 },
 "nbformat": 4,
 "nbformat_minor": 5
}

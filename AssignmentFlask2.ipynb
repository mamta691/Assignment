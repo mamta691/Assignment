{
 "cells": [
  {
   "cell_type": "raw",
   "id": "d3a36705-c550-44aa-b15b-03a860be40d0",
   "metadata": {},
   "source": [
    "Q1. Explain GET and POST methods?"
   ]
  },
  {
   "cell_type": "raw",
   "id": "27c536b6-6169-48ec-a0e0-a01e857eac03",
   "metadata": {},
   "source": [
    "HTTP GET: The Hypertext Transfer Protocol(HTTP) Get method is mainly used at the client (Browser) side to send a request to a specified server to get certain data or resources. \n",
    "Using this method the server should only let us receive the data and not change its state.\n",
    "Hence it is only used to view something and not to change it. Get method is one of the most used HTTP method. \n",
    "The request parameter of the get method is appended to the URL. \n",
    "Get request is better for the data which does not need to be secure (It means the data which does not contain images or word documents)."
   ]
  },
  {
   "cell_type": "code",
   "execution_count": null,
   "id": "046e6d80-1204-4478-b36a-42d95ccaccc6",
   "metadata": {},
   "outputs": [],
   "source": [
    "<!DOCTYPE html>\n",
    "<html>\n",
    "  \n",
    "<body>\n",
    "    <form action=\"getmethod.php\" method=\"GET\">\n",
    "        Username: <input type=\"text\" \n",
    "            name=\"username\" /> <br>\n",
    "  \n",
    "        City: <input type=\"text\" \n",
    "            name=\"city\" /> <br>\n",
    "              \n",
    "        <input type=\"submit\" />\n",
    "    </form>\n",
    "</body>\n",
    "  \n",
    "</html>"
   ]
  },
  {
   "cell_type": "raw",
   "id": "a262f8d8-d306-4a82-b09a-f90ae97233bf",
   "metadata": {},
   "source": [
    "HTTP POST: The Hypertext Transfer Protocol(HTTP) Post method is mainly used at the client (Browser) side to send data to a Specified server in order to create or rewrite a particular resource/data.\n",
    "This data sent to the server is stored in the request body of the HTTP request.\n",
    "Post method eventually leads to the creation of a new resource or updating an existing one. \n",
    "Due to this dynamic use, it is one of the most used HTTP methods.\n",
    "It is not one of the most secure methods because the data that is been sent is included in the body of the request and not in the URL. \n",
    "Post request is better for the data which needs to be secure (It means the data which contains images or word documents)."
   ]
  },
  {
   "cell_type": "code",
   "execution_count": null,
   "id": "609bcb7b-d3fb-4a77-a0f0-1eebd0d16de0",
   "metadata": {},
   "outputs": [],
   "source": [
    "<!DOCTYPE html>\n",
    "<html>\n",
    "\n",
    "<body>\n",
    "\t<form action=\"postmethod.php\" method=\"post\">\n",
    "\t\tUsername: <input type=\"text\"\n",
    "\t\t\tname=\"username\" /> <br>\n",
    "\n",
    "\t\tArea of Study: <input\n",
    "\t\t\ttype=\"text\" name=\"area\" /> <br>\n",
    "\n",
    "\t\t<input type=\"submit\" />\n",
    "\t</form>\n",
    "</body>\n",
    "\n",
    "</html>\n"
   ]
  },
  {
   "cell_type": "raw",
   "id": "e40bc720-90c2-4bda-902a-d4c01027bdb8",
   "metadata": {},
   "source": [
    "Q2. Why is request used in Flask?"
   ]
  },
  {
   "cell_type": "raw",
   "id": "ec89594e-7563-40df-9f3d-11aabf920772",
   "metadata": {},
   "source": [
    "The Request, in Flask, is an object that contains all the data sent from the Client to Server. \n",
    "This data can be recovered using the GET/POST Methods. \n",
    "POST is used when your application expects user input to be received by command or an HTTP request, while GET gets all the information before it even has a chance for submission."
   ]
  },
  {
   "cell_type": "code",
   "execution_count": null,
   "id": "51ddd31d-8141-4e6d-b758-f7dbdb2ec523",
   "metadata": {},
   "outputs": [],
   "source": [
    "def generate_report(year):\n",
    "    format = request.args.get('format')\n",
    "    ...\n",
    "\n",
    "with app.test_request_context(\n",
    "        '/make_report/2017', data={'format': 'short'}):\n",
    "    generate_report()"
   ]
  },
  {
   "cell_type": "raw",
   "id": "63daf782-bbd4-41d6-b609-52ecc806111b",
   "metadata": {},
   "source": [
    "Q3. Why is redirect() used in Flask?"
   ]
  },
  {
   "cell_type": "raw",
   "id": "6601d47d-6cb4-4681-bb69-00c89eb71447",
   "metadata": {},
   "source": [
    "The redirect function is very useful in Flask because it allows you to tell your app which URL it should go to when a certain action is performed by an end-user.\n",
    "Redirects are also useful for managing URLs in your application."
   ]
  },
  {
   "cell_type": "raw",
   "id": "071b50c1-d0dd-42eb-ab3e-14ae5589c32e",
   "metadata": {},
   "source": [
    "Redirect Function in Flask\n",
    "A redirect is used in the Flask class to send the user to a particular URL with the status code.\n",
    "conversely, this status code additionally identifies the issue.\n",
    "When we access a website, our browser sends a request to the server, and the server replies with what is known as the HTTP status code, which is a three-digit number.\n",
    "\n",
    "Syntax of Redirect\n",
    "Syntax: flask.redirect(location,code=302)\n",
    "\n",
    "Parameters:\n",
    "\n"
   ]
  },
  {
   "cell_type": "code",
   "execution_count": null,
   "id": "2a54b7fd-f25f-46f5-a403-55aaa6982627",
   "metadata": {},
   "outputs": [],
   "source": [
    "Q4. What are templates in Flask? Why is the render_template() function used?"
   ]
  },
  {
   "cell_type": "code",
   "execution_count": null,
   "id": "18c828cb-a4b8-4939-86a1-c62078800572",
   "metadata": {},
   "outputs": [],
   "source": [
    "Templates\n",
    "A template is just a text file which contains static HTML code as well as some special markup denoting dynamic content that will be known at the time of the request.\n",
    "The process which replaces the dynamic markup and generates flat HTML page is known as template rendering. \n",
    "Flask comes bundled with a template engine called Jinja which does the actual job of parsing templates and converting them to flat HTML page.\n",
    "\n",
    "Rendering templates using render_template() \n",
    "app = Flask(__name__, template_folder=\"jinja_templates\")\n",
    "\n",
    "flask_app/templates/index.html\n",
    "\n",
    "<!DOCTYPE html>\n",
    "<html lang=\"en\">\n",
    "<head>\n",
    "    <meta charset=\"UTF-8\">\n",
    "    <title>Title</title>\n",
    "</head>\n",
    "<body>\n",
    "\n",
    "    <p>Name: {{ name }}</p>\n",
    "\n",
    "</body>\n",
    "</html>\n"
   ]
  },
  {
   "cell_type": "raw",
   "id": "b92acff5-f10c-4d21-bd9b-e5f358201dad",
   "metadata": {},
   "source": [
    "Q5. Create a simple API. Use Postman to test it. Attach the screenshot of the output in the Jupyter Notebook?"
   ]
  }
 ],
 "metadata": {
  "kernelspec": {
   "display_name": "Python 3 (ipykernel)",
   "language": "python",
   "name": "python3"
  },
  "language_info": {
   "codemirror_mode": {
    "name": "ipython",
    "version": 3
   },
   "file_extension": ".py",
   "mimetype": "text/x-python",
   "name": "python",
   "nbconvert_exporter": "python",
   "pygments_lexer": "ipython3",
   "version": "3.10.8"
  }
 },
 "nbformat": 4,
 "nbformat_minor": 5
}

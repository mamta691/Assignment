{
 "cells": [
  {
   "cell_type": "code",
   "execution_count": 1,
   "id": "09b4b912-ebf1-4793-bdc5-c6f6e5f092d5",
   "metadata": {},
   "outputs": [],
   "source": [
    "#Q1. Explain why we have to use the Exception class while creating a Custom Exception.\n",
    "#Ans.\n",
    "#When creating a custom exception in Python, we typically create a new class that inherits from the built-in Exception class.\n",
    "#using the Exception class as the base class for custom exceptions is necessary to ensure that our custom exception is a proper exception object that can be raised and caught like any other exception, \n",
    "#and it allows us to define additional attributes and methods specific to our use case."
   ]
  },
  {
   "cell_type": "markdown",
   "id": "5f78a4b4-7731-4778-9824-d2888b559529",
   "metadata": {},
   "source": [
    "#Q2. Write a python program to print Python Exception Hierarchy.\n",
    "#Ans.\n",
    "def print_exception_hierarchy(exception_class, indent=0):\n",
    "    print(' ' * indent, exception_class.__name__)\n",
    "    for subclass in exception_class.__subclasses__():\n",
    "        print_exception_hierarchy(subclass, indent + 2)\n",
    "\n",
    "print_exception_hierarchy(Exception)"
   ]
  },
  {
   "cell_type": "code",
   "execution_count": 3,
   "id": "a6af0ea4-e7d0-4b54-a681-2464a3d26526",
   "metadata": {},
   "outputs": [
    {
     "name": "stdout",
     "output_type": "stream",
     "text": [
      "Error: division by zero\n"
     ]
    }
   ],
   "source": [
    "#Q3. What errors are defined in the ArithmeticError class? Explain any two with an example.\n",
    "#Ans.\n",
    "#The ArithmeticError is a built-in class in Python that serves as a base class for several specific arithmetic-related exception classes.\n",
    "#ZeroDivisionError: Raised when attempting to divide a number by zero.\n",
    "a = 10\n",
    "b = 0\n",
    "try:\n",
    "    c = a / b\n",
    "except ZeroDivisionError as e:\n",
    "    print(f\"Error: {e}\")\n",
    "\n",
    "#OverflowError: Raised when a calculation exceeds the maximum representable value for a numeric type.\n",
    "import sys\n",
    "a = sys.maxsize\n",
    "b = 2\n",
    "try:\n",
    "    c = a * b\n",
    "except OverflowError as e:\n",
    "    print(f\"Error: {e}\")"
   ]
  },
  {
   "cell_type": "code",
   "execution_count": 5,
   "id": "acdf0764-1602-41e4-b8d9-90bbfc407893",
   "metadata": {},
   "outputs": [
    {
     "name": "stdout",
     "output_type": "stream",
     "text": [
      "Error: 'd'\n",
      "Error: list index out of range\n"
     ]
    }
   ],
   "source": [
    "#Q4. Why LookupError class is used? Explain with an example KeyError and IndexError.\n",
    "#Ans.\n",
    "#The LookupError is a built-in class in Python that serves as a base class for several specific exceptions that are raised when an index or key used to access a collection or mapping is invalid.\n",
    "\n",
    "#The KeyError is a subclass of the LookupError class and is raised when an attempt is made to access a key that does not exist in a dictionary.\n",
    "d = {'a': 1, 'b': 2, 'c': 3}\n",
    "try:\n",
    "    print(d['d'])\n",
    "except KeyError as e:\n",
    "    print(f\"Error: {e}\")\n",
    "\n",
    "#The IndexError is a subclass of the LookupError class and is raised when an attempt is made to access an index that is out of range for the collection.\n",
    "a = [1, 2, 3]\n",
    "try:\n",
    "    print(a[3])\n",
    "except IndexError as e:\n",
    "    print(f\"Error: {e}\")"
   ]
  },
  {
   "cell_type": "code",
   "execution_count": null,
   "id": "ef8c8210-7528-4b34-bc9c-fa46d4564ceb",
   "metadata": {},
   "outputs": [],
   "source": [
    "#Q5. Explain ImportError. What is ModuleNotFoundError?\n",
    "#Ans.\n",
    "#ImportError is a built-in exception class in Python that is raised when a module or package cannot be imported. \n",
    "#The ModuleNotFoundError is a subclass of ImportError and provides a more specific error message.\n",
    "\n",
    "\n",
    "\n",
    "#Q6. List down some best practices for exception handling in python.\n",
    "#Ans:\n",
    "#use always a specific exception\n",
    "#print always a valid msg\n",
    "#always try to log \n",
    "#always avoid to write a multiple exception handling \n",
    "#prepare a proper documnetation\n",
    "#cleanup all the resources "
   ]
  }
 ],
 "metadata": {
  "kernelspec": {
   "display_name": "Python 3 (ipykernel)",
   "language": "python",
   "name": "python3"
  },
  "language_info": {
   "codemirror_mode": {
    "name": "ipython",
    "version": 3
   },
   "file_extension": ".py",
   "mimetype": "text/x-python",
   "name": "python",
   "nbconvert_exporter": "python",
   "pygments_lexer": "ipython3",
   "version": "3.10.8"
  }
 },
 "nbformat": 4,
 "nbformat_minor": 5
}

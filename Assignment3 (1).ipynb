{
 "cells": [
  {
   "cell_type": "markdown",
   "id": "bcf6dfad-7af8-43ef-80e2-6a0391f445d0",
   "metadata": {},
   "source": [
    "Q1. Create a python program to sort the given list of tuples based on integer value using a lambda function?\n",
    "  [('Sachin Tendulkar ',34357),('Ricky Ponting',27483),('Jack Kallis',25534),('Virat Kohli',24936)]"
   ]
  },
  {
   "cell_type": "code",
   "execution_count": 1,
   "id": "42fe02f3-9344-47ff-9480-5038ef9df952",
   "metadata": {},
   "outputs": [
    {
     "name": "stdout",
     "output_type": "stream",
     "text": [
      "sorting the list of given list..:\n",
      "[('Virat Kohli', 24936), ('Jack Kallis', 25534), ('Ricky Ponting', 27483), ('Sachin Tendulkar ', 34357)]\n"
     ]
    }
   ],
   "source": [
    "str=[('Sachin Tendulkar ',34357),('Ricky Ponting',27483),('Jack Kallis',25534),('Virat Kohli',24936)]\n",
    "str.sort(key=lambda x:x[1])\n",
    "print(\"sorting the list of given list..:\")\n",
    "print(str)"
   ]
  },
  {
   "cell_type": "markdown",
   "id": "3f60147a-4628-46b7-bc55-4180a1dbc9d7",
   "metadata": {},
   "source": [
    "Q2.Write a python program to find squares of all the numbers in the given list of integers using lambda and map functions?\n",
    "[1,2,3,4,5,6,7,8,9,10]\n"
   ]
  },
  {
   "cell_type": "code",
   "execution_count": 14,
   "id": "07f248e0-aa70-442c-ba8f-9fd4d29efbe7",
   "metadata": {},
   "outputs": [
    {
     "data": {
      "text/plain": [
       "[1, 4, 9, 16, 25, 36, 49, 64, 81, 100]"
      ]
     },
     "execution_count": 14,
     "metadata": {},
     "output_type": "execute_result"
    }
   ],
   "source": [
    "numbers=[1,2,3,4,5,6,7,8,9,10]\n",
    "\n",
    "list(map(lambda x:x**2,numbers))\n",
    "\n",
    "\n"
   ]
  },
  {
   "cell_type": "markdown",
   "id": "fbd3e964-4a78-4a3e-9ca5-fcd1fac414a4",
   "metadata": {},
   "source": [
    "Q3. Given string=[1,2,3,4,5,6,7,8,9,10]\n",
    "output string:['1','2','3','4','5','6','7','8','9','10']\n"
   ]
  },
  {
   "cell_type": "code",
   "execution_count": 35,
   "id": "cc6691f6-b2e1-4ab5-9a2f-b5f91bf5b5be",
   "metadata": {},
   "outputs": [
    {
     "name": "stdout",
     "output_type": "stream",
     "text": [
      "('1', '2', '3', '4', '5', '6', '7', '8', '9', '10')\n"
     ]
    }
   ],
   "source": [
    "\n",
    "s=[1,2,3,4,5,6,7,8,9,10]\n",
    "mystr=tuple(str(i) for i in s)\n",
    "print(mystr)\n",
    "\n",
    "  \n",
    "        \n",
    "    \n",
    "    "
   ]
  },
  {
   "cell_type": "markdown",
   "id": "1a6b0d31-8037-48ec-bc68-7514a1f5ece6",
   "metadata": {
    "tags": []
   },
   "source": [
    "Q4.Write a python program using reduce function to compute the product of a list containig numbers from 1 to 25?"
   ]
  },
  {
   "cell_type": "code",
   "execution_count": 4,
   "id": "59778ac5-319a-4bd3-bbce-6fd3b0dbd110",
   "metadata": {},
   "outputs": [
    {
     "name": "stdout",
     "output_type": "stream",
     "text": [
      "[1, 2, 3, 4, 5, 6, 7, 8, 9, 10, 11, 12, 13, 14, 15, 16, 17, 18, 19, 20, 21, 22, 23, 24, 25]\n"
     ]
    },
    {
     "data": {
      "text/plain": [
       "15511210043330985984000000"
      ]
     },
     "execution_count": 4,
     "metadata": {},
     "output_type": "execute_result"
    }
   ],
   "source": [
    "l=list(range(1,26))\n",
    "print(l)\n",
    "from functools import reduce\n",
    "reduce(lambda x,y:x*y,l)\n",
    "\n",
    "\n"
   ]
  },
  {
   "cell_type": "markdown",
   "id": "63a60fc3-821b-458b-9422-686adb24ab15",
   "metadata": {},
   "source": [
    "Q5.Write a python program to filter the numbers from a list that are divisible by 2 or 3 using the filter function?\n",
    "[2,3,6,9,27,60,90,120,55,46]"
   ]
  },
  {
   "cell_type": "code",
   "execution_count": 7,
   "id": "818ddb0b-b02e-4a20-81e5-00a8eee7ffb9",
   "metadata": {},
   "outputs": [
    {
     "data": {
      "text/plain": [
       "[6, 60, 90, 120]"
      ]
     },
     "execution_count": 7,
     "metadata": {},
     "output_type": "execute_result"
    }
   ],
   "source": [
    "l=[2,3,6,9,27,60,90,120,55,46]\n",
    "list(filter(lambda a: a%2==0 and a%3==0,l))\n"
   ]
  },
  {
   "cell_type": "markdown",
   "id": "17a34689-f900-43c3-b669-1abbf5d9e7bd",
   "metadata": {},
   "source": [
    "Q6.Write a python program to find palindromes in the given list of strings using labda and filter function.\n",
    "[\"python\".\"php\",\"radar\",\"aba\",\"level\"]"
   ]
  },
  {
   "cell_type": "code",
   "execution_count": 10,
   "id": "35085da6-7730-412e-8016-4c76484565ab",
   "metadata": {},
   "outputs": [
    {
     "name": "stdout",
     "output_type": "stream",
     "text": [
      "['python', 'php', 'radar', 'aba', 'level']\n",
      "['php', 'radar', 'aba', 'level']\n"
     ]
    }
   ],
   "source": [
    "l=[\"python\",\"php\",\"radar\",\"aba\",\"level\"]\n",
    "print(l)\n",
    "result=list(filter(lambda x:(x==\"\".join(reversed(x))),l))\n",
    "print(result)"
   ]
  },
  {
   "cell_type": "code",
   "execution_count": null,
   "id": "0aa724f4-0810-470b-91ee-c0d0865095b5",
   "metadata": {},
   "outputs": [],
   "source": []
  }
 ],
 "metadata": {
  "kernelspec": {
   "display_name": "Python 3 (ipykernel)",
   "language": "python",
   "name": "python3"
  },
  "language_info": {
   "codemirror_mode": {
    "name": "ipython",
    "version": 3
   },
   "file_extension": ".py",
   "mimetype": "text/x-python",
   "name": "python",
   "nbconvert_exporter": "python",
   "pygments_lexer": "ipython3",
   "version": "3.10.8"
  }
 },
 "nbformat": 4,
 "nbformat_minor": 5
}

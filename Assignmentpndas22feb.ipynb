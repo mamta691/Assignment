{
 "cells": [
  {
   "cell_type": "raw",
   "id": "6db5eec7-ce41-4d7d-9e1c-b48d98a9076e",
   "metadata": {},
   "source": [
    "Q1. Create a Pandas Series that contains the following data: 4, 8, 15, 16, 23, and 42. Then, print the series.?"
   ]
  },
  {
   "cell_type": "code",
   "execution_count": 1,
   "id": "800f2358-0fac-4dc2-94a6-091bf84698c2",
   "metadata": {},
   "outputs": [],
   "source": [
    "import pandas as pd"
   ]
  },
  {
   "cell_type": "code",
   "execution_count": 2,
   "id": "75afdfa9-4f10-47a2-b878-867cd84dcc9c",
   "metadata": {},
   "outputs": [],
   "source": [
    "s=pd.Series([4,4,15,16,23,42],name='numbers')"
   ]
  },
  {
   "cell_type": "code",
   "execution_count": 3,
   "id": "e4db8af2-ea27-4cc4-ad6d-18de1a566e29",
   "metadata": {},
   "outputs": [
    {
     "data": {
      "text/plain": [
       "0     4\n",
       "1     4\n",
       "2    15\n",
       "3    16\n",
       "4    23\n",
       "5    42\n",
       "Name: numbers, dtype: int64"
      ]
     },
     "execution_count": 3,
     "metadata": {},
     "output_type": "execute_result"
    }
   ],
   "source": [
    "s"
   ]
  },
  {
   "cell_type": "raw",
   "id": "58cb5e6c-fa19-473b-aa1c-7bbad1ccae52",
   "metadata": {},
   "source": [
    "Q2. Create a variable of list type containing 10 elements in it, and apply pandas.Series function on the\n",
    "variable print it?"
   ]
  },
  {
   "cell_type": "code",
   "execution_count": 4,
   "id": "6e93db51-df1c-46ef-b544-7262369417a9",
   "metadata": {},
   "outputs": [],
   "source": [
    "numbers=pd.Series(list(range(1,11)))"
   ]
  },
  {
   "cell_type": "code",
   "execution_count": 5,
   "id": "28823139-06da-49f9-947b-2f3f4b95b291",
   "metadata": {},
   "outputs": [
    {
     "data": {
      "text/plain": [
       "0     1\n",
       "1     2\n",
       "2     3\n",
       "3     4\n",
       "4     5\n",
       "5     6\n",
       "6     7\n",
       "7     8\n",
       "8     9\n",
       "9    10\n",
       "dtype: int64"
      ]
     },
     "execution_count": 5,
     "metadata": {},
     "output_type": "execute_result"
    }
   ],
   "source": [
    "numbers"
   ]
  },
  {
   "cell_type": "raw",
   "id": "7067c513-7be6-4a64-82d7-607ae960440f",
   "metadata": {},
   "source": [
    "Q3. Create a Pandas DataFrame that contains the following data:\n",
    "\n",
    "Then, print the DataFrame?"
   ]
  },
  {
   "cell_type": "code",
   "execution_count": 6,
   "id": "b7ac8d12-95c8-4633-b213-3fc573d4385a",
   "metadata": {},
   "outputs": [],
   "source": [
    "df=pd.DataFrame({'Name':['Alice','Bob','Claire'],'Age':[25,30,26],'Gender':['Female','Male','Female']})"
   ]
  },
  {
   "cell_type": "code",
   "execution_count": 7,
   "id": "396b347f-9888-4050-82b8-3e6aeb3fc3f8",
   "metadata": {},
   "outputs": [
    {
     "data": {
      "text/html": [
       "<div>\n",
       "<style scoped>\n",
       "    .dataframe tbody tr th:only-of-type {\n",
       "        vertical-align: middle;\n",
       "    }\n",
       "\n",
       "    .dataframe tbody tr th {\n",
       "        vertical-align: top;\n",
       "    }\n",
       "\n",
       "    .dataframe thead th {\n",
       "        text-align: right;\n",
       "    }\n",
       "</style>\n",
       "<table border=\"1\" class=\"dataframe\">\n",
       "  <thead>\n",
       "    <tr style=\"text-align: right;\">\n",
       "      <th></th>\n",
       "      <th>Name</th>\n",
       "      <th>Age</th>\n",
       "      <th>Gender</th>\n",
       "    </tr>\n",
       "  </thead>\n",
       "  <tbody>\n",
       "    <tr>\n",
       "      <th>0</th>\n",
       "      <td>Alice</td>\n",
       "      <td>25</td>\n",
       "      <td>Female</td>\n",
       "    </tr>\n",
       "    <tr>\n",
       "      <th>1</th>\n",
       "      <td>Bob</td>\n",
       "      <td>30</td>\n",
       "      <td>Male</td>\n",
       "    </tr>\n",
       "    <tr>\n",
       "      <th>2</th>\n",
       "      <td>Claire</td>\n",
       "      <td>26</td>\n",
       "      <td>Female</td>\n",
       "    </tr>\n",
       "  </tbody>\n",
       "</table>\n",
       "</div>"
      ],
      "text/plain": [
       "     Name  Age  Gender\n",
       "0   Alice   25  Female\n",
       "1     Bob   30    Male\n",
       "2  Claire   26  Female"
      ]
     },
     "execution_count": 7,
     "metadata": {},
     "output_type": "execute_result"
    }
   ],
   "source": [
    "df.head()"
   ]
  },
  {
   "cell_type": "raw",
   "id": "8f4ea097-17af-4f04-a9fa-89371602b16b",
   "metadata": {},
   "source": [
    "Q4. What is ‘DataFrame’ in pandas and how is it different from pandas.series? Explain with an example?"
   ]
  },
  {
   "cell_type": "raw",
   "id": "6078a8d1-b64a-4de1-b6ae-9fa58e3ba2a0",
   "metadata": {},
   "source": [
    "Dataframe can be called as a collections of Series, having index values, Series is just like a one Diamensional array."
   ]
  },
  {
   "cell_type": "code",
   "execution_count": 8,
   "id": "dd17ec68-f1a0-4065-8ac7-d82c6d1cf729",
   "metadata": {},
   "outputs": [
    {
     "name": "stdout",
     "output_type": "stream",
     "text": [
      "data type <class 'pandas.core.frame.DataFrame'>\n",
      "     Name  Age  Gender\n",
      "0   Alice   25  Female\n",
      "1     Bob   30    Male\n",
      "2  Claire   26  Female\n"
     ]
    }
   ],
   "source": [
    "df=pd.DataFrame({'Name':['Alice','Bob','Claire'],'Age':[25,30,26],'Gender':['Female','Male','Female']})\n",
    "print('data type',type(df))\n",
    "print(df.head())"
   ]
  },
  {
   "cell_type": "code",
   "execution_count": 9,
   "id": "f25c8b5a-abe1-4567-a817-77a5e766c1c1",
   "metadata": {},
   "outputs": [],
   "source": [
    "series=df['Name']\n"
   ]
  },
  {
   "cell_type": "code",
   "execution_count": 10,
   "id": "d64a034f-e2b2-4026-915f-669e55faee9d",
   "metadata": {},
   "outputs": [
    {
     "name": "stdout",
     "output_type": "stream",
     "text": [
      "<class 'pandas.core.series.Series'>\n",
      "0     Alice\n",
      "1       Bob\n",
      "2    Claire\n",
      "Name: Name, dtype: object\n"
     ]
    }
   ],
   "source": [
    "print(type(series))\n",
    "print(series)"
   ]
  },
  {
   "cell_type": "code",
   "execution_count": 11,
   "id": "78a9fe82-34d0-444c-b293-2b0b6cb42690",
   "metadata": {},
   "outputs": [],
   "source": [
    "# Q5. What are some common functions you can use to manipulate data in a Pandas DataFrame? Can\n",
    "# you give an example of when you might use one of these functions?"
   ]
  },
  {
   "cell_type": "code",
   "execution_count": 12,
   "id": "fe884f94-11b9-43d0-968b-7ea039827d41",
   "metadata": {},
   "outputs": [],
   "source": [
    "# groupby(),merge(),concat(),value_counts(),describe() these are some of the examples"
   ]
  },
  {
   "cell_type": "code",
   "execution_count": 13,
   "id": "6974990e-48dd-49da-a159-a27b6ae24d11",
   "metadata": {},
   "outputs": [],
   "source": [
    "# Q6. Which of the following is mutable in nature Series, DataFrame, Panel?"
   ]
  },
  {
   "cell_type": "code",
   "execution_count": 14,
   "id": "65cfe9d9-9f39-4e14-acf5-b33c4217eb0a",
   "metadata": {},
   "outputs": [],
   "source": [
    "# Series and DataFrame are mutable"
   ]
  },
  {
   "cell_type": "code",
   "execution_count": 15,
   "id": "74131bf0-a257-4423-9590-8d2fd29f3bdf",
   "metadata": {},
   "outputs": [],
   "source": [
    "# Q7. Create a DataFrame using multiple Series. Explain with an example"
   ]
  },
  {
   "cell_type": "code",
   "execution_count": 16,
   "id": "a8f05773-909d-4afd-bef0-9889e9bbfbab",
   "metadata": {},
   "outputs": [],
   "source": [
    "s1=pd.Series(['Shivam','Shubham','Rahha','Abhinav'],name='Employees')"
   ]
  },
  {
   "cell_type": "code",
   "execution_count": 17,
   "id": "02f7edc1-2bdd-4cff-ac5b-b6b88df80f9b",
   "metadata": {},
   "outputs": [],
   "source": [
    "s2=pd.Series(['TCS','TCS','LTIM','Infy'],name='Company')"
   ]
  },
  {
   "cell_type": "code",
   "execution_count": 18,
   "id": "8a04c201-cf5e-4475-abef-581424ffb45b",
   "metadata": {},
   "outputs": [],
   "source": [
    "s3=pd.Series(['C1','C2','C2','C4'],name='Salery_grade')"
   ]
  },
  {
   "cell_type": "code",
   "execution_count": 19,
   "id": "1293520c-96bf-42e7-9f14-69fd75449693",
   "metadata": {},
   "outputs": [],
   "source": [
    "df=pd.DataFrame({'Employees':s1,'Company':s2,'Salery_grade':s3})"
   ]
  },
  {
   "cell_type": "code",
   "execution_count": 20,
   "id": "e12af84a-64b9-45b8-aa3f-e166d1099694",
   "metadata": {},
   "outputs": [
    {
     "data": {
      "text/html": [
       "<div>\n",
       "<style scoped>\n",
       "    .dataframe tbody tr th:only-of-type {\n",
       "        vertical-align: middle;\n",
       "    }\n",
       "\n",
       "    .dataframe tbody tr th {\n",
       "        vertical-align: top;\n",
       "    }\n",
       "\n",
       "    .dataframe thead th {\n",
       "        text-align: right;\n",
       "    }\n",
       "</style>\n",
       "<table border=\"1\" class=\"dataframe\">\n",
       "  <thead>\n",
       "    <tr style=\"text-align: right;\">\n",
       "      <th></th>\n",
       "      <th>Employees</th>\n",
       "      <th>Company</th>\n",
       "      <th>Salery_grade</th>\n",
       "    </tr>\n",
       "  </thead>\n",
       "  <tbody>\n",
       "    <tr>\n",
       "      <th>0</th>\n",
       "      <td>Shivam</td>\n",
       "      <td>TCS</td>\n",
       "      <td>C1</td>\n",
       "    </tr>\n",
       "    <tr>\n",
       "      <th>1</th>\n",
       "      <td>Shubham</td>\n",
       "      <td>TCS</td>\n",
       "      <td>C2</td>\n",
       "    </tr>\n",
       "    <tr>\n",
       "      <th>2</th>\n",
       "      <td>Rahha</td>\n",
       "      <td>LTIM</td>\n",
       "      <td>C2</td>\n",
       "    </tr>\n",
       "    <tr>\n",
       "      <th>3</th>\n",
       "      <td>Abhinav</td>\n",
       "      <td>Infy</td>\n",
       "      <td>C4</td>\n",
       "    </tr>\n",
       "  </tbody>\n",
       "</table>\n",
       "</div>"
      ],
      "text/plain": [
       "  Employees Company Salery_grade\n",
       "0    Shivam     TCS           C1\n",
       "1   Shubham     TCS           C2\n",
       "2     Rahha    LTIM           C2\n",
       "3   Abhinav    Infy           C4"
      ]
     },
     "execution_count": 20,
     "metadata": {},
     "output_type": "execute_result"
    }
   ],
   "source": [
    "df"
   ]
  },
  {
   "cell_type": "code",
   "execution_count": null,
   "id": "026ff9b6-53ec-49f9-9ebf-fb5aa77f272b",
   "metadata": {},
   "outputs": [],
   "source": []
  }
 ],
 "metadata": {
  "kernelspec": {
   "display_name": "Python 3 (ipykernel)",
   "language": "python",
   "name": "python3"
  },
  "language_info": {
   "codemirror_mode": {
    "name": "ipython",
    "version": 3
   },
   "file_extension": ".py",
   "mimetype": "text/x-python",
   "name": "python",
   "nbconvert_exporter": "python",
   "pygments_lexer": "ipython3",
   "version": "3.10.8"
  }
 },
 "nbformat": 4,
 "nbformat_minor": 5
}

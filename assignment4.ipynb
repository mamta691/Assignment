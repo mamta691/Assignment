{
 "cells": [
  {
   "cell_type": "markdown",
   "id": "8777c3b8-1b0f-4d09-8f7f-bc03a054a5be",
   "metadata": {},
   "source": [
    "Q1.Explain class and object with respect to object oriented programming?give a suitable example"
   ]
  },
  {
   "cell_type": "markdown",
   "id": "ffc6de27-488f-4bf6-abc6-d1ec302c10e2",
   "metadata": {},
   "source": [
    "Ans: Object-Object is an instance of a class.All data members and member functions of the class can be accessed with the help of objects.\n"
   ]
  },
  {
   "cell_type": "markdown",
   "id": "69c537f5-8b6f-42b9-a488-9f11418b0621",
   "metadata": {},
   "source": [
    "Class-It is the blueprint of any object. A class is the building block that leads to object oriented programming."
   ]
  },
  {
   "cell_type": "code",
   "execution_count": 1,
   "id": "463dba08-4cb1-4447-92b8-8979974b9ec5",
   "metadata": {},
   "outputs": [],
   "source": [
    "class pwskills:\n",
    "    def __init__(self,name,regid):\n",
    "        self.name=name\n",
    "        self.regid=regid\n",
    "    def return_details(self):\n",
    "        return self.name,self.regid\n",
    "        \n",
    "        \n",
    "    "
   ]
  },
  {
   "cell_type": "code",
   "execution_count": 2,
   "id": "6b8ad0c1-5c39-4fd4-866e-32cb2b84b206",
   "metadata": {},
   "outputs": [],
   "source": [
    "pw=pwskills(\"MAMTA\",56789)"
   ]
  },
  {
   "cell_type": "code",
   "execution_count": 3,
   "id": "8f694462-5513-41a3-a738-d6f8349398d1",
   "metadata": {},
   "outputs": [
    {
     "data": {
      "text/plain": [
       "('MAMTA', 56789)"
      ]
     },
     "execution_count": 3,
     "metadata": {},
     "output_type": "execute_result"
    }
   ],
   "source": [
    "pw.return_details()"
   ]
  },
  {
   "cell_type": "markdown",
   "id": "bf36e9b2-ced5-4d7b-a1f7-c514c8a8577f",
   "metadata": {},
   "source": [
    "Q2.Name the four pillars of oops?"
   ]
  },
  {
   "cell_type": "markdown",
   "id": "c88e4484-fc5f-40f4-a30c-8c8f36185d7e",
   "metadata": {},
   "source": [
    "Ans: The four pillars of oops are:\n",
    "    \n",
    "    Abstraction,\n",
    "    Encapsulation,\n",
    "    Inheritence,\n",
    "    Polymorphism"
   ]
  },
  {
   "cell_type": "markdown",
   "id": "5c3e0195-4b5c-4463-b4bf-b63e64eab78b",
   "metadata": {},
   "source": [
    "Q3.Explain why  __init__()  function is used. Give a suitable example?"
   ]
  },
  {
   "cell_type": "markdown",
   "id": "0629e360-dd16-46b2-822d-ae14ef716a94",
   "metadata": {},
   "source": [
    "Ans: __init__ is a reserved method in python classes.It is called as a constructor in object oriented terminology.\n",
    "This method is called when an object is created from a class and it allows the class to initialize the attributes of the class"
   ]
  },
  {
   "cell_type": "code",
   "execution_count": 2,
   "id": "6038b05a-e44a-4de9-b4a9-3924d652b00f",
   "metadata": {},
   "outputs": [],
   "source": [
    "class pwskills2:\n",
    "    def __init__(self,name,regid):\n",
    "        self.name=name\n",
    "        self.regid=regid\n",
    "    def return_details(self):\n",
    "        return self.name,self.regid\n",
    "        \n",
    "        \n",
    "    "
   ]
  },
  {
   "cell_type": "code",
   "execution_count": 3,
   "id": "6c736404-8e2d-4413-8fe4-5f9a4bb07c77",
   "metadata": {},
   "outputs": [],
   "source": [
    "pw1=pwskills2(\"mamta\",4567878)"
   ]
  },
  {
   "cell_type": "code",
   "execution_count": 5,
   "id": "37c3265e-99cb-4e4f-b830-b0ebeb68c5a5",
   "metadata": {},
   "outputs": [
    {
     "data": {
      "text/plain": [
       "('mamta', 4567878)"
      ]
     },
     "execution_count": 5,
     "metadata": {},
     "output_type": "execute_result"
    }
   ],
   "source": [
    "pw1.return_details()"
   ]
  },
  {
   "cell_type": "markdown",
   "id": "7fc45f0c-55a4-499a-a12f-1b0cede3e7c3",
   "metadata": {},
   "source": [
    "Q4.Why self is used in oops?"
   ]
  },
  {
   "cell_type": "markdown",
   "id": "26c051b8-7e60-4a52-9842-80af3cb8cdc5",
   "metadata": {},
   "source": [
    "Ans: The self is used to represent the instance of the class. with this keyword you can access the attributes and methos of the class\n",
    "in the python.Ith binds the attributes with the given arguments."
   ]
  },
  {
   "cell_type": "markdown",
   "id": "3d12df10-03ac-4999-9c57-70e72fc48640",
   "metadata": {},
   "source": [
    "Q5. What is inheritance? Give an example of each type of inheritence."
   ]
  },
  {
   "cell_type": "markdown",
   "id": "8146eb0e-8536-482e-b048-387b8a84cc22",
   "metadata": {},
   "source": [
    "Ans: Inheritence= It allows us to define a class that inherits all the methods and properties from another class.\n",
    "Parent class is the class being inherited from, also called base class.Child class is the class that inherites from another   \n",
    " class, called derived class."
   ]
  },
  {
   "cell_type": "markdown",
   "id": "afd8b26b-4f07-44bd-98ab-b1e1f219fadc",
   "metadata": {},
   "source": [
    "##  MULTILEVEL INHERIENCE  ##"
   ]
  },
  {
   "cell_type": "code",
   "execution_count": 6,
   "id": "cd82952d-5405-4d35-bddb-6cc82d8e9c9d",
   "metadata": {},
   "outputs": [],
   "source": [
    "class class1:\n",
    "    def class1_test1(self):\n",
    "        return \"this is my first parent class\""
   ]
  },
  {
   "cell_type": "code",
   "execution_count": 7,
   "id": "a79ad44c-aff9-4dbc-910a-aebd9e82a080",
   "metadata": {},
   "outputs": [],
   "source": [
    "class class2(class1):\n",
    "    def class2_test2(self):\n",
    "         return \"this is my second parent class\""
   ]
  },
  {
   "cell_type": "code",
   "execution_count": 8,
   "id": "5b6ab3f8-84bc-4ace-94f2-500025caf7e7",
   "metadata": {},
   "outputs": [],
   "source": [
    "class class3(class2):\n",
    "    pass"
   ]
  },
  {
   "cell_type": "code",
   "execution_count": 9,
   "id": "271ef2fe-3774-4bea-9171-f1c9ddcb3e0f",
   "metadata": {},
   "outputs": [],
   "source": [
    "cl3_obj=class3()"
   ]
  },
  {
   "cell_type": "code",
   "execution_count": 10,
   "id": "b5759a5f-3b32-477e-bd6f-611db600121c",
   "metadata": {},
   "outputs": [
    {
     "data": {
      "text/plain": [
       "'this is my first parent class'"
      ]
     },
     "execution_count": 10,
     "metadata": {},
     "output_type": "execute_result"
    }
   ],
   "source": [
    "cl3_obj.class1_test1()"
   ]
  },
  {
   "cell_type": "code",
   "execution_count": 11,
   "id": "910671b8-aa60-4400-bb68-0efcee8b5cf7",
   "metadata": {},
   "outputs": [
    {
     "data": {
      "text/plain": [
       "'this is my second parent class'"
      ]
     },
     "execution_count": 11,
     "metadata": {},
     "output_type": "execute_result"
    }
   ],
   "source": [
    "cl3_obj.class2_test2()"
   ]
  },
  {
   "cell_type": "markdown",
   "id": "f258ad24-80af-4639-8121-fad5ee6ed933",
   "metadata": {
    "tags": []
   },
   "source": [
    "##  MULTIPLE INHERITENCE  ##"
   ]
  },
  {
   "cell_type": "code",
   "execution_count": 4,
   "id": "3466b656-6dfe-4a05-9bbd-c4addc23083c",
   "metadata": {},
   "outputs": [],
   "source": [
    "class c1:\n",
    "    def test(self):\n",
    "        return \"this is multiple inheritence\""
   ]
  },
  {
   "cell_type": "code",
   "execution_count": 5,
   "id": "1ac1323c-7323-4d14-b9a6-ffa95efa4546",
   "metadata": {},
   "outputs": [],
   "source": [
    "class c2:\n",
    "    def test1(self):\n",
    "        return \"this is 2nd class\""
   ]
  },
  {
   "cell_type": "code",
   "execution_count": 6,
   "id": "4cb49d37-049a-4579-827f-c19112cf689b",
   "metadata": {},
   "outputs": [],
   "source": [
    "class c3(c1,c2):\n",
    "    pass"
   ]
  },
  {
   "cell_type": "code",
   "execution_count": 7,
   "id": "f487dc97-c83c-4fea-944b-c815978cacd0",
   "metadata": {},
   "outputs": [],
   "source": [
    "class3_obj=c3()"
   ]
  },
  {
   "cell_type": "code",
   "execution_count": 8,
   "id": "80e945b6-a743-46c3-b2f7-44814c515d63",
   "metadata": {},
   "outputs": [
    {
     "data": {
      "text/plain": [
       "'this is multiple inheritence'"
      ]
     },
     "execution_count": 8,
     "metadata": {},
     "output_type": "execute_result"
    }
   ],
   "source": [
    "class3_obj.test()"
   ]
  },
  {
   "cell_type": "code",
   "execution_count": 9,
   "id": "8c8e3488-d151-4202-90f7-6fb01255a800",
   "metadata": {},
   "outputs": [
    {
     "data": {
      "text/plain": [
       "'this is 2nd class'"
      ]
     },
     "execution_count": 9,
     "metadata": {},
     "output_type": "execute_result"
    }
   ],
   "source": [
    "class3_obj.test1()"
   ]
  },
  {
   "cell_type": "code",
   "execution_count": null,
   "id": "2fb4a1ae-d8b9-4dc7-8399-3bdbf9558297",
   "metadata": {},
   "outputs": [],
   "source": []
  }
 ],
 "metadata": {
  "kernelspec": {
   "display_name": "Python 3 (ipykernel)",
   "language": "python",
   "name": "python3"
  },
  "language_info": {
   "codemirror_mode": {
    "name": "ipython",
    "version": 3
   },
   "file_extension": ".py",
   "mimetype": "text/x-python",
   "name": "python",
   "nbconvert_exporter": "python",
   "pygments_lexer": "ipython3",
   "version": "3.10.8"
  }
 },
 "nbformat": 4,
 "nbformat_minor": 5
}

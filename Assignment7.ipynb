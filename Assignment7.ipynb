{
 "cells": [
  {
   "cell_type": "markdown",
   "id": "1a01a9c2-5fe8-4bc4-ad98-f1a916d520c6",
   "metadata": {},
   "source": [
    "Q1.Create a function which will take a list as an argument and return the product of all the numbers after creating a flat list.\n",
    "  Use the below given list as an argument for your function?"
   ]
  },
  {
   "cell_type": "code",
   "execution_count": 1,
   "id": "6f70557a-9dc1-4999-8658-e05325481a3e",
   "metadata": {},
   "outputs": [
    {
     "name": "stdout",
     "output_type": "stream",
     "text": [
      "[1, 2, 3, 4, 44, 55, 66, 34, 56, 78, 89, 34, 1, 2, 3, 1, 4, 34, 55, 67, 78, 89, 45, 21, 61, 34, 56]\n"
     ]
    }
   ],
   "source": [
    "def test(list1):\n",
    "    list2=[]\n",
    "    for i in list1:\n",
    "        if type(i)==int:\n",
    "            list2.append(i)\n",
    "        elif type(i)==list:\n",
    "            for j in i:\n",
    "                if type(j)==int:\n",
    "                    list2.append(j)\n",
    "        elif type(i)==set:\n",
    "            for j in i:\n",
    "                if type(j)==int:\n",
    "                    list2.append(j)\n",
    "        elif type(i)==dict:\n",
    "            for j in i.keys():\n",
    "                if type(j)==int:\n",
    "                    list2.append(j) \n",
    "            for j in i.values():\n",
    "                if type(j)==int:\n",
    "                    list2.append(j)\n",
    "                elif type(j)==list:\n",
    "                    for i in j:\n",
    "                        list2.append(i)\n",
    "                elif type(j)==tuple:\n",
    "                    for i in j:\n",
    "                        list2.append(i)        \n",
    "        elif type(i)==tuple:\n",
    "                    for j in i:\n",
    "                        list2.append(j)       \n",
    "    return list2\n",
    "a=test([1,2,3,4,[44,55,66,True],False,(34,56,78,89,34),{1,2,3,3,2,1},{1:34,\"key2\":[55,67,78,89],4:(45,21,61,34)},[56,\"data science\"],\"machine learning\"])\n",
    "print(a)            "
   ]
  },
  {
   "cell_type": "markdown",
   "id": "7a430ef2-ae4d-412d-8a1d-64279196bf3b",
   "metadata": {},
   "source": [
    "        Q2. Write a python program to encrypting a message. The logic of encryption should be such that for a output should be z,\n",
    "    for b output should be y, for c output should be x respectively also, the whitespace should be replaced with a dollar sign\n",
    "    keep the punctuation marks unchanged.\n",
    "    input: I want to become a Data Scientist.\n",
    "      Encrpt the above input sentence using the program you just created."
   ]
  },
  {
   "cell_type": "code",
   "execution_count": 3,
   "id": "33a27b51-d422-4fa7-9896-46ea06c6ad84",
   "metadata": {},
   "outputs": [
    {
     "name": "stdin",
     "output_type": "stream",
     "text": [
      "Enter the message 34\n"
     ]
    },
    {
     "name": "stdout",
     "output_type": "stream",
     "text": [
      "¨§\n"
     ]
    }
   ],
   "source": [
    "message=input(\"Enter the message\").lower()\n",
    "l1=[]\n",
    "for i in message:\n",
    "    if ord(i)==32:\n",
    "        l1.append(\"$\")\n",
    "    character=122-(ord(i)-97)\n",
    "    new_char=chr(character)\n",
    "    l1.append(new_char)\n",
    "encrypted_message=\"\"\n",
    "for i in l1:\n",
    "    encrypted_message+=i\n",
    "print(encrypted_message)\n",
    "\n",
    "    \n",
    "    \n",
    "    \n"
   ]
  },
  {
   "cell_type": "code",
   "execution_count": 5,
   "id": "a66a00dc-2028-4004-8f5b-321ef5d31c67",
   "metadata": {},
   "outputs": [
    {
     "data": {
      "text/plain": [
       "'\\x86'"
      ]
     },
     "execution_count": 5,
     "metadata": {},
     "output_type": "execute_result"
    }
   ],
   "source": [
    "chr(56+78)"
   ]
  },
  {
   "cell_type": "code",
   "execution_count": null,
   "id": "0640785a-1bed-4e5a-bce0-dab2152c91a5",
   "metadata": {},
   "outputs": [],
   "source": []
  }
 ],
 "metadata": {
  "kernelspec": {
   "display_name": "Python 3 (ipykernel)",
   "language": "python",
   "name": "python3"
  },
  "language_info": {
   "codemirror_mode": {
    "name": "ipython",
    "version": 3
   },
   "file_extension": ".py",
   "mimetype": "text/x-python",
   "name": "python",
   "nbconvert_exporter": "python",
   "pygments_lexer": "ipython3",
   "version": "3.10.8"
  }
 },
 "nbformat": 4,
 "nbformat_minor": 5
}

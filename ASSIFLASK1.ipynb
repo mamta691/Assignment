{
 "cells": [
  {
   "cell_type": "markdown",
   "id": "b7e740ad-50fd-402e-bc12-2433996f9785",
   "metadata": {},
   "source": [
    "Q1. What is Flask Framework? What are the advantages of Flask Framework?"
   ]
  },
  {
   "cell_type": "markdown",
   "id": "7874eb62-ed0f-4f20-8f5a-010c7d0ac5ca",
   "metadata": {},
   "source": [
    "Flask is a popular web framework for building web applications using Python. \n",
    "It is a lightweight and modular framework that is easy to use and provides flexibility for developers.\n",
    "Some of the advantages of using Flask are:\n",
    "\n",
    "Lightweight: Flask is a lightweight framework that does not come with any pre-built components, allowing developers to choose the components they need and avoiding any unnecessary bloat in their application.\n",
    "\n",
    "Easy to use: Flask is easy to learn and use, making it an excellent choice for beginners. It also has a simple and intuitive API that allows developers to quickly build web applications.\n",
    "\n",
    "Flexible: Flask allows developers to customize and extend the framework according to their needs. It does not impose any specific architecture or directory structure, giving developers more freedom in building their applications.\n",
    "\n",
    "Built-in development server: Flask comes with a built-in development server, making it easy to test and debug applications without the need for additional tools.\n",
    "\n",
    "Large community: Flask has a large community of developers who contribute to the framework's development and provide support to other developers. This community provides a wealth of resources, such as plugins, extensions, and documentation, that can help developers to build applications more quickly and efficiently.\n",
    "\n",
    "Overall, Flask is a powerful framework that is easy to use, flexible, and customizable. It is an excellent choice for building web applications, particularly for smaller projects or prototypes."
   ]
  },
  {
   "cell_type": "markdown",
   "id": "6f7adeaa-b129-449c-a8c8-3cb981b2664d",
   "metadata": {},
   "source": [
    "Q2. Create a simple Flask application to display ‘Hello World!!’. Attach the screenshot of the output in\n",
    "Jupyter Notebook?"
   ]
  },
  {
   "cell_type": "code",
   "execution_count": null,
   "id": "a10b179d-62e4-4a57-8c31-3fccfebbaae4",
   "metadata": {},
   "outputs": [],
   "source": [
    "from flask import Flask\n",
    "\n",
    "app = Flask(__name__)\n",
    "\n",
    "@app.route(\"/\")\n",
    "def hello_world():\n",
    "    return '<h1>Hello World!!</h1>'\n",
    "\n",
    "if __name__==\"__main__\":\n",
    "    app.run(host=\"0.0.0.0\")\n"
   ]
  },
  {
   "cell_type": "code",
   "execution_count": null,
   "id": "04b167c9-0dc1-41f7-af07-6c80bec2a9c8",
   "metadata": {},
   "outputs": [],
   "source": [
    "Q3. What is App routing in Flask? Why do we use app routes?"
   ]
  },
  {
   "cell_type": "markdown",
   "id": "e2f11d9f-98c3-427c-8968-95a8d3c7b78f",
   "metadata": {},
   "source": [
    "App routing in Flask refers to the process of mapping URLs to functions in a Flask application. When a user makes a request to a URL in a Flask application, Flask uses the app routing mechanism to determine which function should be executed to handle the request.\n",
    "\n",
    "App routes are essential in Flask because they enable developers to create multiple pages or endpoints for their web application. Each app route defines a unique URL, and when a user visits that URL, Flask calls the function that is associated with the route to generate the HTML content to be displayed on the page.\n",
    "\n",
    "For example, consider a Flask application that has two pages, one to display a login form and another to display the user's profile information. In this case, the login page might have the URL '/login', and the profile page might have the URL '/profile'. By using app routes, the developer can define functions that will handle requests made to these URLs, making it easy to manage the logic for each page in a separate function.\n",
    "\n",
    "App routes can also be used to define dynamic URLs that can accept parameters, such as user IDs or product names. By using dynamic routes, a developer can create a single function to handle requests to multiple URLs, reducing the amount of duplicated code and making the application more maintainable.\n",
    "\n",
    "Overall, app routing is a crucial part of building web applications in Flask, as it enables developers to create flexible and dynamic web applications that can handle multiple URLs and serve content tailored to the user's request."
   ]
  },
  {
   "cell_type": "markdown",
   "id": "2d9077ad-9e3f-43c5-8ad5-f1012ff9fb4f",
   "metadata": {},
   "source": [
    "Q4. Create a “/welcome” route to display the welcome message “Welcome to ABC Corporation” and a “/”\n",
    "route to show the following details:\n",
    "Company Name: ABC Corporation\n",
    "Location: India\n",
    "Contact Detail: 999-999-9999"
   ]
  },
  {
   "cell_type": "markdown",
   "id": "18dc5358-7d8e-45a5-b658-c0f41c94037c",
   "metadata": {},
   "source": [
    "from flask import Flask\n",
    "\n",
    "app = Flask(__name__)\n",
    "\n",
    "@app.route(\"/\")\n",
    "def company_details():\n",
    "    return \"<h2>Company Name: ABC Corporation</h2><br><h2>Location: India</h2><br><h2>Contact Detail: 999-999-9999</h2>\"\n",
    "\n",
    "@app.route(\"/welcome\")\n",
    "def welcome_message():\n",
    "    return \"<h1>Welcome to ABC Corporation</h1>\"\n",
    "\n",
    "if __name__ == \"__main__\":\n",
    "    app.run(host = \"0.0.0.0\")"
   ]
  },
  {
   "cell_type": "markdown",
   "id": "13e5c4cc-746e-4166-a9d7-ded0ae4dcef4",
   "metadata": {},
   "source": [
    "Welcome to ABC Corporation..."
   ]
  },
  {
   "cell_type": "markdown",
   "id": "829e914d-b31d-4806-be72-dbc79f94cd5e",
   "metadata": {},
   "source": [
    "Q5. What function is used in Flask for URL Building? Write a Python code to demonstrate the working of the\n",
    "url_for() function?"
   ]
  },
  {
   "cell_type": "markdown",
   "id": "92d869bc-0a0a-4299-8602-6edfa5a0bc20",
   "metadata": {},
   "source": [
    "In Flask, the url_for() function is used for URL building. This function takes the endpoint name and any arguments and returns a URL to that endpoint. The url_for() function is useful because it generates URLs based on the routes defined in the application, which ensures that the URLs are consistent and will continue to work even if the URL scheme changes."
   ]
  },
  {
   "cell_type": "code",
   "execution_count": null,
   "id": "2d4249ad-2744-44a1-aa74-e1c39232d806",
   "metadata": {},
   "outputs": [],
   "source": [
    "from flask import Flask, url_for\n",
    "\n",
    "app = Flask(__name__)\n",
    "\n",
    "@app.route('/')\n",
    "def index():\n",
    "    return 'This is the homepage.'\n",
    "\n",
    "@app.route('/user/<username>')\n",
    "def profile(username):\n",
    "    return f'This is the profile page for {username}.'\n",
    "\n",
    "@app.route('/login')\n",
    "def login():\n",
    "    return 'Please log in.'\n",
    "\n",
    "with app.test_request_context():\n",
    "    print(url_for('index'))  # output: '/'\n",
    "    print(url_for('login'))  # output: '/login'\n",
    "    print(url_for('login', next='/'))  # output: '/login?next=%2F'\n",
    "    print(url_for('profile', username='Alice'))  # output: '/user/Alice'\n",
    " "
   ]
  }
 ],
 "metadata": {
  "kernelspec": {
   "display_name": "Python 3 (ipykernel)",
   "language": "python",
   "name": "python3"
  },
  "language_info": {
   "codemirror_mode": {
    "name": "ipython",
    "version": 3
   },
   "file_extension": ".py",
   "mimetype": "text/x-python",
   "name": "python",
   "nbconvert_exporter": "python",
   "pygments_lexer": "ipython3",
   "version": "3.10.8"
  }
 },
 "nbformat": 4,
 "nbformat_minor": 5
}
